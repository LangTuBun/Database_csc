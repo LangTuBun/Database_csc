{
 "cells": [
  {
   "cell_type": "code",
   "execution_count": 1,
   "metadata": {},
   "outputs": [],
   "source": [
    "from selenium import webdriver\n",
    "from selenium.webdriver.common.by import By\n",
    "from selenium.webdriver.common.keys import Keys\n",
    "from mylibs import *\n",
    "import pandas as pd\n",
    "import time\n",
    "from selenium.common.exceptions import NoSuchElementException"
   ]
  },
  {
   "cell_type": "code",
   "execution_count": 8,
   "metadata": {},
   "outputs": [
    {
     "name": "stdout",
     "output_type": "stream",
     "text": [
      "[('1x Túi đeo lưng/ Balo laptop Targus 15.6 TSB883 Black (Safire) (Quà tặng - logo Phong Vũ)', '1x CHUỘT VI TÍNH (MOUSE) LOGITECH M171 WIRELESS/XANH XÁM (BLUE GREY)(910-006869) (Quà tặng)', '1x Mã giảm thêm 100.000đ cho phần mềm M365 Personal hoặc Family', '1x Mã giảm thêm 150.000đ cho phần mềm Office Home và Student 2021')]\n"
     ]
    }
   ],
   "source": [
    "empty = []\n",
    "product = 'https://phongvu.vn/laptop-asus-vivobook-15x-oled-m3504ya-l1268w-amd-ryzen-5-7530u-den--s240302749'\n",
    "Check_QuaTang = webdriver.Edge()\n",
    "Check_QuaTang.get(product)\n",
    "quatang = Check_QuaTang.find_elements(By.XPATH, '//span[@class=\"css-f0vs3e\"]')\n",
    "items = ()\n",
    "for i in quatang:\n",
    "    new_gift = i.find_element(By.XPATH, './span[@class=\"css-1lfpde8\"]').text\n",
    "    items = items + (new_gift,) \n",
    "empty.append(items)\n",
    "Check_QuaTang.close()\n",
    "print(empty)   "
   ]
  }
 ],
 "metadata": {
  "kernelspec": {
   "display_name": "Python 3",
   "language": "python",
   "name": "python3"
  },
  "language_info": {
   "codemirror_mode": {
    "name": "ipython",
    "version": 3
   },
   "file_extension": ".py",
   "mimetype": "text/x-python",
   "name": "python",
   "nbconvert_exporter": "python",
   "pygments_lexer": "ipython3",
   "version": "3.11.9"
  }
 },
 "nbformat": 4,
 "nbformat_minor": 2
}
