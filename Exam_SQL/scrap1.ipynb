{
 "cells": [
  {
   "cell_type": "code",
   "execution_count": 1,
   "metadata": {},
   "outputs": [],
   "source": [
    "from selenium import webdriver\n",
    "from selenium.webdriver.common.by import By\n",
    "from selenium.webdriver.common.keys import Keys\n",
    "from mylibs import *\n",
    "import pandas as pd\n",
    "import time\n",
    "from selenium.common.exceptions import NoSuchElementException\n",
    "from selenium.webdriver.support.ui import WebDriverWait\n",
    "from selenium.webdriver.support import expected_conditions as EC\n",
    "\n"
   ]
  },
  {
   "cell_type": "markdown",
   "metadata": {},
   "source": [
    "1. Load hết sản phẩm "
   ]
  },
  {
   "cell_type": "code",
   "execution_count": 2,
   "metadata": {},
   "outputs": [
    {
     "name": "stdout",
     "output_type": "stream",
     "text": [
      "Message: \n",
      "Stacktrace:\n",
      "\tGetHandleVerifier [0x00007FF6248B3A52+10594]\n",
      "\tMicrosoft::Applications::Events::ILogConfiguration::operator* [0x00007FF624850479+323337]\n",
      "\t(No symbol) [0x00007FF62466F16E]\n",
      "\t(No symbol) [0x00007FF6246B656E]\n",
      "\t(No symbol) [0x00007FF6246B65F5]\n",
      "\t(No symbol) [0x00007FF6246F4157]\n",
      "\t(No symbol) [0x00007FF6246D7BBF]\n",
      "\t(No symbol) [0x00007FF6246ABEDD]\n",
      "\t(No symbol) [0x00007FF6246F1B07]\n",
      "\t(No symbol) [0x00007FF6246D77E3]\n",
      "\t(No symbol) [0x00007FF6246AB3EC]\n",
      "\t(No symbol) [0x00007FF6246AA8CD]\n",
      "\t(No symbol) [0x00007FF6246AAFB1]\n",
      "\tMicrosoft::Applications::Events::EventProperty::empty [0x00007FF624A3E4F4+918756]\n",
      "\tMicrosoft::Applications::Events::EventProperty::~EventProperty [0x00007FF6247DC9BF+54575]\n",
      "\tMicrosoft::Applications::Events::EventProperty::~EventProperty [0x00007FF6247CF557+199]\n",
      "\tMicrosoft::Applications::Events::EventProperty::empty [0x00007FF624A3D27D+914029]\n",
      "\tMicrosoft::Applications::Events::ILogConfiguration::operator* [0x00007FF624857F01+354705]\n",
      "\tMicrosoft::Applications::Events::ILogConfiguration::operator* [0x00007FF6248543B4+339524]\n",
      "\tMicrosoft::Applications::Events::ILogConfiguration::operator* [0x00007FF6248544E9+339833]\n",
      "\tMicrosoft::Applications::Events::ILogConfiguration::operator* [0x00007FF62484ADAC+301116]\n",
      "\tBaseThreadInitThunk [0x00007FF88143257D+29]\n",
      "\tRtlUserThreadStart [0x00007FF88358AF28+40]\n",
      "\n"
     ]
    }
   ],
   "source": [
    "url = 'https://phongvu.vn/c/laptop'\n",
    "driver = webdriver.Edge()\n",
    "driver.get(url)\n",
    "while True:\n",
    "    try: \n",
    "        time.sleep(2)  \n",
    "\n",
    "        next_button = WebDriverWait(driver,10).until(\n",
    "            EC.element_to_be_clickable((By.XPATH, '//a[@class=\"css-b0m1yo\"][@rel = \"noopener noreferrer\"]'))\n",
    "        )\n",
    "    except Exception as e:\n",
    "        print(e)\n",
    "        break\n",
    "    else:\n",
    "        # next_button.click()\n",
    "        driver.execute_script(\"arguments[0].click();\", next_button)\n",
    "        time.sleep(2)\n",
    "\n",
    "\n"
   ]
  },
  {
   "cell_type": "markdown",
   "metadata": {},
   "source": [
    "2. Truy xuất và lưu tất cả link sản phẩm "
   ]
  },
  {
   "cell_type": "code",
   "execution_count": 4,
   "metadata": {},
   "outputs": [
    {
     "name": "stdout",
     "output_type": "stream",
     "text": [
      "851\n"
     ]
    }
   ],
   "source": [
    "# print(len(product_link_list))\n",
    "# print(len(products_list))\n",
    "list_TenSanPham = []\n",
    "list_TuGia = []\n",
    "list_DenGia = []\n",
    "list_GiaGoc = []\n",
    "list_ThuongHieu = []\n",
    "list_QuaTang = []\n",
    "# print(driver)\n",
    "products_list_TrangChu = driver.find_elements(By.XPATH, '//div[@class=\"css-13w7uog\"]')\n",
    "print(len(products_list_TrangChu))"
   ]
  },
  {
   "cell_type": "code",
   "execution_count": 5,
   "metadata": {},
   "outputs": [],
   "source": [
    "def get_TenSanPham(product):\n",
    "    try:\n",
    "        TenSanPham = product.find_element(By.XPATH, './/div[@class = \"css-1ybkowq\"]//h3[@class= \"css-1xdyrhj\"]').text\n",
    "    except NoSuchElementException :\n",
    "        TenSanPham = 'NaN'\n",
    "    else:\n",
    "        list_TenSanPham.append(TenSanPham)"
   ]
  },
  {
   "cell_type": "code",
   "execution_count": 6,
   "metadata": {},
   "outputs": [],
   "source": [
    "def get_TuGia(product):\n",
    "    try:\n",
    "        TuGia = product.find_element(By.XPATH, './/div[@class = \"css-kgkvir\"]//div[@class = \"att-product-detail-latest-price css-do31rh\"]').text\n",
    "        TuGia = int(TuGia.split('₫')[0].replace('.', ''))\n",
    "    except NoSuchElementException :\n",
    "        quit()\n",
    "    else:\n",
    "        list_TuGia.append(TuGia)"
   ]
  },
  {
   "cell_type": "code",
   "execution_count": 7,
   "metadata": {},
   "outputs": [],
   "source": [
    "def get_GiaGoc(product):\n",
    "    try:\n",
    "        GiaGoc = product.find_element(By.XPATH, './/div[@class = \"css-kgkvir\"]//div[@class= \"att-product-detail-retail-price css-18z00w6\"]').text\n",
    "        GiaGoc = int(GiaGoc.split('₫')[0].replace('.', ''))\n",
    "    except NoSuchElementException :\n",
    "        GiaGoc = int(0)\n",
    "        list_GiaGoc.append(GiaGoc)\n",
    "    else:\n",
    "        list_GiaGoc.append(GiaGoc)"
   ]
  },
  {
   "cell_type": "code",
   "execution_count": 8,
   "metadata": {},
   "outputs": [],
   "source": [
    "def get_TuGiaDenGia(product):\n",
    "    try:\n",
    "        Tu_Den_Str = product.find_element(By.XPATH, './/div[@class = \"css-1nlwixl\"]').text\n",
    "        Split = Tu_Den_Str.split('₫')[0].split('-')\n",
    "        TuGia = int(Split[0].replace('.', ''))\n",
    "        DenGia = int(Split[1].replace('.', ''))\n",
    "    except NoSuchElementException :\n",
    "        DenGia = int(0)\n",
    "        list_DenGia.append(DenGia)\n",
    "    else:\n",
    "        list_TuGia.append(TuGia)\n",
    "        list_DenGia.append(DenGia)  "
   ]
  },
  {
   "cell_type": "code",
   "execution_count": 9,
   "metadata": {},
   "outputs": [],
   "source": [
    "def get_ThuongHieu(product):\n",
    "    try:\n",
    "        ThuongHieu = product.find_element(By.XPATH, './/div[@class = \"css-68cx5s\"]//div[@class= \"product-brand-name css-90n0z6\"]').text\n",
    "    except NoSuchElementException :\n",
    "        ThuongHieu = 'NaN'\n",
    "    else:\n",
    "        list_ThuongHieu.append(ThuongHieu)"
   ]
  },
  {
   "cell_type": "code",
   "execution_count": 10,
   "metadata": {},
   "outputs": [],
   "source": [
    "def get_QuaTang(product):\n",
    "    Check_QuaTang = webdriver.Edge()\n",
    "    Check_QuaTang.get(product)\n",
    "    Check_QuaTang.minimize_window()\n",
    "    try:\n",
    "        \n",
    "        quatang_s = Check_QuaTang.find_elements(By.XPATH, '//span[@class=\"css-f0vs3e\"]')\n",
    "        items = ()\n",
    "        for quatang in quatang_s:\n",
    "            new_gift = quatang.find_element(By.XPATH, './span[@class=\"css-1lfpde8\"]').text\n",
    "            items = items + (new_gift,) \n",
    "        list_QuaTang.append(items)\n",
    "        Check_QuaTang.close()\n",
    "    except NoSuchElementException :\n",
    "        QuaTang = 'NaN'\n",
    "        list_QuaTang.append(QuaTang)\n",
    "        Check_QuaTang.close()\n"
   ]
  },
  {
   "cell_type": "markdown",
   "metadata": {},
   "source": [
    "CSV có quà"
   ]
  },
  {
   "cell_type": "code",
   "execution_count": 11,
   "metadata": {},
   "outputs": [
    {
     "name": "stdout",
     "output_type": "stream",
     "text": [
      "10\n",
      "11\n",
      "12\n",
      "13\n",
      "14\n",
      "15\n",
      "16\n",
      "17\n",
      "18\n",
      "19\n",
      "Ten san pham: (10, ['Laptop ASUS Vivobook S 14 OLED S5406MA-PP028W (Ultra 5-125H/RAM 16GB/Onboard/512GB SSD/ Windows 11)', 'Laptop HP 14s 14-em0085AU (835T8PA) (Ryzen 3 7320U/RAM 8GB/Onboard/512GB SSD/ Windows 11)', 'Laptop HP Pavilion 14-dv2072TU (7C0W1PA) (i7-1255U) (Vàng)', 'Laptop Acer Aspire 3 A315-59-51X8 (NX.K6TSV.00F) (i5-1235U) (Bạc)', 'Laptop gaming Acer Nitro 5 Tiger AN515-58-769J ( i7-12700H/RAM 8GB/RTX 3050/512GB SSD/Windows 11)', 'Laptop gaming ASUS TUF Gaming F15 - FX507ZC4-HN095W (i5-12500H/RAM 16GB/GeForce RTX 3050/512GB SSD/ Windows 11)', 'Laptop Acer Aspire 3 A315-59-381E (NX.K6TSV.006) (i3-1215U) (Bạc)', 'Laptop HP 14-ep0112TU (8C5L1PA) (i5-1335U/RAM 16GB/Onboard/512GB SSD/ Windows 11)', 'Laptop Lenovo Ideapad Slim 3 15IRH8 - 83EM003EVN (i7-13620H) (Xám)', 'Laptop gaming ASUS TUF Gaming A15 FA506NC-HN031W (Ryzen 5 7535HS/RAM 16GB/GeForce RTX 3050/1TB SSD/ Windows 11 Home)'])\n",
      "Tu Gia(10, [23490000, 8990000, 17990000, 12990000, 21490000, 20990000, 8990000, 16790000, 17990000, 19490000])\n",
      "Den Gia(10, [0, 0, 0, 0, 0, 0, 0, 0, 0, 0])\n",
      "Gia Goc(10, [25990000, 12490000, 23890000, 15490000, 31790000, 24990000, 11990000, 19590000, 18490000, 23490000])\n",
      "Thuong Hieu(10, ['ASUS', 'HP', 'HP', 'ACER', 'ACER', 'ASUS', 'ACER', 'HP', 'LENOVO', 'ASUS'])\n",
      "Qua Tang(10, [('1x Mã giảm thêm 100.000đ cho phần mềm M365 Personal hoặc Family', '1x Mã giảm thêm 150.000đ cho phần mềm Office Home và Student 2021'), ('1x Mã giảm thêm 100.000đ cho phần mềm M365 Personal hoặc Family', '1x Mã giảm thêm 150.000đ cho phần mềm Office Home và Student 2021'), (), ('1x Mã giảm thêm 100.000đ cho phần mềm M365 Personal hoặc Family', '1x Mã giảm thêm 150.000đ cho phần mềm Office Home và Student 2021'), ('1x Ba lô Acer Gaming SUV', '1x Mã giảm thêm 100.000đ cho phần mềm M365 Personal hoặc Family', '1x Mã giảm thêm 150.000đ cho phần mềm Office Home và Student 2021', '1x Mã giảm thêm 500.000đ cho RAM Laptop 8GB'), ('1x Mã giảm thêm 100.000đ cho phần mềm M365 Personal hoặc Family', '1x Mã giảm thêm 150.000đ cho phần mềm Office Home và Student 2021'), ('1x Mã giảm thêm 100.000đ cho phần mềm M365 Personal hoặc Family', '1x Mã giảm thêm 150.000đ cho phần mềm Office Home và Student 2021'), ('1x Mã giảm thêm 100.000đ cho phần mềm M365 Personal hoặc Family', '1x Mã giảm thêm 150.000đ cho phần mềm Office Home và Student 2021'), ('1x Túi đeo lưng/ Balo laptop Targus 15.6 TSB883 Black (Safire) (Quà tặng - logo Phong Vũ)', '1x Mã giảm thêm 100.000đ cho phần mềm M365 Personal hoặc Family', '1x Mã giảm thêm 150.000đ cho phần mềm Office Home và Student 2021'), ('1x Túi đeo lưng/ Balo laptop Targus 15.6 TSB883 Black (Safire) (Quà tặng - logo Phong Vũ)', '1x Mã giảm thêm 100.000đ cho phần mềm M365 Personal hoặc Family', '1x Mã giảm thêm 150.000đ cho phần mềm Office Home và Student 2021')])\n"
     ]
    }
   ],
   "source": [
    "for i in range(10,20):\n",
    "    product = products_list_TrangChu[i]\n",
    "    product_link = product.find_element(By.XPATH, './/a[@class = \"css-pxdb0j\"]').get_attribute('href')\n",
    "    print(i)\n",
    "    get_TenSanPham(product)\n",
    "    get_TuGia(product)\n",
    "    get_TuGiaDenGia(product)\n",
    "    get_GiaGoc(product)\n",
    "    get_ThuongHieu(product)\n",
    "    get_QuaTang(product_link)\n",
    "\n",
    "dataframe = {\n",
    "    'Ten_San_Pham': list_TenSanPham,\n",
    "    'Tu_Gia': list_TuGia,\n",
    "    'Den_Gia': list_DenGia,\n",
    "    'Gia_Goc': list_GiaGoc,\n",
    "    'Thuong_Hieu': list_ThuongHieu,\n",
    "    'Qua_Tang': list_QuaTang\n",
    "    \n",
    "}\n",
    "df = pd.DataFrame(dataframe)\n",
    "df.to_csv('phongvu.csv', index=False)\n",
    "driver.close()\n",
    "print(f'Ten san pham: {len(list_TenSanPham),list_TenSanPham}')\n",
    "print(f'Tu Gia{len(list_TuGia),list_TuGia}')\n",
    "print(f'Den Gia{len(list_DenGia),list_DenGia}')\n",
    "print(f'Gia Goc{len(list_GiaGoc),list_GiaGoc}')\n",
    "print(f'Thuong Hieu{len(list_ThuongHieu),list_ThuongHieu}')\n",
    "print(f'Qua Tang{len(list_QuaTang),list_QuaTang}')"
   ]
  },
  {
   "cell_type": "code",
   "execution_count": null,
   "metadata": {},
   "outputs": [
    {
     "ename": "NameError",
     "evalue": "name 'list_TenSanPham' is not defined",
     "output_type": "error",
     "traceback": [
      "\u001b[1;31m---------------------------------------------------------------------------\u001b[0m\n",
      "\u001b[1;31mNameError\u001b[0m                                 Traceback (most recent call last)\n",
      "Cell \u001b[1;32mIn[1], line 14\u001b[0m\n",
      "\u001b[0;32m      1\u001b[0m \u001b[38;5;66;03m# get_TuGia(products_list_TrangChu[24])\u001b[39;00m\n",
      "\u001b[0;32m      2\u001b[0m \u001b[38;5;66;03m# get_TenSanPham(products_list_TrangChu[46])\u001b[39;00m\n",
      "\u001b[0;32m      3\u001b[0m \u001b[38;5;66;03m# get_TuGia(products_list_TrangChu[46])\u001b[39;00m\n",
      "\u001b[1;32m   (...)\u001b[0m\n",
      "\u001b[0;32m     12\u001b[0m \u001b[38;5;66;03m# get_QuaTang(product_links_read[0])\u001b[39;00m\n",
      "\u001b[0;32m     13\u001b[0m \u001b[38;5;66;03m# print(list_QuaTang[0])\u001b[39;00m\n",
      "\u001b[1;32m---> 14\u001b[0m \u001b[38;5;28mprint\u001b[39m(\u001b[38;5;124mf\u001b[39m\u001b[38;5;124m'\u001b[39m\u001b[38;5;124mTen san pham: \u001b[39m\u001b[38;5;132;01m{\u001b[39;00m\u001b[38;5;28mlen\u001b[39m(\u001b[43mlist_TenSanPham\u001b[49m),list_TenSanPham\u001b[38;5;132;01m}\u001b[39;00m\u001b[38;5;124m'\u001b[39m)\n",
      "\u001b[0;32m     15\u001b[0m \u001b[38;5;28mprint\u001b[39m(\u001b[38;5;124mf\u001b[39m\u001b[38;5;124m'\u001b[39m\u001b[38;5;124mTu Gia\u001b[39m\u001b[38;5;132;01m{\u001b[39;00m\u001b[38;5;28mlen\u001b[39m(list_TuGia),list_TuGia\u001b[38;5;132;01m}\u001b[39;00m\u001b[38;5;124m'\u001b[39m)\n",
      "\u001b[0;32m     16\u001b[0m \u001b[38;5;28mprint\u001b[39m(\u001b[38;5;124mf\u001b[39m\u001b[38;5;124m'\u001b[39m\u001b[38;5;124mDen Gia\u001b[39m\u001b[38;5;132;01m{\u001b[39;00m\u001b[38;5;28mlen\u001b[39m(list_DenGia),list_DenGia\u001b[38;5;132;01m}\u001b[39;00m\u001b[38;5;124m'\u001b[39m)\n",
      "\n",
      "\u001b[1;31mNameError\u001b[0m: name 'list_TenSanPham' is not defined"
     ]
    }
   ],
   "source": [
    "# # get_TuGia(products_list_TrangChu[24])\n",
    "# # get_TenSanPham(products_list_TrangChu[46])\n",
    "# # get_TuGia(products_list_TrangChu[46])\n",
    "# # get_GiaGoc(products_list_TrangChu[46])\n",
    "# # get_ThuongHieu(products_list_TrangChu[46])\n",
    "# # get_TuGiaDenGia(products_list_TrangChu[46])\n",
    "# # print(list_DenGia)\n",
    "# # print(list_TenSanPham)\n",
    "# # print(list_TuGia)\n",
    "# # print(list_GiaGoc)\n",
    "# # print(lelist_ThuongHieu)\n",
    "# # get_QuaTang(product_links_read[0])\n",
    "# # print(list_QuaTang[0])\n",
    "# print(f'Ten san pham: {len(list_TenSanPham),list_TenSanPham}')\n",
    "# print(f'Tu Gia{len(list_TuGia),list_TuGia}')\n",
    "# print(f'Den Gia{len(list_DenGia),list_DenGia}')\n",
    "# print(f'Gia Goc{len(list_GiaGoc),list_GiaGoc}')\n",
    "# print(f'Thuong Hieu{len(list_ThuongHieu),list_ThuongHieu}')\n",
    "# print(f'Qua Tang{len(list_QuaTang),list_QuaTang}')"
   ]
  },
  {
   "cell_type": "code",
   "execution_count": null,
   "metadata": {},
   "outputs": [],
   "source": [
    "# dataframe = {\n",
    "#     'Ten_San_Pham': list_TenSanPham,\n",
    "#     'Tu_Gia': list_TuGia,\n",
    "#     'Den_Gia': list_DenGia,\n",
    "#     'Gia_Goc': list_GiaGoc,\n",
    "#     'Thuong_Hieu': list_ThuongHieu,\n",
    "#     'Qua_Tang': list_QuaTang\n",
    "    \n",
    "# }\n",
    "# df = pd.DataFrame(dataframe)\n",
    "# df.to_csv('phongvu.csv', index=False)\n",
    "# driver.close()"
   ]
  },
  {
   "cell_type": "markdown",
   "metadata": {},
   "source": []
  }
 ],
 "metadata": {
  "kernelspec": {
   "display_name": "Python 3",
   "language": "python",
   "name": "python3"
  },
  "language_info": {
   "codemirror_mode": {
    "name": "ipython",
    "version": 3
   },
   "file_extension": ".py",
   "mimetype": "text/x-python",
   "name": "python",
   "nbconvert_exporter": "python",
   "pygments_lexer": "ipython3",
   "version": "3.11.9"
  }
 },
 "nbformat": 4,
 "nbformat_minor": 2
}
