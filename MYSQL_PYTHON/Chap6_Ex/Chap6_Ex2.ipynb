{
 "cells": [
  {
   "cell_type": "code",
   "execution_count": 51,
   "metadata": {},
   "outputs": [],
   "source": [
    "from bs4 import BeautifulSoup\n",
    "import requests\n",
    "import pandas as pd"
   ]
  },
  {
   "cell_type": "code",
   "execution_count": 58,
   "metadata": {},
   "outputs": [
    {
     "name": "stdout",
     "output_type": "stream",
     "text": [
      "200\n"
     ]
    }
   ],
   "source": [
    "url = 'https://csc.edu.vn/'\n",
    "reponse = requests.get(url)\n",
    "print(reponse.status_code)\n",
    "soup = BeautifulSoup(reponse.text, 'html.parser')"
   ]
  },
  {
   "cell_type": "code",
   "execution_count": 53,
   "metadata": {},
   "outputs": [],
   "source": [
    "courses = soup.find_all ( name = 'div', attrs ={'class' : 'tranning-single'}) #bs4.element.resultset\n"
   ]
  },
  {
   "cell_type": "code",
   "execution_count": 56,
   "metadata": {},
   "outputs": [],
   "source": [
    "img_list = []\n",
    "name_list = []\n",
    "duration_list = []\n",
    "price_list = []\n",
    "for course in courses:\n",
    "    course_name = course.find('h5').text\n",
    "    name_list.append(course_name)\n",
    "    img_url = course.find('img')['src']\n",
    "    img_list.append(img_url)\n",
    "    duration_list.append(course.find('div', attrs = {'class': 'duration'}).text)\n",
    "    price = course.find('div', attrs = {'class': 'price-special'})\\\n",
    "        .find('a', attrs = {'class': 'uu-dai'}).text\n",
    "    price_list.append(price)\n",
    "\n",
    "csc_df = pd.DataFrame({\n",
    "    'Course name': name_list,\n",
    "    'Duration': duration_list,\n",
    "    'Discount': price_list,\n",
    "    'Image_url': img_list\n",
    "})\n",
    " \n",
    "csc_df.head(12)\n",
    "csc_df.to_csv('csc_courses.csv', index = False)"
   ]
  }
 ],
 "metadata": {
  "kernelspec": {
   "display_name": "Python 3",
   "language": "python",
   "name": "python3"
  },
  "language_info": {
   "codemirror_mode": {
    "name": "ipython",
    "version": 3
   },
   "file_extension": ".py",
   "mimetype": "text/x-python",
   "name": "python",
   "nbconvert_exporter": "python",
   "pygments_lexer": "ipython3",
   "version": "3.11.9"
  }
 },
 "nbformat": 4,
 "nbformat_minor": 2
}
