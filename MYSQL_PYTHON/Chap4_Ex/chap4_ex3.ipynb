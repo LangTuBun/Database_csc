{
 "cells": [
  {
   "cell_type": "code",
   "execution_count": null,
   "metadata": {},
   "outputs": [],
   "source": [
    "\n",
    "from mysql.connector import connect\n",
    "import pandas as pd\n",
    "import matplotlib.pyplot as plt\n",
    "import warnings\n",
    "import seaborn as sns\n",
    "warnings.filterwarnings(\"ignore\")"
   ]
  },
  {
   "cell_type": "code",
   "execution_count": null,
   "metadata": {},
   "outputs": [
    {
     "data": {
      "text/plain": [
       "True"
      ]
     },
     "execution_count": 163,
     "metadata": {},
     "output_type": "execute_result"
    }
   ],
   "source": [
    "conn = connect(\n",
    "    host = '127.0.0.1',\n",
    "    user= 'root',\n",
    "    password='123456',\n",
    "    database='salesdb',\n",
    "    port = 3306    \n",
    ")\n",
    "conn.is_connected()"
   ]
  },
  {
   "cell_type": "code",
   "execution_count": 164,
   "metadata": {},
   "outputs": [
    {
     "data": {
      "text/html": [
       "<div>\n",
       "<style scoped>\n",
       "    .dataframe tbody tr th:only-of-type {\n",
       "        vertical-align: middle;\n",
       "    }\n",
       "\n",
       "    .dataframe tbody tr th {\n",
       "        vertical-align: top;\n",
       "    }\n",
       "\n",
       "    .dataframe thead th {\n",
       "        text-align: right;\n",
       "    }\n",
       "</style>\n",
       "<table border=\"1\" class=\"dataframe\">\n",
       "  <thead>\n",
       "    <tr style=\"text-align: right;\">\n",
       "      <th></th>\n",
       "      <th>ORDERNUMBER</th>\n",
       "      <th>ORDERDATE</th>\n",
       "      <th>TOTALAMOUNT</th>\n",
       "      <th>CUSTOMERID</th>\n",
       "      <th>MAX_TOTAL</th>\n",
       "    </tr>\n",
       "  </thead>\n",
       "  <tbody>\n",
       "    <tr>\n",
       "      <th>0</th>\n",
       "      <td>542530</td>\n",
       "      <td>2013-01-01</td>\n",
       "      <td>3063.0</td>\n",
       "      <td>19</td>\n",
       "      <td>3063.00</td>\n",
       "    </tr>\n",
       "    <tr>\n",
       "      <th>1</th>\n",
       "      <td>542531</td>\n",
       "      <td>2013-01-01</td>\n",
       "      <td>3868.6</td>\n",
       "      <td>65</td>\n",
       "      <td>10495.60</td>\n",
       "    </tr>\n",
       "    <tr>\n",
       "      <th>2</th>\n",
       "      <td>542532</td>\n",
       "      <td>2013-01-02</td>\n",
       "      <td>2713.5</td>\n",
       "      <td>20</td>\n",
       "      <td>8623.45</td>\n",
       "    </tr>\n",
       "    <tr>\n",
       "      <th>3</th>\n",
       "      <td>542533</td>\n",
       "      <td>2013-01-03</td>\n",
       "      <td>1005.9</td>\n",
       "      <td>20</td>\n",
       "      <td>8623.45</td>\n",
       "    </tr>\n",
       "    <tr>\n",
       "      <th>4</th>\n",
       "      <td>542534</td>\n",
       "      <td>2013-01-03</td>\n",
       "      <td>1675.0</td>\n",
       "      <td>49</td>\n",
       "      <td>1675.00</td>\n",
       "    </tr>\n",
       "  </tbody>\n",
       "</table>\n",
       "</div>"
      ],
      "text/plain": [
       "  ORDERNUMBER  ORDERDATE  TOTALAMOUNT  CUSTOMERID  MAX_TOTAL\n",
       "0      542530 2013-01-01       3063.0          19    3063.00\n",
       "1      542531 2013-01-01       3868.6          65   10495.60\n",
       "2      542532 2013-01-02       2713.5          20    8623.45\n",
       "3      542533 2013-01-03       1005.9          20    8623.45\n",
       "4      542534 2013-01-03       1675.0          49    1675.00"
      ]
     },
     "execution_count": 164,
     "metadata": {},
     "output_type": "execute_result"
    }
   ],
   "source": [
    "sql = \"\"\"\n",
    "SELECT ORDERNUMBER, ORDERDATE, TOTALAMOUNT, CUSTOMERID,\n",
    "    MAX(TOTALAMOUNT) OVER(PARTITION by CUSTOMERID) AS MAX_TOTAL\n",
    "FROM ORDERS WHERE YEAR(ORDERDATE)=2013\n",
    "ORDER BY ORDERNUMBER\n",
    "\"\"\"\n",
    "df = pd.read_sql(sql, conn)\n",
    "df['CUSTOMERID'].value_counts()\n",
    "df.head()\n"
   ]
  },
  {
   "cell_type": "code",
   "execution_count": 165,
   "metadata": {},
   "outputs": [
    {
     "data": {
      "text/html": [
       "<div>\n",
       "<style scoped>\n",
       "    .dataframe tbody tr th:only-of-type {\n",
       "        vertical-align: middle;\n",
       "    }\n",
       "\n",
       "    .dataframe tbody tr th {\n",
       "        vertical-align: top;\n",
       "    }\n",
       "\n",
       "    .dataframe thead th {\n",
       "        text-align: right;\n",
       "    }\n",
       "</style>\n",
       "<table border=\"1\" class=\"dataframe\">\n",
       "  <thead>\n",
       "    <tr style=\"text-align: right;\">\n",
       "      <th></th>\n",
       "      <th>ORDERNUMBER</th>\n",
       "      <th>MONTH(ORDERDATE)</th>\n",
       "      <th>TOTALAMOUNT</th>\n",
       "      <th>RK</th>\n",
       "    </tr>\n",
       "  </thead>\n",
       "  <tbody>\n",
       "    <tr>\n",
       "      <th>403</th>\n",
       "      <td>542923</td>\n",
       "      <td>12</td>\n",
       "      <td>191.1</td>\n",
       "      <td>44</td>\n",
       "    </tr>\n",
       "    <tr>\n",
       "      <th>404</th>\n",
       "      <td>542908</td>\n",
       "      <td>12</td>\n",
       "      <td>96.5</td>\n",
       "      <td>45</td>\n",
       "    </tr>\n",
       "    <tr>\n",
       "      <th>405</th>\n",
       "      <td>542897</td>\n",
       "      <td>12</td>\n",
       "      <td>28.0</td>\n",
       "      <td>46</td>\n",
       "    </tr>\n",
       "    <tr>\n",
       "      <th>406</th>\n",
       "      <td>542937</td>\n",
       "      <td>12</td>\n",
       "      <td>18.4</td>\n",
       "      <td>47</td>\n",
       "    </tr>\n",
       "    <tr>\n",
       "      <th>407</th>\n",
       "      <td>542912</td>\n",
       "      <td>12</td>\n",
       "      <td>12.5</td>\n",
       "      <td>48</td>\n",
       "    </tr>\n",
       "  </tbody>\n",
       "</table>\n",
       "</div>"
      ],
      "text/plain": [
       "    ORDERNUMBER  MONTH(ORDERDATE)  TOTALAMOUNT  RK\n",
       "403      542923                12        191.1  44\n",
       "404      542908                12         96.5  45\n",
       "405      542897                12         28.0  46\n",
       "406      542937                12         18.4  47\n",
       "407      542912                12         12.5  48"
      ]
     },
     "execution_count": 165,
     "metadata": {},
     "output_type": "execute_result"
    }
   ],
   "source": [
    "sql = \"\"\"\n",
    "SELECT ORDERNUMBER, MONTH(ORDERDATE), TOTALAMOUNT, \n",
    "    DENSE_RANK() OVER(PARTITION BY MONTH(ORDERDATE) ORDER BY TOTALAMOUNT DESC) AS RK\n",
    "FROM ORDERS WHERE YEAR(ORDERDATE)=2013\n",
    "\"\"\"\n",
    "df = pd.read_sql(sql, conn)\n",
    "df.tail()"
   ]
  },
  {
   "cell_type": "code",
   "execution_count": 166,
   "metadata": {},
   "outputs": [
    {
     "data": {
      "image/png": "[encoded data removed]",
      "text/plain": [
       "<Figure size 640x480 with 1 Axes>"
      ]
     },
     "metadata": {},
     "output_type": "display_data"
    }
   ],
   "source": [
    "sql = \"\"\"\n",
    "SELECT MONTH, TOTALAMOUNT, RK FROM (\n",
    "    SELECT ORDERNUMBER, \n",
    "    MONTH(ORDERDATE) AS MONTH,\n",
    "    TOTALAMOUNT,\n",
    "    RANK() OVER(partition by MONTH(ORDERDATE) ORDER BY TOTALAMOUNT DESC) AS RK\n",
    "    FROM ORDERS\n",
    "    WHERE YEAR(ORDERDATE) = 2013\n",
    ") AS subquery\n",
    "WHERE RK <=2\n",
    "ORDER BY MONTH ASC, TOTALAMOUNT DESC\n",
    "\"\"\"\n",
    "df = pd.read_sql(sql, conn)\n",
    "df.head()\n",
    "df[['MONTH', 'TOTALAMOUNT']]\n",
    "sns.barplot( x='MONTH', y='TOTALAMOUNT', hue = 'RK',data=df, palette = 'Set3')\n",
    "#phải dùng sns để vẽ biểu đồ\n",
    "plt.show()"
   ]
  }
 ],
 "metadata": {
  "kernelspec": {
   "display_name": "Python 3",
   "language": "python",
   "name": "python3"
  },
  "language_info": {
   "codemirror_mode": {
    "name": "ipython",
    "version": 3
   },
   "file_extension": ".py",
   "mimetype": "text/x-python",
   "name": "python",
   "nbconvert_exporter": "python",
   "pygments_lexer": "ipython3",
   "version": "3.11.9"
  }
 },
 "nbformat": 4,
 "nbformat_minor": 2
}
