{
 "cells": [
  {
   "cell_type": "code",
   "execution_count": 16,
   "metadata": {},
   "outputs": [],
   "source": [
    "from bs4 import BeautifulSoup\n",
    "import requests\n",
    "import pandas as pd\n",
    "from mylibs import *"
   ]
  },
  {
   "cell_type": "code",
   "execution_count": 43,
   "metadata": {},
   "outputs": [],
   "source": [
    "def get_data(url:str) -> pd.DataFrame:\n",
    "    page = requests.get(url)\n",
    "    soup = BeautifulSoup(page.content, 'html.parser')\n",
    "    product_container = soup.find(name = 'div', attrs =  {'class' :'block-card-cate container-card-cate d-flex justify-content-flex-start flex-wrap w-10'})\n",
    "    \n",
    "    list_product_names = []\n",
    "    tag_product_names = product_container.find_all(name= 'h3')\n",
    "    for tag_product_name in tag_product_names:\n",
    "        product_name = tag_product_name.text\n",
    "        list_product_names.append(product_name)\n",
    "        \n",
    "    list_product_prices = []\n",
    "    tag_product_prices = product_container.find_all(name= 'div', attrs = {'class' : 'price-card primary-price'})\n",
    "    for tag_product_price in tag_product_prices:\n",
    "        product_price = tag_product_price.text.split('đ')[0].replace('.', '').replace('                        ', '')\n",
    "        list_product_prices.append(product_price)\n",
    "        \n",
    "    list_image_links = []\n",
    "    tag_image_links = product_container.find_all(name= 'div', attrs = {'class' : 'image-card-cate'})\n",
    "    for tag_image_link in tag_image_links:\n",
    "        image_link = tag_image_link.find('img')['data-src']\n",
    "        list_image_links.append(image_link)\n",
    "        # img_name = image_link.split('/')[-1]\n",
    "        # download_image(image_link, f'tivi/{img_name}')\n",
    "    # secondary_list = []\n",
    "    # tag_secondary_prices = product_container.find_all(name= 'div', attrs = {'class' : 'price-card secondary-price'})\n",
    "    # for tag_secondary_price in tag_secondary_prices:\n",
    "    #     # print(tag_secondary_price)\n",
    "    #     if(tag_secondary_price is None):\n",
    "    #         secondary_list.append(0)\n",
    "    #         continue\n",
    "    #     secondary_price = int(tag_secondary_price.find(name = 'span').text.replace(',', '').split('đ')[0].strip())\n",
    "       \n",
    "    #     secondary_list.append(secondary_price)\n",
    "\n",
    "            \n",
    "    # print(len(list_product_names), len(list_product_prices), len(list_image_links), len(secondary_list))\n",
    "    df = pd.DataFrame({'product_name': list_product_names, 'product_price': list_product_prices, 'image_link': list_image_links})\n",
    "    return df        "
   ]
  },
  {
   "cell_type": "code",
   "execution_count": 18,
   "metadata": {},
   "outputs": [
    {
     "data": {
      "text/plain": [
       "32"
      ]
     },
     "execution_count": 18,
     "metadata": {},
     "output_type": "execute_result"
    }
   ],
   "source": [
    "url = 'https://dienmaythiennamhoa.vn/tivi.html'\n",
    "df = get_data(url)\n",
    "df.shape[0]"
   ]
  },
  {
   "cell_type": "code",
   "execution_count": 44,
   "metadata": {},
   "outputs": [
    {
     "data": {
      "text/plain": [
       "(18, 3)"
      ]
     },
     "execution_count": 44,
     "metadata": {},
     "output_type": "execute_result"
    }
   ],
   "source": [
    "url = 'https://dienmaythiennamhoa.vn/tivi.html?page=14&_is_desktop=1&_is_robot=0&sort='\n",
    "page_response = requests.get(url)\n",
    "i = 1\n",
    "df_og = pd.DataFrame()\n",
    "while page_response.status_code == 200:\n",
    "    if i > 1:\n",
    "        break\n",
    "    df = get_data(url)\n",
    "    if df.shape[0] == 0: \n",
    "        break\n",
    "    i += 1\n",
    "    df_og = pd.concat([df_og, df], ignore_index = True)\n",
    "    page_url = url + '?page=' + str(i) + '&_is_desktop=1&_is_robot=0&sort='\n",
    "    page_response = requests.get(url)\n",
    "    \n",
    "    \n",
    "df_og.shape\n"
   ]
  },
  {
   "cell_type": "code",
   "execution_count": 20,
   "metadata": {},
   "outputs": [],
   "source": [
    "df_og.to_csv('tivi.csv', index = False)"
   ]
  }
 ],
 "metadata": {
  "kernelspec": {
   "display_name": "Python 3",
   "language": "python",
   "name": "python3"
  },
  "language_info": {
   "codemirror_mode": {
    "name": "ipython",
    "version": 3
   },
   "file_extension": ".py",
   "mimetype": "text/x-python",
   "name": "python",
   "nbconvert_exporter": "python",
   "pygments_lexer": "ipython3",
   "version": "3.11.9"
  }
 },
 "nbformat": 4,
 "nbformat_minor": 2
}
