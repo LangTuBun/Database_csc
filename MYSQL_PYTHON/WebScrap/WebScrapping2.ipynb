{
 "cells": [
  {
   "cell_type": "code",
   "execution_count": 38,
   "metadata": {},
   "outputs": [],
   "source": [
    "from mylibs import *\n",
    "import pandas as pd\n",
    "import numpy as np\n",
    "from bs4 import BeautifulSoup\n",
    "import requests"
   ]
  },
  {
   "cell_type": "code",
   "execution_count": 39,
   "metadata": {},
   "outputs": [],
   "source": [
    "page_link = 'https://dienmaythiennamhoa.vn/tivi.html'\n",
    "page_response = requests.get(page_link)\n",
    "page_content = BeautifulSoup(page_response.content, \"html.parser\")"
   ]
  },
  {
   "cell_type": "code",
   "execution_count": 40,
   "metadata": {},
   "outputs": [],
   "source": [
    "product_container = page_content.find(name = 'div', attrs =  {'class' :'block-card-cate container-card-cate d-flex justify-content-flex-start flex-wrap w-10'})"
   ]
  },
  {
   "cell_type": "code",
   "execution_count": 41,
   "metadata": {},
   "outputs": [
    {
     "name": "stdout",
     "output_type": "stream",
     "text": [
      "32 ['Google tivi Sony 4K 75 inch K-75S30', 'Google tivi Sony 4K 65 inch K-65S30', 'Google tivi Sony 4K 55 inch K-55S30', 'Google tivi Sony 4K 50 inch K-50S30', 'Google tivi Sony 4K 43 inch K-43S30', 'Google tivi Sony 4K 85 inch KD-85X80L', 'Internet tivi Casper 4K 58 inch 58UX5200', 'Android tivi Casper QLED 4K 55 inch 55QG8000', 'Google tivi TCL QLED 4K 98 inch 98C655', 'Google tivi TCL QLED 4K 85 inch 85C655', 'Google tivi TCL QLED 4K 75 inch 75C655', 'Google tivi TCL QLED 4K 65 inch 65C655', 'Google tivi TCL QLED 4K 55 inch 55C655', 'Google tivi TCL QLED 4K 50 inch 50C655', 'Google tivi TCL QLED 4K 43 inch 43C655', 'Google tivi TCL 4K 75 inch 75P755 Pro', 'Google tivi TCL 4K 65 inch 65P755 Pro', 'Google tivi TCL 4K 55 inch 55P755 Pro', 'Google tivi TCL 4K 50 inch 50P755', 'Google tivi TCL 4K 43 inch 43P755', 'Smart tivi LG QNED 4K 50 inch 50QNED80SRA', 'Smart tivi LG QNED 4K 55 inch 55QNED80SRA', 'Smart tivi Samsung The Frame QLED 4K 55 inch QA55LS03DAKXXV', 'Smart tivi Samsung The Frame QLED 4K 65 inch QA65LS03DAKXXV', 'Smart tivi Samsung The Frame QLED 4K 75 inch QA75LS03DAKXXV', 'Smart tivi Samsung Crystal UHD 4K 43 inch UA43DU7000KXXV', 'Smart tivi Samsung Crystal UHD 4K 50 inch UA50DU7000KXXV', 'Smart tivi Samsung Crystal UHD 4K 55 inch UA55DU7000KXXV', 'Smart tivi Samsung Crystal UHD 4K 65 inch UA65DU7000KXXV', 'Smart tivi Samsung Crystal UHD 4K 75 inch UA75DU7000KXXV', 'Smart tivi Samsung Crystal UHD 4K 43 inch UA43DU7700KXXV', 'Smart tivi Samsung Crystal UHD 4K 50 inch UA50DU7700KXXV']\n"
     ]
    }
   ],
   "source": [
    "list_product_names = []\n",
    "tag_product_names = product_container.find_all(name= 'h3')\n",
    "for tag_product_name in tag_product_names:\n",
    "    product_name = tag_product_name.text\n",
    "    list_product_names.append(product_name)\n",
    "print(len(list_product_names), list_product_names)"
   ]
  },
  {
   "cell_type": "code",
   "execution_count": 42,
   "metadata": {},
   "outputs": [
    {
     "name": "stdout",
     "output_type": "stream",
     "text": [
      "32 ['32390000.00', '21890000.00', '17890000.00', '15890000.00', '13890000.00', '39890000.00', '6990000.00', '7990000.00', '69990000.00', '39990000.00', '25990000.00', '17990000.00', '13990000.00', '10990000.00', '9990000.00', '20990000.00', '15490000.00', '12490000.00', '9490000.00', '8290000.00', '14890000.00', '17490000.00', '27350000.00', '34850000.00', '51850000.00', '9390000.00', '12390000.00', '13890000.00', '16890000.00', '25890000.00', '10350000.00', '13350000.00']\n"
     ]
    }
   ],
   "source": [
    "list_product_prices = []\n",
    "tag_product_prices = product_container.find_all(name= 'div', attrs = {'class' : 'price-card primary-price'})\n",
    "for tag_product_price in tag_product_prices:\n",
    "    product_price = tag_product_price.text.split('đ')[0].\\\n",
    "        strip() #strip dùng để loại khoảng trắng đầu và cuối chuỗi\n",
    "    list_product_prices.append(product_price)\n",
    "print(len(list_product_prices), list_product_prices)"
   ]
  },
  {
   "cell_type": "code",
   "execution_count": 43,
   "metadata": {},
   "outputs": [
    {
     "name": "stdout",
     "output_type": "stream",
     "text": [
      "32 ['https://dienmaythiennamhoa.vn/static/images/thumbs/Images/4.%20hinh%20sp/3.%20Hinh%20SP%202/google-tivi-sony-4k-75-inch-k-75s30-1.jpg', 'https://dienmaythiennamhoa.vn/static/images/thumbs/Images/4.%20hinh%20sp/3.%20Hinh%20SP%202/google-tivi-sony-4k-65-inch-k-65s30-1.jpg', 'https://dienmaythiennamhoa.vn/static/images/thumbs/Images/4.%20hinh%20sp/3.%20Hinh%20SP%202/google-tivi-sony-4k-55-inch-k-55s30-1.jpg', 'https://dienmaythiennamhoa.vn/static/images/thumbs/Images/4.%20hinh%20sp/3.%20Hinh%20SP%202/google-tivi-sony-4k-50-inch-k-50s30-1.jpg', 'https://dienmaythiennamhoa.vn/static/images/thumbs/Images/4.%20hinh%20sp/3.%20Hinh%20SP%202/google-tivi-sony-4k-43-inch-k-43s30-1.jpg', 'https://dienmaythiennamhoa.vn/static/images/thumbs/Images/4.%20hinh%20sp/3.%20Hinh%20SP%202/google-tivi-sony-4k-85-inch-kd-85x80l-1.jpg', 'https://dienmaythiennamhoa.vn/static/images/thumbs/Images/4.%20hinh%20sp/3.%20Hinh%20SP%202/internet-tivi-casper-4k-58-inch-58ux5200-1.jpg', 'https://dienmaythiennamhoa.vn/static/images/thumbs/Images/4.%20hinh%20sp/3.%20Hinh%20SP%202/android-tivi-casper-qled-4k-55-inch-55qg8000-1.jpg', 'https://dienmaythiennamhoa.vn/static/images/thumbs/Images/4.%20hinh%20sp/3.%20Hinh%20SP%202/google-tivi-tcl-qled-4k-98-inch-98c655-1.jpg', 'https://dienmaythiennamhoa.vn/static/images/thumbs/Images/4.%20hinh%20sp/3.%20Hinh%20SP%202/google-tivi-tcl-qled-4k-85-inch-85c655-1.jpg', 'https://dienmaythiennamhoa.vn/static/images/thumbs/Images/4.%20hinh%20sp/3.%20Hinh%20SP%202/google-tivi-tcl-qled-4k-75-inch-75c655-1.jpg', 'https://dienmaythiennamhoa.vn/static/images/thumbs/Images/4.%20hinh%20sp/3.%20Hinh%20SP%202/google-tivi-tcl-qled-4k-65-inch-65c655-1.jpg', 'https://dienmaythiennamhoa.vn/static/images/thumbs/Images/4.%20hinh%20sp/3.%20Hinh%20SP%202/google-tivi-tcl-qled-4k-55-inch-55c655-1.jpg', 'https://dienmaythiennamhoa.vn/static/images/thumbs/Images/4.%20hinh%20sp/3.%20Hinh%20SP%202/google-tivi-tcl-qled-4k-50-inch-50c655-1.jpg', 'https://dienmaythiennamhoa.vn/static/images/thumbs/Images/4.%20hinh%20sp/3.%20Hinh%20SP%202/google-tivi-tcl-qled-4k-43-inch-43c655-1.jpg', 'https://dienmaythiennamhoa.vn/static/images/thumbs/Images/4.%20hinh%20sp/3.%20Hinh%20SP%202/google-tivi-tcl-4k-75-inch-75p755-pro-1.jpg', 'https://dienmaythiennamhoa.vn/static/images/thumbs/Images/4.%20hinh%20sp/3.%20Hinh%20SP%202/google-tivi-tcl-4k-65-inch-65p755-pro-1.jpg', 'https://dienmaythiennamhoa.vn/static/images/thumbs/Images/4.%20hinh%20sp/3.%20Hinh%20SP%202/google-tivi-tcl-4k-55-inch-55p755-pro-1.jpg', 'https://dienmaythiennamhoa.vn/static/images/thumbs/Images/4.%20hinh%20sp/3.%20Hinh%20SP%202/google-tivi-tcl-4k-50-inch-50p755-1.jpg', 'https://dienmaythiennamhoa.vn/static/images/thumbs/Images/4.%20hinh%20sp/3.%20Hinh%20SP%202/google-tivi-tcl-4k-43-inch-43p755-1.jpg', 'https://dienmaythiennamhoa.vn/static/images/thumbs/Images/4.%20hinh%20sp/3.%20Hinh%20SP%202/smart-tivi-lg-qned-4k-50-inch-50qned80sra-1.jpg', 'https://dienmaythiennamhoa.vn/static/images/thumbs/Images/4.%20hinh%20sp/3.%20Hinh%20SP%202/smart-tivi-lg-qned-4k-55-inch-55qned80sra-1.jpg', 'https://dienmaythiennamhoa.vn/static/images/thumbs/Images/4.%20hinh%20sp/3.%20Hinh%20SP%202/smart-tivi-samsung-the-frame-qled-4k-55-inch-qa55ls03dakxxv-1.jpg', 'https://dienmaythiennamhoa.vn/static/images/thumbs/Images/4.%20hinh%20sp/3.%20Hinh%20SP%202/smart-tivi-samsung-the-frame-qled-4k-65-inch-qa65ls03dakxxv-1.jpg', 'https://dienmaythiennamhoa.vn/static/images/thumbs/Images/4.%20hinh%20sp/3.%20Hinh%20SP%202/smart-tivi-samsung-the-frame-qled-4k-75-inch-qa75ls03dakxxv-1.jpg', 'https://dienmaythiennamhoa.vn/static/images/thumbs/Images/4.%20hinh%20sp/3.%20Hinh%20SP%202/smart-tivi-samsung-crystal-uhd-4k-43-inch-ua43du7000kxxv-1.jpg', 'https://dienmaythiennamhoa.vn/static/images/thumbs/Images/4.%20hinh%20sp/3.%20Hinh%20SP%202/smart-tivi-samsung-crystal-uhd-4k-50-inch-ua50du7000kxxv-1.jpg', 'https://dienmaythiennamhoa.vn/static/images/thumbs/Images/4.%20hinh%20sp/3.%20Hinh%20SP%202/smart-tivi-samsung-crystal-uhd-4k-55-inch-ua55du7000kxxv-1.jpg', 'https://dienmaythiennamhoa.vn/static/images/thumbs/Images/4.%20hinh%20sp/3.%20Hinh%20SP%202/smart-tivi-samsung-crystal-uhd-4k-65-inch-ua65du7000kxxv-1.jpg', 'https://dienmaythiennamhoa.vn/static/images/thumbs/Images/4.%20hinh%20sp/3.%20Hinh%20SP%202/smart-tivi-samsung-crystal-uhd-4k-75-inch-ua75du7000kxxv-1.jpg', 'https://dienmaythiennamhoa.vn/static/images/thumbs/Images/4.%20hinh%20sp/3.%20Hinh%20SP%202/smart-tivi-samsung-crystal-uhd-4k-43-inch-ua43du7700kxxv-1.jpg', 'https://dienmaythiennamhoa.vn/static/images/thumbs/Images/4.%20hinh%20sp/3.%20Hinh%20SP%202/smart-tivi-samsung-crystal-uhd-4k-50-inch-ua50du7700kxxv-1.jpg']\n"
     ]
    },
    {
     "data": {
      "text/plain": [
       "'https://dienmaythiennamhoa.vn/static/images/thumbs/Images/4.%20hinh%20sp/3.%20Hinh%20SP%202/google-tivi-sony-4k-75-inch-k-75s30-1.jpg'"
      ]
     },
     "execution_count": 43,
     "metadata": {},
     "output_type": "execute_result"
    }
   ],
   "source": [
    "list_imge_links = []\n",
    "tag_image_links = product_container.find_all(name= 'div', attrs = {'class' : 'image-card-cate'})\n",
    "for tag_image_link in tag_image_links:\n",
    "    image_link = tag_image_link.find('img')['data-src']\n",
    "    list_imge_links.append(image_link)\n",
    "print(len(list_imge_links), list_imge_links)\n",
    "list_imge_links[0]"
   ]
  },
  {
   "cell_type": "code",
   "execution_count": 58,
   "metadata": {},
   "outputs": [
    {
     "name": "stdout",
     "output_type": "stream",
     "text": [
      "7300000\n",
      "5100000\n",
      "4600000\n",
      "2600000\n",
      "3900000\n",
      "14000000\n",
      "7000000\n",
      "3500000\n",
      "700000\n",
      "700000\n",
      "500000\n",
      "700000\n",
      "700000\n",
      "700000\n",
      "700000\n",
      "700000\n",
      "500000\n",
      "500000\n",
      "500000\n",
      "400000\n",
      "4600000\n",
      "7000000\n",
      "1140000\n",
      "4640000\n",
      "3640000\n",
      "400000\n",
      "400000\n",
      "600000\n",
      "600000\n",
      "600000\n",
      "1140000\n",
      "1140000\n"
     ]
    }
   ],
   "source": [
    "secondary_list = []\n",
    "tag_secondary_prices = product_container.find_all(name= 'div', attrs = {'class' : 'price-card secondary-price'})\n",
    "for tag_secondary_price in tag_secondary_prices:\n",
    "    # print(tag_secondary_price)\n",
    "    # print(tag_secondary_price.find(name = 'span' ))\n",
    "    secondary_price = int(tag_secondary_price.find(name = 'span').text.replace(',', '').split('đ')[0].strip())\n",
    "    print(secondary_price)\n",
    "    secondary_list.append(secondary_price)"
   ]
  },
  {
   "cell_type": "code",
   "execution_count": 62,
   "metadata": {},
   "outputs": [
    {
     "name": "stdout",
     "output_type": "stream",
     "text": [
      "https://dienmaythiennamhoa.vn/static/images/thumbs/Images/4.%20hinh%20sp/3.%20Hinh%20SP%202/google-tivi-sony-4k-75-inch-k-75s30-1.jpg\n",
      "google-tivi-sony-4k-75-inch-k-75s30-1.jpg\n",
      "https://dienmaythiennamhoa.vn/static/images/thumbs/Images/4.%20hinh%20sp/3.%20Hinh%20SP%202/google-tivi-sony-4k-65-inch-k-65s30-1.jpg\n",
      "google-tivi-sony-4k-65-inch-k-65s30-1.jpg\n",
      "https://dienmaythiennamhoa.vn/static/images/thumbs/Images/4.%20hinh%20sp/3.%20Hinh%20SP%202/google-tivi-sony-4k-55-inch-k-55s30-1.jpg\n",
      "google-tivi-sony-4k-55-inch-k-55s30-1.jpg\n",
      "https://dienmaythiennamhoa.vn/static/images/thumbs/Images/4.%20hinh%20sp/3.%20Hinh%20SP%202/google-tivi-sony-4k-50-inch-k-50s30-1.jpg\n",
      "google-tivi-sony-4k-50-inch-k-50s30-1.jpg\n",
      "https://dienmaythiennamhoa.vn/static/images/thumbs/Images/4.%20hinh%20sp/3.%20Hinh%20SP%202/google-tivi-sony-4k-43-inch-k-43s30-1.jpg\n",
      "google-tivi-sony-4k-43-inch-k-43s30-1.jpg\n",
      "https://dienmaythiennamhoa.vn/static/images/thumbs/Images/4.%20hinh%20sp/3.%20Hinh%20SP%202/google-tivi-sony-4k-85-inch-kd-85x80l-1.jpg\n",
      "google-tivi-sony-4k-85-inch-kd-85x80l-1.jpg\n",
      "https://dienmaythiennamhoa.vn/static/images/thumbs/Images/4.%20hinh%20sp/3.%20Hinh%20SP%202/internet-tivi-casper-4k-58-inch-58ux5200-1.jpg\n",
      "internet-tivi-casper-4k-58-inch-58ux5200-1.jpg\n",
      "https://dienmaythiennamhoa.vn/static/images/thumbs/Images/4.%20hinh%20sp/3.%20Hinh%20SP%202/android-tivi-casper-qled-4k-55-inch-55qg8000-1.jpg\n",
      "android-tivi-casper-qled-4k-55-inch-55qg8000-1.jpg\n",
      "https://dienmaythiennamhoa.vn/static/images/thumbs/Images/4.%20hinh%20sp/3.%20Hinh%20SP%202/google-tivi-tcl-qled-4k-98-inch-98c655-1.jpg\n",
      "google-tivi-tcl-qled-4k-98-inch-98c655-1.jpg\n",
      "https://dienmaythiennamhoa.vn/static/images/thumbs/Images/4.%20hinh%20sp/3.%20Hinh%20SP%202/google-tivi-tcl-qled-4k-85-inch-85c655-1.jpg\n",
      "google-tivi-tcl-qled-4k-85-inch-85c655-1.jpg\n",
      "https://dienmaythiennamhoa.vn/static/images/thumbs/Images/4.%20hinh%20sp/3.%20Hinh%20SP%202/google-tivi-tcl-qled-4k-75-inch-75c655-1.jpg\n",
      "google-tivi-tcl-qled-4k-75-inch-75c655-1.jpg\n",
      "https://dienmaythiennamhoa.vn/static/images/thumbs/Images/4.%20hinh%20sp/3.%20Hinh%20SP%202/google-tivi-tcl-qled-4k-65-inch-65c655-1.jpg\n",
      "google-tivi-tcl-qled-4k-65-inch-65c655-1.jpg\n",
      "https://dienmaythiennamhoa.vn/static/images/thumbs/Images/4.%20hinh%20sp/3.%20Hinh%20SP%202/google-tivi-tcl-qled-4k-55-inch-55c655-1.jpg\n",
      "google-tivi-tcl-qled-4k-55-inch-55c655-1.jpg\n",
      "https://dienmaythiennamhoa.vn/static/images/thumbs/Images/4.%20hinh%20sp/3.%20Hinh%20SP%202/google-tivi-tcl-qled-4k-50-inch-50c655-1.jpg\n",
      "google-tivi-tcl-qled-4k-50-inch-50c655-1.jpg\n",
      "https://dienmaythiennamhoa.vn/static/images/thumbs/Images/4.%20hinh%20sp/3.%20Hinh%20SP%202/google-tivi-tcl-qled-4k-43-inch-43c655-1.jpg\n",
      "google-tivi-tcl-qled-4k-43-inch-43c655-1.jpg\n",
      "https://dienmaythiennamhoa.vn/static/images/thumbs/Images/4.%20hinh%20sp/3.%20Hinh%20SP%202/google-tivi-tcl-4k-75-inch-75p755-pro-1.jpg\n",
      "google-tivi-tcl-4k-75-inch-75p755-pro-1.jpg\n",
      "https://dienmaythiennamhoa.vn/static/images/thumbs/Images/4.%20hinh%20sp/3.%20Hinh%20SP%202/google-tivi-tcl-4k-65-inch-65p755-pro-1.jpg\n",
      "google-tivi-tcl-4k-65-inch-65p755-pro-1.jpg\n",
      "https://dienmaythiennamhoa.vn/static/images/thumbs/Images/4.%20hinh%20sp/3.%20Hinh%20SP%202/google-tivi-tcl-4k-55-inch-55p755-pro-1.jpg\n",
      "google-tivi-tcl-4k-55-inch-55p755-pro-1.jpg\n",
      "https://dienmaythiennamhoa.vn/static/images/thumbs/Images/4.%20hinh%20sp/3.%20Hinh%20SP%202/google-tivi-tcl-4k-50-inch-50p755-1.jpg\n",
      "google-tivi-tcl-4k-50-inch-50p755-1.jpg\n",
      "https://dienmaythiennamhoa.vn/static/images/thumbs/Images/4.%20hinh%20sp/3.%20Hinh%20SP%202/google-tivi-tcl-4k-43-inch-43p755-1.jpg\n",
      "google-tivi-tcl-4k-43-inch-43p755-1.jpg\n",
      "https://dienmaythiennamhoa.vn/static/images/thumbs/Images/4.%20hinh%20sp/3.%20Hinh%20SP%202/smart-tivi-lg-qned-4k-50-inch-50qned80sra-1.jpg\n",
      "smart-tivi-lg-qned-4k-50-inch-50qned80sra-1.jpg\n",
      "https://dienmaythiennamhoa.vn/static/images/thumbs/Images/4.%20hinh%20sp/3.%20Hinh%20SP%202/smart-tivi-lg-qned-4k-55-inch-55qned80sra-1.jpg\n",
      "smart-tivi-lg-qned-4k-55-inch-55qned80sra-1.jpg\n",
      "https://dienmaythiennamhoa.vn/static/images/thumbs/Images/4.%20hinh%20sp/3.%20Hinh%20SP%202/smart-tivi-samsung-the-frame-qled-4k-55-inch-qa55ls03dakxxv-1.jpg\n",
      "smart-tivi-samsung-the-frame-qled-4k-55-inch-qa55ls03dakxxv-1.jpg\n",
      "https://dienmaythiennamhoa.vn/static/images/thumbs/Images/4.%20hinh%20sp/3.%20Hinh%20SP%202/smart-tivi-samsung-the-frame-qled-4k-65-inch-qa65ls03dakxxv-1.jpg\n",
      "smart-tivi-samsung-the-frame-qled-4k-65-inch-qa65ls03dakxxv-1.jpg\n",
      "https://dienmaythiennamhoa.vn/static/images/thumbs/Images/4.%20hinh%20sp/3.%20Hinh%20SP%202/smart-tivi-samsung-the-frame-qled-4k-75-inch-qa75ls03dakxxv-1.jpg\n",
      "smart-tivi-samsung-the-frame-qled-4k-75-inch-qa75ls03dakxxv-1.jpg\n",
      "https://dienmaythiennamhoa.vn/static/images/thumbs/Images/4.%20hinh%20sp/3.%20Hinh%20SP%202/smart-tivi-samsung-crystal-uhd-4k-43-inch-ua43du7000kxxv-1.jpg\n",
      "smart-tivi-samsung-crystal-uhd-4k-43-inch-ua43du7000kxxv-1.jpg\n",
      "https://dienmaythiennamhoa.vn/static/images/thumbs/Images/4.%20hinh%20sp/3.%20Hinh%20SP%202/smart-tivi-samsung-crystal-uhd-4k-50-inch-ua50du7000kxxv-1.jpg\n",
      "smart-tivi-samsung-crystal-uhd-4k-50-inch-ua50du7000kxxv-1.jpg\n",
      "https://dienmaythiennamhoa.vn/static/images/thumbs/Images/4.%20hinh%20sp/3.%20Hinh%20SP%202/smart-tivi-samsung-crystal-uhd-4k-55-inch-ua55du7000kxxv-1.jpg\n",
      "smart-tivi-samsung-crystal-uhd-4k-55-inch-ua55du7000kxxv-1.jpg\n",
      "https://dienmaythiennamhoa.vn/static/images/thumbs/Images/4.%20hinh%20sp/3.%20Hinh%20SP%202/smart-tivi-samsung-crystal-uhd-4k-65-inch-ua65du7000kxxv-1.jpg\n",
      "smart-tivi-samsung-crystal-uhd-4k-65-inch-ua65du7000kxxv-1.jpg\n",
      "https://dienmaythiennamhoa.vn/static/images/thumbs/Images/4.%20hinh%20sp/3.%20Hinh%20SP%202/smart-tivi-samsung-crystal-uhd-4k-75-inch-ua75du7000kxxv-1.jpg\n",
      "smart-tivi-samsung-crystal-uhd-4k-75-inch-ua75du7000kxxv-1.jpg\n",
      "https://dienmaythiennamhoa.vn/static/images/thumbs/Images/4.%20hinh%20sp/3.%20Hinh%20SP%202/smart-tivi-samsung-crystal-uhd-4k-43-inch-ua43du7700kxxv-1.jpg\n",
      "smart-tivi-samsung-crystal-uhd-4k-43-inch-ua43du7700kxxv-1.jpg\n",
      "https://dienmaythiennamhoa.vn/static/images/thumbs/Images/4.%20hinh%20sp/3.%20Hinh%20SP%202/smart-tivi-samsung-crystal-uhd-4k-50-inch-ua50du7700kxxv-1.jpg\n",
      "smart-tivi-samsung-crystal-uhd-4k-50-inch-ua50du7700kxxv-1.jpg\n"
     ]
    }
   ],
   "source": [
    "list_image_links = []\n",
    "list_image_names = []\n",
    "tag_image_links = product_container.find_all(name= 'div', attrs = {'class' : 'image-card-cate'})\n",
    "for tag_image_link in tag_image_links:\n",
    "    image_link = tag_image_link.find('img')['data-src']\n",
    "    print(image_link)\n",
    "    img_name = image_link.split('/')[-1]\n",
    "    print(img_name)\n",
    "    list_image_names.append(img_name)\n",
    "    list_image_links.append(image_link)"
   ]
  }
 ],
 "metadata": {
  "kernelspec": {
   "display_name": "Python 3",
   "language": "python",
   "name": "python3"
  },
  "language_info": {
   "codemirror_mode": {
    "name": "ipython",
    "version": 3
   },
   "file_extension": ".py",
   "mimetype": "text/x-python",
   "name": "python",
   "nbconvert_exporter": "python",
   "pygments_lexer": "ipython3",
   "version": "3.11.9"
  }
 },
 "nbformat": 4,
 "nbformat_minor": 2
}
