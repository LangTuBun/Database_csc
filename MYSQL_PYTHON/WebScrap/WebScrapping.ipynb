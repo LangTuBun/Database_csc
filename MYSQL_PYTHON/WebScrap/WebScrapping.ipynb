{
 "cells": [
  {
   "cell_type": "code",
   "execution_count": 1,
   "metadata": {},
   "outputs": [],
   "source": [
    "from mylibs import *\n",
    "from bs4 import BeautifulSoup\n",
    "import requests"
   ]
  },
  {
   "cell_type": "code",
   "execution_count": 2,
   "metadata": {},
   "outputs": [],
   "source": [
    "content = \"\"\"\n",
    "<html>\n",
    "<head>\n",
    "    <title>Sample Page</title>\n",
    "</head>\n",
    "<body>\n",
    "    <h1>Welcome to my website</h1>\n",
    "    <p>This is a paragraph of text.</p>\n",
    "    <ul>\n",
    "        <li>Item 1</li>\n",
    "        <li>Item 2</li>\n",
    "        <li>Item 3</li>\n",
    "    </ul>\n",
    "    <a id=\"ttth\" href=\"https://csc.edu.vn\">Trung tâm Tin học</a>\n",
    "    <a id=\"w3c\" href=\"https://w3schools.com\">W3Schools</a>\n",
    "    <img src='https://csc.edu.vn/template/frontend/images/logo.png'>\n",
    "</body>\n",
    "</html>\n",
    "\"\"\"\n"
   ]
  },
  {
   "cell_type": "code",
   "execution_count": 24,
   "metadata": {},
   "outputs": [
    {
     "data": {
      "text/plain": [
       "\n",
       "<html>\n",
       "<head>\n",
       "<title>Sample Page</title>\n",
       "</head>\n",
       "<body>\n",
       "<h1>Welcome to my website</h1>\n",
       "<p>This is a paragraph of text.</p>\n",
       "<ul>\n",
       "<li>Item 1</li>\n",
       "<li>Item 2</li>\n",
       "<li>Item 3</li>\n",
       "</ul>\n",
       "<a href=\"https://csc.edu.vn\" id=\"ttth\">Trung tâm Tin học</a>\n",
       "<a href=\"https://w3schools.com\" id=\"w3c\">W3Schools</a>\n",
       "<img src=\"https://csc.edu.vn/template/frontend/images/logo.png\"/>\n",
       "</body>\n",
       "</html>"
      ]
     },
     "execution_count": 24,
     "metadata": {},
     "output_type": "execute_result"
    }
   ],
   "source": [
    "page_content = BeautifulSoup(content, \"html.parser\")\n",
    "page_content"
   ]
  },
  {
   "cell_type": "code",
   "execution_count": 28,
   "metadata": {},
   "outputs": [
    {
     "name": "stdout",
     "output_type": "stream",
     "text": [
      "Welcome to my website\n",
      "This is a paragraph of text.\n",
      "Item 1\n",
      "Item 2\n",
      "Item 3\n"
     ]
    }
   ],
   "source": [
    "for  i in page_content([\"h1\", \"p\", \"li\"]):\n",
    "    print(i.text)\n",
    "    i.decompose()  "
   ]
  },
  {
   "cell_type": "code",
   "execution_count": 25,
   "metadata": {},
   "outputs": [],
   "source": [
    "tag_h1 = page_content.head\n",
    "tag_h1.decompose()"
   ]
  },
  {
   "cell_type": "code",
   "execution_count": 45,
   "metadata": {},
   "outputs": [
    {
     "data": {
      "text/plain": [
       "'This is a paragraph of text.'"
      ]
     },
     "execution_count": 45,
     "metadata": {},
     "output_type": "execute_result"
    }
   ],
   "source": [
    "\n",
    "tag_p = page_content.p\n",
    "tag_p.text"
   ]
  },
  {
   "cell_type": "code",
   "execution_count": 29,
   "metadata": {},
   "outputs": [
    {
     "data": {
      "text/plain": [
       "\n",
       "<html>\n",
       "\n",
       "<body>\n",
       "\n",
       "\n",
       "<ul>\n",
       "\n",
       "\n",
       "\n",
       "</ul>\n",
       "<a href=\"https://csc.edu.vn\" id=\"ttth\">Trung tâm Tin học</a>\n",
       "<a href=\"https://w3schools.com\" id=\"w3c\">W3Schools</a>\n",
       "<img src=\"https://csc.edu.vn/template/frontend/images/logo.png\"/>\n",
       "</body>\n",
       "</html>"
      ]
     },
     "execution_count": 29,
     "metadata": {},
     "output_type": "execute_result"
    }
   ],
   "source": [
    "page_content"
   ]
  },
  {
   "cell_type": "code",
   "execution_count": 10,
   "metadata": {},
   "outputs": [
    {
     "name": "stdout",
     "output_type": "stream",
     "text": [
      "None\n"
     ]
    }
   ],
   "source": [
    "tag_a = page_content.a  \n",
    "print(tag_a.decompose())"
   ]
  },
  {
   "cell_type": "code",
   "execution_count": 47,
   "metadata": {},
   "outputs": [
    {
     "data": {
      "text/plain": [
       "'W3Schools'"
      ]
     },
     "execution_count": 47,
     "metadata": {},
     "output_type": "execute_result"
    }
   ],
   "source": [
    "tag_a_2 = page_content.find(name = 'a', attrs= {'id' : 'w3c'})\n",
    "\n",
    "tag_a_2.text"
   ]
  },
  {
   "cell_type": "code",
   "execution_count": 48,
   "metadata": {},
   "outputs": [
    {
     "name": "stdout",
     "output_type": "stream",
     "text": [
      "{'id': 'ttth', 'href': 'https://csc.edu.vn'}\n",
      "{'id': 'w3c', 'href': 'https://w3schools.com'}\n"
     ]
    }
   ],
   "source": [
    "tag_3_s = page_content.find_all(name = 'a')\n",
    "for tag in tag_3_s:\n",
    "    print(tag.attrs)"
   ]
  },
  {
   "cell_type": "code",
   "execution_count": 49,
   "metadata": {},
   "outputs": [
    {
     "name": "stdout",
     "output_type": "stream",
     "text": [
      "Item 1\n",
      "Item 2\n",
      "Item 3\n"
     ]
    }
   ],
   "source": [
    "tag_item = page_content.find_all(name = 'li')\n",
    "for tag in tag_item:\n",
    "    print(tag.text)"
   ]
  },
  {
   "cell_type": "code",
   "execution_count": 60,
   "metadata": {},
   "outputs": [],
   "source": [
    "tag_img = page_content.img\n",
    "link = tag_img['src'] \n",
    "image_name = link.split('/')[-1]"
   ]
  },
  {
   "cell_type": "code",
   "execution_count": 61,
   "metadata": {},
   "outputs": [
    {
     "name": "stdout",
     "output_type": "stream",
     "text": [
      "Downloaded image at: logo.png\n"
     ]
    }
   ],
   "source": [
    "download_image(link, image_name)\n"
   ]
  },
  {
   "cell_type": "code",
   "execution_count": null,
   "metadata": {},
   "outputs": [],
   "source": []
  }
 ],
 "metadata": {
  "kernelspec": {
   "display_name": "Python 3",
   "language": "python",
   "name": "python3"
  },
  "language_info": {
   "codemirror_mode": {
    "name": "ipython",
    "version": 3
   },
   "file_extension": ".py",
   "mimetype": "text/x-python",
   "name": "python",
   "nbconvert_exporter": "python",
   "pygments_lexer": "ipython3",
   "version": "3.11.9"
  }
 },
 "nbformat": 4,
 "nbformat_minor": 2
}
