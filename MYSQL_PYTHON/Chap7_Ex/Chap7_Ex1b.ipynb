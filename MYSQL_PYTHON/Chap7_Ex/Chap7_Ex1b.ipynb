{
 "cells": [
  {
   "cell_type": "code",
   "execution_count": 2,
   "metadata": {},
   "outputs": [],
   "source": [
    "\n",
    "from selenium import webdriver\n",
    "from selenium.webdriver.common.by import By\n",
    "# from mylibs import *\n",
    "import pandas as pd\n",
    "import time\n",
    "\n"
   ]
  },
  {
   "cell_type": "code",
   "execution_count": 3,
   "metadata": {},
   "outputs": [],
   "source": [
    "url = 'https://www.boxofficemojo.com/chart/top_lifetime_gross/?area=XWW'\n",
    "driver = webdriver.Edge()\n",
    "driver.get(url)"
   ]
  },
  {
   "cell_type": "code",
   "execution_count": 4,
   "metadata": {},
   "outputs": [],
   "source": [
    "Movie_container = driver.find_element(By.XPATH, '//div[@class =\"a-section imdb-scroll-table-inner\"]').find_element(By.XPATH, '//table[@class=\"a-bordered a-horizontal-stripes a-size-base a-span12 mojo-body-table mojo-table-annotated scrolling-data-table\"]')\n",
    "list_tile = []\n",
    "list_lifetime_gross = []    \n",
    "list_year = []\n",
    "total_titles = Movie_container.find_elements(by = By.CSS_SELECTOR, value = 'td.a-text-left.mojo-field-type-title a.a-link-normal')\n",
    "total_lifetime_gross = Movie_container.find_elements(by = By.CSS_SELECTOR, value = 'td.a-text-right.mojo-field-type-money')\n",
    "total_years = Movie_container.find_elements(by = By.CSS_SELECTOR, value = 'td.a-text-left.mojo-field-type-year a.a-link-normal')\n",
    "\n"
   ]
  },
  {
   "cell_type": "code",
   "execution_count": 5,
   "metadata": {},
   "outputs": [
    {
     "name": "stdout",
     "output_type": "stream",
     "text": [
      "200 ['Avatar', 'Avengers: Endgame', 'Avatar: The Way of Water', 'Titanic', 'Star Wars: Episode VII - The Force Awakens', 'Avengers: Infinity War', 'Spider-Man: No Way Home', 'Jurassic World', 'The Lion King', 'Inside Out 2', 'The Avengers', 'Furious 7', 'Top Gun: Maverick', 'Frozen II', 'Barbie', 'Avengers: Age of Ultron', 'Black Panther', 'The Super Mario Bros. Movie', 'Harry Potter and the Deathly Hallows: Part 2', 'Star Wars: Episode VIII - The Last Jedi', 'Jurassic World: Fallen Kingdom', 'Frozen', 'Beauty and the Beast', 'Incredibles 2', 'The Fate of the Furious', 'Iron Man 3', 'Deadpool & Wolverine', 'Minions', 'Captain America: Civil War', 'Aquaman', 'Spider-Man: Far from Home', 'The Lord of the Rings: The Return of the King', 'Captain Marvel', 'Transformers: Dark of the Moon', 'Skyfall', 'Jurassic Park', 'Transformers: Age of Extinction', 'The Dark Knight Rises', 'Joker', 'Star Wars: Episode IX - The Rise of Skywalker', 'Toy Story 4', 'Toy Story 3', \"Pirates of the Caribbean: Dead Man's Chest\", 'Rogue One: A Star Wars Story', 'Aladdin', 'Pirates of the Caribbean: On Stranger Tides', 'Star Wars: Episode I - The Phantom Menace', 'Despicable Me 3', 'Finding Dory', 'Zootopia', 'Alice in Wonderland', \"Harry Potter and the Sorcerer's Stone\", 'The Hobbit: An Unexpected Journey', 'The Dark Knight', 'Jurassic World Dominion', 'The Lion King', 'Oppenheimer', 'Despicable Me 2', 'The Jungle Book', 'Jumanji: Welcome to the Jungle', 'The Hobbit: The Battle of the Five Armies', \"Pirates of the Caribbean: At World's End\", 'Harry Potter and the Deathly Hallows: Part 1', 'The Hobbit: The Desolation of Smaug', 'Doctor Strange in the Multiverse of Madness', 'Harry Potter and the Order of the Phoenix', 'Finding Nemo', 'Harry Potter and the Half-Blood Prince', 'Minions: The Rise of Gru', 'The Lord of the Rings: The Two Towers', 'Shrek 2', 'Bohemian Rhapsody', 'The Battle at Lake Changjin', 'Harry Potter and the Goblet of Fire', 'Spider-Man 3', 'The Lord of the Rings: The Fellowship of the Ring', 'Ice Age: Dawn of the Dinosaurs', 'Despicable Me 4', 'Spider-Man: Homecoming', 'Harry Potter and the Chamber of Secrets', 'Spectre', 'Ice Age: Continental Drift', 'The Secret Life of Pets', 'Batman v Superman: Dawn of Justice', 'Wolf Warrior 2', 'Star Wars: Episode III - Revenge of the Sith', 'The Hunger Games: Catching Fire', 'Guardians of the Galaxy Vol. 2', 'Black Panther: Wakanda Forever', 'Inside Out', 'Venom', 'Thor: Ragnarok', 'The Twilight Saga: Breaking Dawn - Part 2', 'Guardians of the Galaxy Vol. 3', 'Inception', 'Transformers: Revenge of the Fallen', 'Spider-Man', 'Wonder Woman', 'Hi, Mom', 'Independence Day', 'Fantastic Beasts and Where to Find Them', 'Coco', 'Shrek the Third', 'Harry Potter and the Prisoner of Azkaban', 'Jumanji: The Next Level', 'E.T. the Extra-Terrestrial', 'Pirates of the Caribbean: Dead Men Tell No Tales', 'Mission: Impossible - Fallout', '2012', 'Spider-Man 2', 'Fast & Furious 6', 'Indiana Jones and the Kingdom of the Crystal Skull', 'Deadpool 2', 'Deadpool', 'Star Wars: Episode IV - A New Hope', 'No Time to Die', 'Guardians of the Galaxy', 'Gravity', 'The Batman', 'The Amazing Spider-Man', 'Thor: Love and Thunder', 'Fast & Furious Presents: Hobbs & Shaw', 'The Da Vinci Code', 'Maleficent', 'The Hunger Games: Mockingjay - Part 1', 'Shrek Forever After', 'Suicide Squad', \"Madagascar 3: Europe's Most Wanted\", 'X-Men: Days of Future Past', 'The Chronicles of Narnia: The Lion, the Witch and the Wardrobe', 'Monsters University', 'The Matrix Reloaded', 'Up', 'Ne Zha', 'F9: The Fast Saga', 'The Amazing Spider-Man 2', 'Captain America: The Winter Soldier', 'The Twilight Saga: Breaking Dawn - Part 1', 'Dune: Part Two', 'The Twilight Saga: New Moon', 'Dawn of the Planet of the Apes', 'Transformers', 'Interstellar', 'Fast X', 'It', 'The Wandering Earth', 'The Twilight Saga: Eclipse', 'The Hunger Games', 'Mission: Impossible - Ghost Protocol', 'Mamma Mia!', 'Spider-Man: Across the Spider-Verse', 'Detective Chinatown 3', 'Mission: Impossible - Rogue Nation', 'Forrest Gump', 'Doctor Strange', 'The Sixth Sense', 'Man of Steel', 'Ice Age: The Meltdown', 'Kung Fu Panda 2', 'The Hunger Games: Mockingjay - Part 2', 'Justice League', 'Big Hero 6', 'Fantastic Beasts: The Crimes of Grindelwald', 'Pirates of the Caribbean: The Curse of the Black Pearl', 'Men in Black³', 'Star Wars: Episode II - Attack of the Clones', 'Thor: The Dark World', 'Moana', 'Sing', 'Wonka', 'Kung Fu Panda', 'The Incredibles', 'The Martian', 'Hancock', 'Water Gate Bridge', 'Fast Five', 'Iron Man 2', 'Ratatouille', 'Ant-Man and the Wasp', 'How to Train Your Dragon 2', 'Logan', 'The Lost World: Jurassic Park', 'Casino Royale', 'The Passion of the Christ', 'Life of Pi', 'Ready Player One', 'Transformers: The Last Knight', 'Madagascar: Escape 2 Africa', 'War of the Worlds', 'Tangled', 'Quantum of Solace', 'Men in Black', 'The Croods', 'The Hangover Part II', 'Iron Man', 'I Am Legend', 'Monsters, Inc.', 'Operation Red Sea', 'Night at the Museum', 'Fifty Shades of Grey']\n"
     ]
    }
   ],
   "source": [
    "for tile in total_titles:\n",
    "    # print(tile.text)\n",
    "    list_tile.append(tile.text)\n",
    "print(len(list_tile), list_tile)\n",
    "    \n"
   ]
  },
  {
   "cell_type": "code",
   "execution_count": 6,
   "metadata": {},
   "outputs": [
    {
     "name": "stdout",
     "output_type": "stream",
     "text": [
      "200 [2923706026, 2799439100, 2320250281, 2264750694, 2071310218, 2052415039, 1928040905, 1671537444, 1663079059, 1649841017, 1520538536, 1515342457, 1495696292, 1453683476, 1445638421, 1405018048, 1374959729, 1361992475, 1342480797, 1334407706, 1310469037, 1306000529, 1266115964, 1243225667, 1236009236, 1215577205, 1213781524, 1159457503, 1155046416, 1152028393, 1138121790, 1137657848, 1131416446, 1123794079, 1108594137, 1104379926, 1104054072, 1085289416, 1078958629, 1077022372, 1073841394, 1067316101, 1066179747, 1058684742, 1054304000, 1046721266, 1046515409, 1034800131, 1029266989, 1025521689, 1025468216, 1024466594, 1017106749, 1008524647, 1001978080, 979046652, 975498223, 970766005, 967724775, 962544585, 962253946, 961691209, 960897696, 959079095, 955775804, 942859770, 941637960, 941055851, 940203765, 937893849, 932396221, 910813521, 902548476, 897468952, 897065420, 887681857, 886686817, 886518265, 886360945, 882545232, 880707597, 877244782, 875698161, 874362803, 870325439, 868390560, 865011746, 863756903, 859208836, 859076254, 856085161, 855301806, 848593948, 845555777, 839030630, 836303693, 831218830, 823970682, 822009764, 817400891, 816037575, 814641172, 813367380, 808450729, 801693929, 797307407, 795922298, 791658205, 791217826, 789960135, 788683342, 786636033, 785896632, 782837347, 775398507, 774153007, 773350376, 773031617, 772245583, 764124457, 760928081, 760732926, 760006945, 759853685, 759159711, 752600867, 749200054, 746921274, 746045700, 745013115, 743559645, 741847937, 735102136, 726264074, 726229501, 715176117, 714421503, 712205856, 711844358, 711048123, 710644566, 709709780, 705191242, 704875015, 704242888, 699992512, 698513085, 695220619, 694713380, 694667804, 690897910, 686257563, 682716636, 678226465, 677796833, 672806432, 670145518, 667094506, 665692281, 661456867, 661326987, 657870525, 655755901, 654264546, 654213485, 653780724, 644783140, 643332467, 634338409, 632302312, 632091832, 631688498, 630621406, 629443428, 626571697, 626140012, 623933331, 623728318, 622674139, 621537519, 619180476, 618638999, 616577552, 612060372, 609016565, 607874422, 605425157, 603900354, 603873504, 592472813, 589593688, 589390539, 587266745, 586764305, 585796247, 585410052, 579723768, 579330426, 574482479, 569651467]\n"
     ]
    }
   ],
   "source": [
    "\n",
    "for lifetime_gross in total_lifetime_gross:\n",
    "    # print(lifetime_gross.text)\n",
    "    list_lifetime_gross.append(int(lifetime_gross.text.replace('$','').replace(',','')))\n",
    "print(len(list_lifetime_gross), list_lifetime_gross)"
   ]
  },
  {
   "cell_type": "code",
   "execution_count": 7,
   "metadata": {},
   "outputs": [
    {
     "name": "stdout",
     "output_type": "stream",
     "text": [
      "200 [2009, 2019, 2022, 1997, 2015, 2018, 2021, 2015, 2019, 2024, 2012, 2015, 2022, 2019, 2023, 2015, 2018, 2023, 2011, 2017, 2018, 2013, 2017, 2018, 2017, 2013, 2024, 2015, 2016, 2018, 2019, 2003, 2019, 2011, 2012, 1993, 2014, 2012, 2019, 2019, 2019, 2010, 2006, 2016, 2019, 2011, 1999, 2017, 2016, 2016, 2010, 2001, 2012, 2008, 2022, 1994, 2023, 2013, 2016, 2017, 2014, 2007, 2010, 2013, 2022, 2007, 2003, 2009, 2022, 2002, 2004, 2018, 2021, 2005, 2007, 2001, 2009, 2024, 2017, 2002, 2015, 2012, 2016, 2016, 2017, 2005, 2013, 2017, 2022, 2015, 2018, 2017, 2012, 2023, 2010, 2009, 2002, 2017, 2021, 1996, 2016, 2017, 2007, 2004, 2019, 1982, 2017, 2018, 2009, 2004, 2013, 2008, 2018, 2016, 1977, 2021, 2014, 2013, 2022, 2012, 2022, 2019, 2006, 2014, 2014, 2010, 2016, 2012, 2014, 2005, 2013, 2003, 2009, 2019, 2021, 2014, 2014, 2011, 2024, 2009, 2014, 2007, 2014, 2023, 2017, 2019, 2010, 2012, 2011, 2008, 2023, 2021, 2015, 1994, 2016, 1999, 2013, 2006, 2011, 2015, 2017, 2014, 2018, 2003, 2012, 2002, 2013, 2016, 2016, 2023, 2008, 2004, 2015, 2008, 2022, 2011, 2010, 2007, 2018, 2014, 2017, 1997, 2006, 2004, 2012, 2018, 2017, 2008, 2005, 2010, 2008, 1997, 2013, 2011, 2008, 2007, 2001, 2018, 2006, 2015]\n"
     ]
    }
   ],
   "source": [
    "for year in total_years:\n",
    "    list_year.append(int(year.text))\n",
    "print(len(list_year), list_year)"
   ]
  },
  {
   "cell_type": "code",
   "execution_count": 8,
   "metadata": {},
   "outputs": [],
   "source": [
    "dataframe = {\n",
    "    'Title': list_tile,\n",
    "    'Lifetime Gross': list_lifetime_gross,\n",
    "    'Year': list_year\n",
    "}\n",
    "df = pd.DataFrame(dataframe)\n",
    "df.head(10)\n",
    "df.to_csv('top_200_movies_with_liftime_gross.csv', index = False)"
   ]
  }
 ],
 "metadata": {
  "kernelspec": {
   "display_name": "Python 3",
   "language": "python",
   "name": "python3"
  },
  "language_info": {
   "codemirror_mode": {
    "name": "ipython",
    "version": 3
   },
   "file_extension": ".py",
   "mimetype": "text/x-python",
   "name": "python",
   "nbconvert_exporter": "python",
   "pygments_lexer": "ipython3",
   "version": "3.11.9"
  }
 },
 "nbformat": 4,
 "nbformat_minor": 2
}
