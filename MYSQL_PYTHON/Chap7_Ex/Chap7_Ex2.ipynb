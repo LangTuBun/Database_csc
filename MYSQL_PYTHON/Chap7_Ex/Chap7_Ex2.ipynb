{
 "cells": [
  {
   "cell_type": "code",
   "execution_count": 11,
   "metadata": {},
   "outputs": [],
   "source": [
    "from selenium import webdriver\n",
    "from selenium.webdriver.common.by import By\n",
    "from selenium.webdriver.common.keys import Keys\n",
    "# from mylibs import *\n",
    "import pandas as pd\n",
    "import time\n",
    "from mylibs import *\n",
    "\n"
   ]
  },
  {
   "cell_type": "code",
   "execution_count": 13,
   "metadata": {},
   "outputs": [
    {
     "name": "stdout",
     "output_type": "stream",
     "text": [
      "Message: no such element: Unable to locate element: {\"method\":\"xpath\",\"selector\":\"//div[@class=\"see_more_cat\"]/button\"}\n",
      "  (Session info: MicrosoftEdge=128.0.2739.42); For documentation on this error, please visit: https://www.selenium.dev/documentation/webdriver/troubleshooting/errors#no-such-element-exception\n",
      "Stacktrace:\n",
      "\tGetHandleVerifier [0x00007FF69B653A12+10594]\n",
      "\tMicrosoft::Applications::Events::ILogConfiguration::operator* [0x00007FF69B5F0439+323321]\n",
      "\t(No symbol) [0x00007FF69B40F16E]\n",
      "\t(No symbol) [0x00007FF69B45656E]\n",
      "\t(No symbol) [0x00007FF69B4565F5]\n",
      "\t(No symbol) [0x00007FF69B494157]\n",
      "\t(No symbol) [0x00007FF69B477BBF]\n",
      "\t(No symbol) [0x00007FF69B44BEDD]\n",
      "\t(No symbol) [0x00007FF69B491B07]\n",
      "\t(No symbol) [0x00007FF69B4777E3]\n",
      "\t(No symbol) [0x00007FF69B44B3EC]\n",
      "\t(No symbol) [0x00007FF69B44A8CD]\n",
      "\t(No symbol) [0x00007FF69B44AFB1]\n",
      "\tMicrosoft::Applications::Events::EventProperty::empty [0x00007FF69B7DE4B4+918756]\n",
      "\tMicrosoft::Applications::Events::EventProperty::~EventProperty [0x00007FF69B57C9BF+54575]\n",
      "\tMicrosoft::Applications::Events::EventProperty::~EventProperty [0x00007FF69B56F557+199]\n",
      "\tMicrosoft::Applications::Events::EventProperty::empty [0x00007FF69B7DD23D+914029]\n",
      "\tMicrosoft::Applications::Events::ILogConfiguration::operator* [0x00007FF69B5F7EC1+354689]\n",
      "\tMicrosoft::Applications::Events::ILogConfiguration::operator* [0x00007FF69B5F4374+339508]\n",
      "\tMicrosoft::Applications::Events::ILogConfiguration::operator* [0x00007FF69B5F44A9+339817]\n",
      "\tMicrosoft::Applications::Events::ILogConfiguration::operator* [0x00007FF69B5EAD6C+301100]\n",
      "\tBaseThreadInitThunk [0x00007FF88143257D+29]\n",
      "\tRtlUserThreadStart [0x00007FF88358AF28+40]\n",
      "\n"
     ]
    }
   ],
   "source": [
    "url = 'https://dienmaycholon.com/tivi'\n",
    "driver = webdriver.Edge()\n",
    "driver.get(url)\n",
    "while True:\n",
    "    try: \n",
    "        driver.find_element(by = By.TAG_NAME, value = 'body').send_keys(Keys.END)\n",
    "        next_button = driver.find_element(By.XPATH, '//div[@class=\"see_more_cat\"]/button')\n",
    "    except Exception as e:\n",
    "        print(e)\n",
    "        break\n",
    "    else:\n",
    "        next_button.click()\n",
    "        time.sleep(3)"
   ]
  },
  {
   "cell_type": "code",
   "execution_count": null,
   "metadata": {},
   "outputs": [],
   "source": []
  },
  {
   "cell_type": "code",
   "execution_count": 14,
   "metadata": {},
   "outputs": [],
   "source": [
    "product_containers = driver.find_element(By.XPATH, '//div[@class=\"products\"]')\n",
    "product_names = product_containers.find_elements(By.XPATH, '//div[@class=\"product_block_desc\"]/a[@class =\"name_pro\"][@title]') #attribute: title\n",
    "product_og_prices = product_containers.find_elements(By.XPATH, '//div[@class=\"discount\"]/span[@class=\"price_market\"]') \n",
    "product_sale_prices = product_containers.find_elements(By.XPATH, '//div[@class=\"price_sale\"]/span')\n",
    "product_product_links = product_containers.find_elements(By.XPATH, '//div[@class=\"product_block_desc\"]/a[@class=\"name_pro\"][@href]') #attribute: href\n",
    "product_img_links = product_containers.find_elements(By.XPATH, '//div[@class=\"product\"]//a[@class=\"img_pro\"]//img[@class=\"lazy loaded\"]') #attribute: src\n"
   ]
  },
  {
   "cell_type": "code",
   "execution_count": 15,
   "metadata": {},
   "outputs": [
    {
     "name": "stdout",
     "output_type": "stream",
     "text": [
      "243 ['Samsung Smart Tivi UA55AU7002', 'LG Smart Tivi NanoCell 55NANO76SQA', 'Sony BRAVIA 3 K-55S30', 'LG Smart Tivi 55UT8050PSB', 'Casper Android Tivi QLED 4K 55 Inch 55QG8000', 'Samsung Smart Tivi QA55Q60D', 'Samsung Smart Tivi UA65AU7002', 'Samsung Smart Tivi QA55Q70D', 'LG Smart Tivi 65UT8050PSB', 'Samsung Smart Tivi QLED 4K 43 Inch QA43Q60B', 'TCL Smart Tivi 32S5400A', 'LG Smart Tivi NanoCell 65NANO76SQA', 'TCL Google Tivi 55P638', 'Samsung Smart Tivi QLED QA65Q60B', 'LG Smart Tivi 50UQ7050PSA', 'LG Smart Tivi 55QNED80TSA', 'LG Smart Tivi 65QNED80TSA', 'Sony Google Tivi XR-55X90L', 'Sony Google Tivi XR-65X90L', 'Sony Google Tivi XR-75X90L', 'Casper Smart Tivi 32 Inch 32HG5200', 'Coocaa Smart TV 32S3U+', 'TCL Smart Tivi 40S5400A', 'Sony Google Tivi 4K 55 Inch KD-55X75K', 'Coocaa Smart TV 43S3U+', 'LG Smart Tivi 43UQ7050PSA', 'Samsung Smart Tivi UA65DU8000', 'TCL Google Tivi 43C655', 'Samsung Smart Tivi QA65Q60D', 'Sony Google Tivi KD-43X75K', 'TCL Google Tivi 43P755', 'Casper Android Tivi 4K 50 Inch 50UGA610', 'TCL Google Tivi QLED 55C645', 'Sony BRAVIA 3 K-50S30', 'LG Smart Tivi 55UQ7050PSA', 'Sony BRAVIA 3 K-43S30', 'Samsung Smart Tivi UA55DU8000', 'TCL Google Tivi 55C655', 'Sharp Android Tivi 32 inch 2T-C32EG2X', 'LG Smart Tivi 55UQ7550PSF', 'TCL Google Tivi 50P755', 'Sony BRAVIA 3 K-65S30', 'LG Smart Tivi NanoCell 43NANO81TSA', 'Samsung Smart Tivi QLED 4K 75 Inch QA75Q60B', 'Hisense Smart Tivi 40A4N', 'Hisense Smart Tivi 32A4N', 'Samsung Smart Tivi QA65Q70D', 'TCL Google Tivi 55P755 Pro', 'Panasonic Android Tivi 32 Inch TH-32LS600V', 'TCL Google Tivi 50C655', 'Hisense Google Tivi 43A6500K', 'LG Smart Tivi 43UQ7550PSF', 'TCL Google Tivi 65P755 Pro', 'Xiaomi Google Tivi L32M8-P2SEA', 'Panasonic Android Tivi 43 Inch TH-43LS600V', 'TCL Google Tivi 75P755 Pro', 'LG Smart Tivi 75UR7550PSC', 'Sony Google Tivi 4K 65 Inch KD-65X75K', 'Samsung Smart Tivi UA43AU7002', 'LG Smart Tivi 43QNED80TSA', 'LG Smart Tivi 65QNED86TSA', 'TCL Google Tivi QD-Mini LED 55C755', 'Samsung Tivi Led 32 Inch UA32T4202A', 'TCL Google Tivi QLED 85C645', 'Samsung Smart Tivi QA55Q80D', 'TCL Google Tivi 65C655', 'Samsung Smart Tivi OLED 4K 65 Inch QA65S95B', 'LG Smart Tivi NanoCell 65NANO81TSA', 'LG Smart Tivi OLED OLED48C3PSA', 'LG Smart Tivi NanoCell 55NANO81TSA', 'TCL Google Tivi 75C655', 'TCL Google Tivi QD-Mini LED 65C755', 'LG Smart Tivi 75UR8050PSB', 'Samsung Smart Tivi QA75Q60D', 'Panasonic Google Tivi TH-43MX650V', 'Hisense Google Tivi 43U6K', 'Sony Google Tivi KD-55X80L', 'Samsung Smart Tivi QA43Q60D', 'Samsung Smart Tivi UA43BU8000', 'Sharp Android Tivi 42 inch 2T-C42EG2X', 'Xiaomi Google Tivi L55MA-ASEA', 'Samsung Smart Tivi QA55QN85D', 'Sony Google Tivi KD-65X85L', 'Xiaomi Google Tivi L43MA-SSEA', 'LG Smart Tivi OLED48B4PSA', 'LG Smart Tivi NanoCell 75NANO81TSA', 'Sony BRAVIA 3 K-75S30', 'LG Smart Tivi 55QNED86TSA', 'Sony Google Tivi XR-85X90L', 'Samsung Smart Tivi QA75Q70D', 'Xiaomi Google Tivi A Pro L55M8-A2SEA', 'TCL Google Tivi 98C655', 'Xiaomi Google Tivi L55MA-SSEA', 'Coocaa Google Tivi 75C9', 'Samsung Smart Tivi UA75DU8000', 'Panasonic Google Tivi TH-55MX650V', 'Samsung Smart Tivi QA65Q80D', 'LG Smart Tivi LG OLED55B4PSA', 'LG Smart Tivi Evo OLED65C4PSA', 'TCL Google Tivi QLED 75C645', 'Samsung Smart Tivi QA50Q60D', 'TCL Google Tivi QD-Mini LED 75C755', 'Samsung Smart Tivi QLED QA55Q70C', 'Samsung Smart Tivi QLED QA85Q70C', 'Samsung Smart Tivi QA65S90D', 'Coocaa Smart Tivi 32S3U', 'Xiaomi Google Tivi A L43MA-AFSEA', 'Sony BRAVIA 8 K-55XR80', 'LG Smart Tivi 50QNED80TSA', 'LG Smart Tivi OLED Evo Posé 55LX1QPSA', 'Sony BRAVIA 8 K-65XR80', 'Samsung Smart Tivi QA55S90D', 'Hisense Google Tivi 55A6500K', 'Sony Google Tivi 32 Inch KD-32W830K', 'Samsung Smart Tivi QLED 4K 85 Inch QA85Q60B', 'LG Smart Tivi Evo OLED55C4PSA', 'Samsung Smart Tivi Khung Tranh QA55LS03D', 'Samsung Smart Tivi QA65QN85D', 'Samsung Smart Tivi QA75QN85D', 'Coocaa Google Tivi 70Y72', 'Panasonic Android Tivi 43 Inch TH-43LX800V', 'Panasonic Android Tivi 43 Inch TH-43LX650V', 'Panasonic Google Tivi TH-65MX650V', 'Samsung Smart Tivi Khung Tranh QA65LS03D', 'Coocaa Smart Tivi 43S3U', 'LG Smart Tivi 43UQ8000PSC', 'Sony BRAVIA 3 K-85S30', 'LG Smart Tivi OLED65B4PSA', 'Hisense Smart Tivi 55U7K', 'Hisense Smart Tivi 40A4200G', 'LG Smart Tivi 65UR7550PSC', 'LG Smart Tivi OLED55A3PSA', 'LG Smart Tivi OLED OLED55G3PSA', 'Samsung Smart Tivi UA98DU9000', 'Hisense Smart Tivi 75U6K', 'LG Smart Tivi OLED83C3PSA', 'LG Smart Tivi Evo OLED77C4PSA', 'LG Smart Tivi LG Evo OLED65G4PSA', 'Samsung Smart Tivi QA75QN90D', 'Hisense Smart Tivi 65U7K', 'Sony Google Tivi XR-65A95L', 'Xiaomi Google Tivi A Pro L65M8-A2SEA', 'Samsung Smart Tivi QLED QA98Q80C', 'LG Smart Tivi NanoCell 86NANO81TSA', 'LG Smart Tivi 86QNED91TSA', 'LG Smart Tivi 75QNED91TSA', 'LG Smart Tivi LG Evo OLED55G4PSA', 'TCL Google Tivi 85C655', 'TCL Google Tivi 85C755', 'Samsung Smart Tivi Khung Tranh QA75LS03D', 'Samsung Smart Tivi QA85Q60D', 'Samsung Smart Tivi QA75Q80D', 'Samsung Smart Tivi QA85QN85D', 'Samsung Smart Tivi QA85QN90D', 'Samsung Smart Tivi QA98QN90D', 'Samsung Smart Tivi QA65QN800D', 'TCL Google Tivi QD-Mini LED 98C755', 'Hisense Google Tivi 75A6500K', 'Hisense Google Tivi 65U6K', 'Samsung Smart Tivi Neo QLED QA50QN90C', 'Samsung Smart Tivi QLED 4K 65 Inch QA65Q80B', 'Samsung Smart Tivi NEO QLED 4K 65 Inch QA65QN85B', 'Samsung Smart Tivi 4K 85 Inch UA85BU8000', 'Samsung Smart Tivi QLED QA55Q60B', 'Sony BRAVIA 9 K-75XR90', 'Sony Google Tivi BRAVIA 9 K-85XR90', 'Hisense Google Tivi 65A6500K', 'LG Smart Tivi 43UT8050PSB', 'LG Smart Tivi 86QNED80TSA', 'LG Smart Tivi 75QNED80TSA', 'Sony BRAVIA 7 K-65XR70', 'LG Smart Tivi 86QNED86TSA', 'LG Smart Tivi 75QNED86TSA', 'Samsung Smart Tivi QA85Q80D', 'Samsung Smart Tivi QA55QN90D', 'Samsung Smart Tivi QA65QN90D', 'Samsung Smart Tivi QA85QN900D', 'Hisense Smart Tivi 32A4200G', 'LG Smart Tivi 65UR8050PSB', 'LG Smart Tivi QNED 55QNED80SRA', 'Sony Google Tivi Sony XR-77A80L', 'Samsung Smart Tivi QLED QA65Q70C', 'Samsung Smart Tivi QA75QN800C', 'Samsung Smart Tivi Neo QLED QA85QN900C', 'TCL Google Tivi 75P638', 'Samsung Smart Tivi Crystal UHD UA55AU7700', 'LG Smart Tivi QNED 43QNED75SRA', 'LG Smart Tivi QNED 65QNED80SRA', 'LG Smart Tivi OLED48A3PSA', 'Samsung Smart Tivi OLED QA65S90C', 'Samsung Smart Tivi QLED QA50Q80C', 'Samsung Smart Tivi Neo QLED QA55QN85C', 'Panasonic Android Tivi 55 Inch TH-55LX650V', 'LG Smart Tivi NanoCell 43NANO76SQA', 'Toshiba Smart Tivi 100Z670NP', 'Toshiba Smart Tivi 85M450NP', 'Toshiba Smart Tivi 65M450NP', 'Toshiba Smart Tivi 55M450NP', 'Toshiba Smart Tivi 43M450NP', 'Toshiba Smart Tivi 75C350NP', 'Toshiba Smart Tivi 65E330NP', 'Toshiba Smart Tivi 55E330NP', 'Toshiba Smart Tivi 50E330NP', 'Toshiba Smart Tivi 43E330NP', 'Toshiba Smart Tivi 43E31MP', 'Coocaa Google Tivi 43Z73', 'Coocaa Google Tivi 40Z73', 'Coocaa Google Tivi 32Z73', 'Coocaa Google Tivi Di Động 24LP6000G', 'LG Smart Tivi Evo OLED48C4PSA', 'TCL Google Tivi 115X955 Max', 'LG Smart Tivi OLED65M4PSA', 'LG Smart Tivi OLED83M4PSA', 'LG Smart Tivi 65UT7350PSB', 'LG Smart Tivi 86UT8050PSB', 'LG Smart Tivi 75UT8050PSB', 'LG Smart Tivi 50UT8050PSB', 'LG Smart Tivi NanoCell 50NANO81TSA', 'Sony BRAVIA 7 K-75XR70', 'LG Smart Tivi 55LX1TPSA', 'LG Smart Tivi 98QNED89TSA', 'LG Smart Tivi Evo OLED83C4PSA', 'TCL Google Tivi 98C855', 'TCL Google Tivi 85C855', 'Samsung Smart Tivi UA43DU7700', 'Samsung Smart Tivi UA50DU7700', 'Samsung Smart Tivi UA55DU7700', 'Samsung Smart Tivi UA65DU7700', 'Samsung Smart Tivi UA75DU7700', 'Samsung Smart Tivi UA85DU7700', 'Samsung Smart Tivi UA43DU8000', 'Samsung Smart Tivi UA50DU8000', 'Samsung Smart Tivi UA85DU8000', 'Samsung Smart Tivi QA85Q70D', 'Samsung Smart Tivi QA77S95D', 'Samsung Smart Tivi QA65S95D', 'Hisense Google Tivi 55U6K', 'Coocaa Google Tivi 100A5D', 'Sony Google Tivi XR-77A95L', 'Samsung Smart Tivi Neo QLED QA98QN990C', 'Coocaa Smart Tivi 55S3U Pro', 'LG Smart Tivi 4K 86UR8050PSB', 'TCL Google Tivi Mini QLED TCL 75C845']\n"
     ]
    }
   ],
   "source": [
    "list_product_name = []\n",
    "for product_name in product_names:\n",
    "    list_product_name.append(product_name.text)\n",
    "print(len(list_product_name), list_product_name)"
   ]
  },
  {
   "cell_type": "code",
   "execution_count": 16,
   "metadata": {},
   "outputs": [
    {
     "name": "stdout",
     "output_type": "stream",
     "text": [
      "179 ['10.900.000đ', '22.900.000đ', '21.900.000đ', '16.900.000đ', '15.990.000đ', '17.900.000đ', '13.900.000đ', '19.900.000đ', '12.900.000đ', '4.590.000đ', '29.900.000đ', '10.490.000đ', '18.900.000đ', '11.900.000đ', '22.900.000đ', '29.900.000đ', '31.700.000đ', '40.900.000đ', '47.500.000đ', '5.990.000đ', '5.590.000đ', '16.500.000đ', '7.990.000đ', '10.900.000đ', '9.990.000đ', '21.900.000đ', '11.700.000đ', '9.490.000đ', '14.990.000đ', '17.900.000đ', '14.900.000đ', '16.500.000đ', '13.990.000đ', '16.900.000đ', '26.600.000đ', '13.900.000đ', '31.900.000đ', '6.190.000đ', '4.790.000đ', '12.490.000đ', '8.000.000đ', '8.290.000đ', '12.900.000đ', '15.490.000đ', '4.490.000đ', '10.300.000đ', '20.990.000đ', '26.900.000đ', '20.700.000đ', '8.400.000đ', '15.900.000đ', '34.900.000đ', '21.990.000đ', '5.900.000đ', '44.990.000đ', '17.990.000đ', '56.900.000đ', '23.900.000đ', '36.900.000đ', '18.900.000đ', '25.990.000đ', '26.990.000đ', '28.900.000đ', '33.900.000đ', '13.000.000đ', '11.990.000đ', '18.800.000đ', '9.900.000đ', '6.990.000đ', '10.490.000đ', '35.300.000đ', '31.900.000đ', '36.900.000đ', '39.100.000đ', '27.900.000đ', '65.000.000đ', '39.900.000đ', '11.490.000đ', '69.900.000đ', '25.990.000đ', '17.900.000đ', '69.900.000đ', '26.990.000đ', '21.900.000đ', '64.900.000đ', '63.900.000đ', '5.590.000đ', '52.700.000đ', '19.900.000đ', '54.900.000đ', '72.900.000đ', '44.900.000đ', '9.990.000đ', '8.200.000đ', '46.900.000đ', '44.900.000đ', '44.900.000đ', '66.900.000đ', '13.990.000đ', '16.800.000đ', '15.500.000đ', '23.000.000đ', '7.990.000đ', '14.400.000đ', '55.800.000đ', '59.900.000đ', '22.990.000đ', '6.190.000đ', '16.900.000đ', '39.900.000đ', '54.900.000đ', '98.900.000đ', '30.900.000đ', '149.000.000đ', '109.900.000đ', '27.990.000đ', '14.990.000đ', '139.900.000đ', '59.900.000đ', '59.990.000đ', '51.900.000đ', '99.900.000đ', '99.990.000đ', '19.990.000đ', '19.990.000đ', '36.900.000đ', '27.900.000đ', '39.900.000đ', '41.900.000đ', '15.900.000đ', '134.800.000đ', '13.990.000đ', '11.900.000đ', '63.900.000đ', '43.900.000đ', '63.400.000đ', '49.900.000đ', '4.790.000đ', '18.900.000đ', '24.900.000đ', '104.100.000đ', '25.900.000đ', '129.900.000đ', '219.900.000đ', '18.990.000đ', '12.400.000đ', '14.900.000đ', '28.900.000đ', '31.900.000đ', '62.900.000đ', '23.900.000đ', '35.900.000đ', '20.100.000đ', '15.900.000đ', '99.900.000đ', '16.990.000đ', '9.990.000đ', '6.490.000đ', '5.990.000đ', '4.990.000đ', '34.900.000đ', '16.900.000đ', '49.900.000đ', '30.900.000đ', '14.900.000đ', '16.400.000đ', '49.900.000đ', '139.900.000đ', '139.900.000đ', '89.990.000đ', '109.900.000đ', '69.900.000đ', '15.990.000đ', '95.990.000đ', '145.800.000đ', '949.000.000đ', '10.990.000đ', '45.900.000đ', '47.990.000đ']\n"
     ]
    }
   ],
   "source": [
    "\n",
    "list_og_price = []\n",
    "for prouduct_og_price in product_og_prices:\n",
    "    list_og_price.append(prouduct_og_price.text)\n",
    "print(len(list_og_price), list_og_price)"
   ]
  },
  {
   "cell_type": "code",
   "execution_count": 17,
   "metadata": {},
   "outputs": [
    {
     "name": "stdout",
     "output_type": "stream",
     "text": [
      "243 ['8290000', '13890000', '17890000', '12890000', '6000000', '15890000', '10990000', '20490000', '14890000', '9990000', '4090000', '15490000', '7990000', '14990000', '8990000', '18390000', '20890000', '26490000', '31890000', '39890000', '3490000', '2000000', '5190000', '00000000', '3000000', '0000000', '18390000', '8490000', '17590000', '0000000', '7590000', '0000000', '10490000', '15890000', '0000000', '13890000', '14890000', '11890000', '4990000', '0000000', '8990000', '21890000', '11390000', '23990000', '4990000', '3990000', '24890000', '10990000', '6190000', '10490000', '6490000', '8990000', '13990000', '3990000', '8490000', '14990000', '20890000', '00000000', '6490000', '13890000', '25890000', '18190000', '4790000', '00000000', '25890000', '14990000', '00000000', '17890000', '20990000', '14890000', '19990000', '23790000', '21890000', '27190000', '9990000', '7490000', '16890000', '12890000', '8490000', '5990000', '9490000', '32890000', '00000000', '7490000', '18490000', '26890000', '32390000', '20890000', '57890000', '35890000', '8790000', '39990000', '10490000', '11990000', '29390000', '14390000', '32890000', '31890000', '56890000', '18990000', '14990000', '36590000', '12990000', '33990000', '52890000', '2490000', '5990000', '44890000', '16390000', '29890000', '64890000', '39890000', '7990000', '5490000', '26490000', '37890000', '25490000', '39890000', '55890000', '8639000', '10490000', '6890000', '17890000', '34890000', '3490000', '0000000', '44890000', '42890000', '18590000', '3990000', '00000000', '18990000', '26990000', '79990000', '24990000', '84990000', '82890000', '64890000', '78890000', '23590000', '84890000', '12990000', '99900000', '47890000', '108990000', '79890000', '44890000', '37890000', '49990000', '00000000', '54890000', '45890000', '87890000', '112890000', '164890000', '89900000', '69990000', '15990000', '15590000', '11990000', '13990000', '14790000', '23990000', '10990000', '92890000', '121990000', '10990000', '10390000', '57690000', '34890000', '54890000', '65890000', '39890000', '68890000', '44890000', '49890000', '214890000', '2990000', '10390000', '11990000', '78490000', '13990000', '36990000', '79990000', '13990000', '0000000', '8990000', '12990000', '13990000', '28990000', '9990000', '14990000', '8490000', '8390000', '79890000', '49890000', '18990000', '14990000', '9990000', '21490000', '14990000', '11990000', '9990000', '7990000', '5990000', '4939000', '4590000', '3539000', '5490000', '29890000', '699890000', '118890000', '197990000', '14390000', '39890000', '23890000', '12390000', '14390000', '69890000', '39890000', '00000000', '144990000', '109890000', '76990000', '9690000', '13400000', '14900000', '17890000', '27390000', '45900000', '11390000', '14390000', '49890000', '64890000', '94890000', '62890000', '11590000', '48890000', '128990000', '390000000', '5490000', '29890000', '26990000']\n"
     ]
    }
   ],
   "source": [
    "list_sale_price = []\n",
    "for product_sale_price in product_sale_prices:\n",
    "    list_sale_price.append(product_sale_price.text.replace('.', '').replace('X', '0').replace('đ', '').split(\" \")[-1])\n",
    "print(len(list_sale_price), list_sale_price)"
   ]
  },
  {
   "cell_type": "code",
   "execution_count": 18,
   "metadata": {},
   "outputs": [
    {
     "name": "stdout",
     "output_type": "stream",
     "text": [
      "243 ['https://cdn11.dienmaycholon.vn/filewebdmclnew/DMCL21/Picture//Apro/Apro_product_30655/smart-tivi-sams_main_503_450.png.webp', 'https://cdn11.dienmaycholon.vn/filewebdmclnew/DMCL21/Picture//Apro/Apro_product_30465/smart-nanocell-_main_385_450.png.webp', 'https://cdn11.dienmaycholon.vn/filewebdmclnew/DMCL21/Picture//Apro/Apro_product_34471/sony-bravia-3-l_main_119_450.png.webp', 'https://cdn11.dienmaycholon.vn/filewebdmclnew/DMCL21/Picture//Apro/Apro_product_34490/smart-tivi-lg-4_main_979_450.png.webp', 'https://cdn11.dienmaycholon.vn/filewebdmclnew/DMCL21/Picture//Apro/Apro_product_29844/android-tivi-ql_main_362_450.png.webp', 'https://cdn11.dienmaycholon.vn/filewebdmclnew/DMCL21/Picture//Apro/Apro_product_34270/smart-tivi-qled_main_803_450.png.webp', 'https://cdn11.dienmaycholon.vn/filewebdmclnew/DMCL21/Picture//Apro/Apro_product_30654/smart-tivi-sams_main_371_450.png.webp', 'https://cdn11.dienmaycholon.vn/filewebdmclnew/DMCL21/Picture//Apro/Apro_product_34266/smart-tivi-qled_main_360_450.png.webp', 'https://cdn11.dienmaycholon.vn/filewebdmclnew/DMCL21/Picture//Apro/Apro_product_34491/smart-tivi-lg-4_main_197_450.png.webp', 'https://cdn11.dienmaycholon.vn/filewebdmclnew/DMCL21/Picture//Apro/Apro_product_29965/smart-tivi-sams_main_474_450.png.webp', 'https://cdn11.dienmaycholon.vn/filewebdmclnew/DMCL21/Picture//Apro/Apro_product_32857/smart-tivi-tcl-_main_391_450.png.webp', 'https://cdn11.dienmaycholon.vn/filewebdmclnew/DMCL21/Picture//Apro/Apro_product_30460/smart-nanocell-_main_400_450.png.webp', 'https://cdn11.dienmaycholon.vn/filewebdmclnew/DMCL21/Picture//Apro/Apro_product_31050/google-tivi-tcl_main_879_450.png.webp', 'https://cdn11.dienmaycholon.vn/filewebdmclnew/DMCL21/Picture//Apro/Apro_product_29962/smart-tivi-sams_main_127_450.png.webp', 'https://cdn11.dienmaycholon.vn/filewebdmclnew/DMCL21/Picture//Apro/Apro_product_34892/smart-tivi-lg-4_main_220_450.png.webp', 'https://cdn11.dienmaycholon.vn/filewebdmclnew/DMCL21/Picture//Apro/Apro_product_34477/smart-tivi-qned_main_843_450.png.webp', 'https://cdn11.dienmaycholon.vn/filewebdmclnew/DMCL21/Picture//Apro/Apro_product_34478/smart-tivi-qned_main_738_450.png.webp', 'https://cdn11.dienmaycholon.vn/filewebdmclnew/DMCL21/Picture//Apro/Apro_product_32712/google-tivi-son_main_827_450.png.webp', 'https://cdn11.dienmaycholon.vn/filewebdmclnew/DMCL21/Picture//Apro/Apro_product_32849/google-tivi-son_main_539_450.png.webp', 'https://cdn11.dienmaycholon.vn/filewebdmclnew/DMCL21/Picture//Apro/Apro_product_32848/google-tivi-son_main_46_450.png.webp', 'https://cdn11.dienmaycholon.vn/filewebdmclnew/DMCL21/Picture//Apro/Apro_product_24812/smart-tivi-casp_main_790_450.png.webp', 'https://cdn11.dienmaycholon.vn/filewebdmclnew/DMCL21/Picture//Apro/Apro_product_34611/smart-tv-hd-coo_main_110_450.png.webp', 'https://cdn11.dienmaycholon.vn/filewebdmclnew/DMCL21/Picture//Apro/Apro_product_32858/smart-tivi-tcl-_main_923_450.png.webp', 'https://cdn11.dienmaycholon.vn/filewebdmclnew/DMCL21/Picture//Apro/Apro_product_30193/google-tivi-son_main_605_450.png.webp', 'https://cdn11.dienmaycholon.vn/filewebdmclnew/DMCL21/Picture//Apro/Apro_product_34612/smart-tv-full-h_main_392_450.png.webp', 'https://cdn11.dienmaycholon.vn/filewebdmclnew/DMCL21/Picture//Apro/Apro_product_33963/smart-tivi-lg-4_main_216_450.png.webp', 'https://cdn11.dienmaycholon.vn/filewebdmclnew/DMCL21/Picture//Apro/Apro_product_34276/smart-tivi-sams_main_960_450.png.webp', 'https://cdn11.dienmaycholon.vn/filewebdmclnew/DMCL21/Picture//Apro/Apro_product_34369/google-tivi-tcl_main_379_450.png.webp', 'https://cdn11.dienmaycholon.vn/filewebdmclnew/DMCL21/Picture//Apro/Apro_product_34269/smart-tivi-qled_main_522_450.png.webp', 'https://cdn11.dienmaycholon.vn/filewebdmclnew/DMCL21/Picture//Apro/Apro_product_30188/google-tivi-son_main_294_450.png.webp', 'https://cdn11.dienmaycholon.vn/filewebdmclnew/DMCL21/Picture//Apro/Apro_product_34207/google-tivi-tcl_main_443_450.png.webp', 'https://cdn11.dienmaycholon.vn/filewebdmclnew/DMCL21/Picture//Apro/Apro_product_31534/android-tivi-ca_main_375_450.png.webp', 'https://cdn11.dienmaycholon.vn/filewebdmclnew/DMCL21/Picture//Apro/Apro_product_32297/google-tivi-tcl_main_686_450.png.webp', 'https://cdn11.dienmaycholon.vn/filewebdmclnew/DMCL21/Picture//Apro/Apro_product_34472/google-tivi-son_main_504_450.png.webp', 'https://cdn11.dienmaycholon.vn/filewebdmclnew/DMCL21/Picture//Apro/Apro_product_34447/smart-tivi-lg-4_main_524_450.png.webp', 'https://cdn11.dienmaycholon.vn/filewebdmclnew/DMCL21/Picture//Apro/Apro_product_34473/google-tivi-son_main_583_450.png.webp', 'https://cdn11.dienmaycholon.vn/filewebdmclnew/DMCL21/Picture//Apro/Apro_product_34277/smart-tivi-sams_main_927_450.png.webp', 'https://cdn11.dienmaycholon.vn/filewebdmclnew/DMCL21/Picture//Apro/Apro_product_34367/google-tivi-tcl_main_992_450.png.webp', 'https://cdn11.dienmaycholon.vn/filewebdmclnew/DMCL21/Picture//Apro/Apro_product_31887/android-tivi-sh_main_847_450.png.webp', 'https://cdn11.dienmaycholon.vn/filewebdmclnew/DMCL21/Picture//Apro/Apro_product_30494/smart-tivi-lg-4_main_603_450.png.webp', 'https://cdn11.dienmaycholon.vn/filewebdmclnew/DMCL21/Picture//Apro/Apro_product_34208/google-tivi-tcl_main_229_450.png.webp', 'https://cdn11.dienmaycholon.vn/filewebdmclnew/DMCL21/Picture//Apro/Apro_product_34470/google-tivi-son_main_171_450.png.webp', 'https://cdn11.dienmaycholon.vn/filewebdmclnew/DMCL21/Picture//Apro/Apro_product_34482/smart-tivi-nano_main_723_450.png.webp', 'https://cdn11.dienmaycholon.vn/filewebdmclnew/DMCL21/Picture//Apro/Apro_product_29950/smart-tivi-sams_main_321_450.png.webp', 'https://cdn11.dienmaycholon.vn/filewebdmclnew/DMCL21/Picture//Apro/Apro_product_34703/smart-tivi-hise_main_25_450.png.webp', 'https://cdn11.dienmaycholon.vn/filewebdmclnew/DMCL21/Picture//Apro/Apro_product_34702/smart-tivi-hise_main_646_450.png.webp', 'https://cdn11.dienmaycholon.vn/filewebdmclnew/DMCL21/Picture//Apro/Apro_product_34265/smart-tivi-qled_main_465_450.png.webp', 'https://cdn11.dienmaycholon.vn/filewebdmclnew/DMCL21/Picture//Apro/Apro_product_34209/google-tivi-tcl_main_66_450.png.webp', 'https://cdn11.dienmaycholon.vn/filewebdmclnew/DMCL21/Picture//Apro/Apro_product_31893/android-tivi-pa_main_153_450.png.webp', 'https://cdn11.dienmaycholon.vn/filewebdmclnew/DMCL21/Picture//Apro/Apro_product_34368/google-tivi-tcl_main_61_450.png.webp', 'https://cdn11.dienmaycholon.vn/filewebdmclnew/DMCL21/Picture//Apro/Apro_product_34573/google-tivi-his_main_998_450.png.webp', 'https://cdn11.dienmaycholon.vn/filewebdmclnew/DMCL21/Picture//Apro/Apro_product_30341/smart-tivi-lg-4_main_541_450.png.webp', 'https://cdn11.dienmaycholon.vn/filewebdmclnew/DMCL21/Picture//Apro/Apro_product_34210/google-tivi-tcl_main_452_450.png.webp', 'https://cdn11.dienmaycholon.vn/filewebdmclnew/DMCL21/Picture//Apro/Apro_product_33194/google-tivi-xia_main_747_450.png.webp', 'https://cdn11.dienmaycholon.vn/filewebdmclnew/DMCL21/Picture//Apro/Apro_product_31894/android-tivi-pa_main_896_450.png.webp', 'https://cdn11.dienmaycholon.vn/filewebdmclnew/DMCL21/Picture//Apro/Apro_product_34211/google-tivi-tcl_main_503_450.png.webp', 'https://cdn11.dienmaycholon.vn/filewebdmclnew/DMCL21/Picture//Apro/Apro_product_32577/smart-tivi-lg-4_main_434_450.png.webp', 'https://cdn11.dienmaycholon.vn/filewebdmclnew/DMCL21/Picture//Apro/Apro_product_30196/google-tivi-son_main_752_450.png.webp', 'https://cdn11.dienmaycholon.vn/filewebdmclnew/DMCL21/Picture//Apro/Apro_product_30657/smart-tivi-sams_main_243_450.png.webp', 'https://cdn11.dienmaycholon.vn/filewebdmclnew/DMCL21/Picture//Apro/Apro_product_34475/smart-tivi-qned_main_946_450.png.webp', 'https://cdn11.dienmaycholon.vn/filewebdmclnew/DMCL21/Picture//Apro/Apro_product_34440/smart-tivi-qned_main_706_450.png.webp', 'https://cdn11.dienmaycholon.vn/filewebdmclnew/DMCL21/Picture//Apro/Apro_product_34026/google-tivi-tcl_main_664_450.png.webp', 'https://cdn11.dienmaycholon.vn/filewebdmclnew/DMCL21/Picture//Apro/Apro_product_31581/tivi-led-samsun_main_233_450.png.webp', 'https://cdn11.dienmaycholon.vn/filewebdmclnew/DMCL21/Picture//Apro/Apro_product_32823/google-tivi-tcl_main_961_450.png.webp', 'https://cdn11.dienmaycholon.vn/filewebdmclnew/DMCL21/Picture//Apro/Apro_product_34261/smart-tivi-qled_main_677_450.png.webp', 'https://cdn11.dienmaycholon.vn/filewebdmclnew/DMCL21/Picture//Apro/Apro_product_34366/google-tivi-tcl_main_472_450.png.webp', 'https://cdn11.dienmaycholon.vn/filewebdmclnew/DMCL21/Picture//Apro/Apro_product_31790/smart-tivi-sams_main_416_450.png.webp', 'https://cdn11.dienmaycholon.vn/filewebdmclnew/DMCL21/Picture//Apro/Apro_product_34485/smart-tivi-nano_main_812_450.png.webp', 'https://cdn11.dienmaycholon.vn/filewebdmclnew/DMCL21/Picture//Apro/Apro_product_32539/smart-tivi-lg-o_main_658_450.png.webp', 'https://cdn11.dienmaycholon.vn/filewebdmclnew/DMCL21/Picture//Apro/Apro_product_34484/smart-tivi-nano_main_403_450.png.webp', 'https://cdn11.dienmaycholon.vn/filewebdmclnew/DMCL21/Picture//Apro/Apro_product_34365/google-tivi-tcl_main_18_450.png.webp', 'https://cdn11.dienmaycholon.vn/filewebdmclnew/DMCL21/Picture//Apro/Apro_product_34027/google-tivi-tcl_main_850_450.png.webp', 'https://cdn11.dienmaycholon.vn/filewebdmclnew/DMCL21/Picture//Apro/Apro_product_32574/smart-tivi-lg-u_main_466_450.png.webp', 'https://cdn11.dienmaycholon.vn/filewebdmclnew/DMCL21/Picture//Apro/Apro_product_34268/smart-tivi-qled_main_833_450.png.webp', 'https://cdn11.dienmaycholon.vn/filewebdmclnew/DMCL21/Picture//Apro/Apro_product_34092/google-tivi-pan_main_11_450.png.webp', 'https://cdn11.dienmaycholon.vn/filewebdmclnew/DMCL21/Picture//Apro/Apro_product_34002/google-tivi-ule_main_780_450.png.webp', 'https://cdn11.dienmaycholon.vn/filewebdmclnew/DMCL21/Picture//Apro/Apro_product_32418/google-tivi-son_main_166_450.png.webp', 'https://cdn11.dienmaycholon.vn/filewebdmclnew/DMCL21/Picture//Apro/Apro_product_34272/smart-tivi-qled_main_998_450.png.webp', 'https://cdn11.dienmaycholon.vn/filewebdmclnew/DMCL21/Picture//Apro/Apro_product_29930/smart-tivi-sams_main_45_450.png.webp', 'https://cdn11.dienmaycholon.vn/filewebdmclnew/DMCL21/Picture//Apro/Apro_product_31888/android-tivi-sh_main_66_450.png.webp', 'https://cdn11.dienmaycholon.vn/filewebdmclnew/DMCL21/Picture//Apro/Apro_product_34820/google-tivi-xia_main_940_450.png.webp', 'https://cdn11.dienmaycholon.vn/filewebdmclnew/DMCL21/Picture//Apro/Apro_product_34253/smart-tivi-sams_main_700_450.png.webp', 'https://cdn11.dienmaycholon.vn/filewebdmclnew/DMCL21/Picture//Apro/Apro_product_32645/google-tivi-son_main_75_450.png.webp', 'https://cdn11.dienmaycholon.vn/filewebdmclnew/DMCL21/Picture//Apro/Apro_product_34821/google-tivi-xia_main_89_450.png.webp', 'https://cdn11.dienmaycholon.vn/filewebdmclnew/DMCL21/Picture//Apro/Apro_product_34721/smart-tivi-lg-o_main_657_450.png.webp', 'https://cdn11.dienmaycholon.vn/filewebdmclnew/DMCL21/Picture//Apro/Apro_product_34486/smart-tivi-nano_main_821_450.png.webp', 'https://cdn11.dienmaycholon.vn/filewebdmclnew/DMCL21/Picture//Apro/Apro_product_34469/google-tivi-son_main_272_450.png.webp', 'https://cdn11.dienmaycholon.vn/filewebdmclnew/DMCL21/Picture//Apro/Apro_product_34439/smart-tivi-qned_main_642_450.png.webp', 'https://cdn11.dienmaycholon.vn/filewebdmclnew/DMCL21/Picture//Apro/Apro_product_32979/google-tivi-son_main_546_450.png.webp', 'https://cdn11.dienmaycholon.vn/filewebdmclnew/DMCL21/Picture//Apro/Apro_product_34264/smart-tivi-qled_main_286_450.png.webp', 'https://cdn11.dienmaycholon.vn/filewebdmclnew/DMCL21/Picture//Apro/Apro_product_33200/google-tivi-xia_main_221_450.png.webp', 'https://cdn11.dienmaycholon.vn/filewebdmclnew/DMCL21/Picture//Apro/Apro_product_34362/google-tivi-tcl_main_264_450.png.webp', 'https://cdn11.dienmaycholon.vn/filewebdmclnew/DMCL21/Picture//Apro/Apro_product_34822/google-tivi-xia_main_997_450.png.webp', 'https://cdn11.dienmaycholon.vn/filewebdmclnew/DMCL21/Picture//Apro/Apro_product_32916/google-tivi-coo_main_732_450.png.webp', 'https://cdn11.dienmaycholon.vn/filewebdmclnew/DMCL21/Picture//Apro/Apro_product_34275/smart-tivi-sams_main_60_450.png.webp', 'https://cdn11.dienmaycholon.vn/filewebdmclnew/DMCL21/Picture//Apro/Apro_product_34420/google-tivi-pan_main_118_450.png.webp', 'https://cdn11.dienmaycholon.vn/filewebdmclnew/DMCL21/Picture//Apro/Apro_product_34260/smart-tivi-qled_main_368_450.png.webp', 'https://cdn11.dienmaycholon.vn/filewebdmclnew/DMCL21/Picture//Apro/Apro_product_34423/smart-tivi-lg-o_main_808_450.png.webp', 'https://cdn11.dienmaycholon.vn/filewebdmclnew/DMCL21/Picture//Apro/Apro_product_34428/smart-tivi-lg-o_main_563_450.png.webp', 'https://cdn11.dienmaycholon.vn/filewebdmclnew/DMCL21/Picture//Apro/Apro_product_32300/google-tivi-tcl_main_405_450.png.webp', 'https://cdn11.dienmaycholon.vn/filewebdmclnew/DMCL21/Picture//Apro/Apro_product_34271/smart-tivi-qled_main_619_450.png.webp', 'https://cdn11.dienmaycholon.vn/filewebdmclnew/DMCL21/Picture//Apro/Apro_product_34028/google-tivi-tcl_main_549_450.png.webp', 'https://cdn11.dienmaycholon.vn/filewebdmclnew/DMCL21/Picture//Apro/Apro_product_32280/smart-tivi-sams_main_731_450.png.webp', 'https://cdn11.dienmaycholon.vn/filewebdmclnew/DMCL21/Picture//Apro/Apro_product_32277/smart-tivi-sams_main_375_450.png.webp', 'https://cdn11.dienmaycholon.vn/filewebdmclnew/DMCL21/Picture//Apro/Apro_product_34257/smart-tivi-oled_main_719_450.png.webp', 'https://cdn11.dienmaycholon.vn/filewebdmclnew/DMCL21/Picture//Apro/Apro_product_29790/smart-tivi-hd-c_main_947_450.png.webp', 'https://cdn11.dienmaycholon.vn/filewebdmclnew/DMCL21/Picture//Apro/Apro_product_35062/google-tivi-xia_main_239_450.png.webp', 'https://cdn11.dienmaycholon.vn/filewebdmclnew/DMCL21/Picture//Apro/Apro_product_34685/google-tivi-ole_main_660_450.png.webp', 'https://cdn11.dienmaycholon.vn/filewebdmclnew/DMCL21/Picture//Apro/Apro_product_34476/smart-tivi-qned_main_935_450.png.webp', 'https://cdn11.dienmaycholon.vn/filewebdmclnew/DMCL21/Picture//Apro/Apro_product_32084/smart-tivi-oled_main_395_450.png.webp', 'https://cdn11.dienmaycholon.vn/filewebdmclnew/DMCL21/Picture//Apro/Apro_product_34686/google-tivi-ole_main_556_450.png.webp', 'https://cdn11.dienmaycholon.vn/filewebdmclnew/DMCL21/Picture//Apro/Apro_product_34256/smart-tivi-oled_main_664_450.png.webp', 'https://cdn11.dienmaycholon.vn/filewebdmclnew/DMCL21/Picture//Apro/Apro_product_34008/google-tivi-his_main_346_450.png.webp', 'https://cdn11.dienmaycholon.vn/filewebdmclnew/DMCL21/Picture//Apro/Apro_product_30323/google-tivi-son_main_476_450.png.webp', 'https://cdn11.dienmaycholon.vn/filewebdmclnew/DMCL21/Picture//Apro/Apro_product_29947/smart-tivi-sams_main_688_450.png.webp', 'https://cdn11.dienmaycholon.vn/filewebdmclnew/DMCL21/Picture//Apro/Apro_product_34427/smart-tivi-lg-o_main_217_450.png.webp', 'https://cdn11.dienmaycholon.vn/filewebdmclnew/DMCL21/Picture//Apro/Apro_product_34288/smart-tivi-khun_main_211_450.png.webp', 'https://cdn11.dienmaycholon.vn/filewebdmclnew/DMCL21/Picture//Apro/Apro_product_34252/smart-tivi-sams_main_49_450.png.webp', 'https://cdn11.dienmaycholon.vn/filewebdmclnew/DMCL21/Picture//Apro/Apro_product_34251/smart-tivi-sams_main_777_450.png.webp', 'https://cdn11.dienmaycholon.vn/filewebdmclnew/DMCL21/Picture//Apro/Apro_product_32635/google-tivi-coo_main_579_450.png.webp', 'https://cdn11.dienmaycholon.vn/filewebdmclnew/DMCL21/Picture//Apro/Apro_product_31899/android-tivi-pa_main_875_450.png.webp', 'https://cdn11.dienmaycholon.vn/filewebdmclnew/DMCL21/Picture//Apro/Apro_product_31896/android-tivi-pa_main_966_450.png.webp', 'https://cdn11.dienmaycholon.vn/filewebdmclnew/DMCL21/Picture//Apro/Apro_product_34422/google-tivi-pan_main_958_450.png.webp', 'https://cdn11.dienmaycholon.vn/filewebdmclnew/DMCL21/Picture//Apro/Apro_product_34287/smart-tivi-khun_main_429_450.png.webp', 'https://cdn11.dienmaycholon.vn/filewebdmclnew/DMCL21/Picture//Apro/Apro_product_32517/smart-tivi-cooc_main_48_450.png.webp', 'https://cdn11.dienmaycholon.vn/filewebdmclnew/DMCL21/Picture//Apro/Apro_product_30491/smart-tivi-lg-4_main_965_450.png.webp', 'https://cdn11.dienmaycholon.vn/filewebdmclnew/DMCL21/Picture//Apro/Apro_product_34468/google-tivi-son_main_906_450.png.webp', 'https://cdn11.dienmaycholon.vn/filewebdmclnew/DMCL21/Picture//Apro/Apro_product_34424/smart-tivi-lg-o_main_811_450.png.webp', 'https://cdn11.dienmaycholon.vn/filewebdmclnew/DMCL21/Picture//Apro/Apro_product_34006/smart-tivi-uled_main_197_450.png.webp', 'https://cdn11.dienmaycholon.vn/filewebdmclnew/DMCL21/Picture//Apro/Apro_product_33103/smart-tivi-hise_main_692_450.png.webp', 'https://cdn11.dienmaycholon.vn/filewebdmclnew/DMCL21/Picture//Apro/Apro_product_32578/smart-tivi-lg-4_main_298_450.png.webp', 'https://cdn11.dienmaycholon.vn/filewebdmclnew/DMCL21/Picture//Apro/Apro_product_32553/smart-tivi-lg-o_main_669_450.png.webp', 'https://cdn11.dienmaycholon.vn/filewebdmclnew/DMCL21/Picture//Apro/Apro_product_32550/smart-tivi-lg-o_main_282_450.png.webp', 'https://cdn11.dienmaycholon.vn/filewebdmclnew/DMCL21/Picture//Apro/Apro_product_34273/smart-tivi-sams_main_219_450.png.webp', 'https://cdn11.dienmaycholon.vn/filewebdmclnew/DMCL21/Picture//Apro/Apro_product_34005/google-tivi-ule_main_966_450.png.webp', 'https://cdn11.dienmaycholon.vn/filewebdmclnew/DMCL21/Picture//Apro/Apro_product_32465/smart-tivi-lg-o_main_757_450.png.webp', 'https://cdn11.dienmaycholon.vn/filewebdmclnew/DMCL21/Picture//Apro/Apro_product_34429/smart-tivi-lg-o_main_261_450.png.webp', 'https://cdn11.dienmaycholon.vn/filewebdmclnew/DMCL21/Picture//Apro/Apro_product_34426/smart-tivi-lg-o_main_922_450.png.webp', 'https://cdn11.dienmaycholon.vn/filewebdmclnew/DMCL21/Picture//Apro/Apro_product_34246/smart-tivi-sams_main_490_450.png.webp', 'https://cdn11.dienmaycholon.vn/filewebdmclnew/DMCL21/Picture//Apro/Apro_product_34007/smart-tivi-uled_main_312_450.png.webp', 'https://cdn11.dienmaycholon.vn/filewebdmclnew/DMCL21/Picture//Apro/Apro_product_33591/google-tivi-ole_main_35_450.png.webp', 'https://cdn11.dienmaycholon.vn/filewebdmclnew/DMCL21/Picture//Apro/Apro_product_33201/google-tivi-xia_main_324_450.png.webp', 'https://cdn11.dienmaycholon.vn/filewebdmclnew/DMCL21/Picture//Apro/Apro_product_32271/smart-tivi-sams_main_572_450.png.webp', 'https://cdn11.dienmaycholon.vn/filewebdmclnew/DMCL21/Picture//Apro/Apro_product_34487/smart-tivi-nano_main_687_450.png.webp', 'https://cdn11.dienmaycholon.vn/filewebdmclnew/DMCL21/Picture//Apro/Apro_product_34438/smart-tivi-qned_main_847_450.png.webp', 'https://cdn11.dienmaycholon.vn/filewebdmclnew/DMCL21/Picture//Apro/Apro_product_34437/smart-tivi-qned_main_685_450.png.webp', 'https://cdn11.dienmaycholon.vn/filewebdmclnew/DMCL21/Picture//Apro/Apro_product_34425/smart-tivi-lg-o_main_468_450.png.webp', 'https://cdn11.dienmaycholon.vn/filewebdmclnew/DMCL21/Picture//Apro/Apro_product_34364/google-tivi-tcl_main_414_450.png.webp', 'https://cdn11.dienmaycholon.vn/filewebdmclnew/DMCL21/Picture//Apro/Apro_product_34338/google-tivi-tcl_main_579_450.png.webp', 'https://cdn11.dienmaycholon.vn/filewebdmclnew/DMCL21/Picture//Apro/Apro_product_34286/smart-tivi-khun_main_720_450.png.webp', 'https://cdn11.dienmaycholon.vn/filewebdmclnew/DMCL21/Picture//Apro/Apro_product_34267/smart-tivi-qled_main_584_450.png.webp', 'https://cdn11.dienmaycholon.vn/filewebdmclnew/DMCL21/Picture//Apro/Apro_product_34259/smart-tivi-qled_main_879_450.png.webp', 'https://cdn11.dienmaycholon.vn/filewebdmclnew/DMCL21/Picture//Apro/Apro_product_34250/smart-tivi-sams_main_20_450.png.webp', 'https://cdn11.dienmaycholon.vn/filewebdmclnew/DMCL21/Picture//Apro/Apro_product_34245/smart-tivi-sams_main_706_450.png.webp', 'https://cdn11.dienmaycholon.vn/filewebdmclnew/DMCL21/Picture//Apro/Apro_product_34244/smart-tivi-sams_main_152_450.png.webp', 'https://cdn11.dienmaycholon.vn/filewebdmclnew/DMCL21/Picture//Apro/Apro_product_34242/smart-tivi-sams_main_561_450.png.webp', 'https://cdn11.dienmaycholon.vn/filewebdmclnew/DMCL21/Picture//Apro/Apro_product_34029/google-tivi-tcl_main_994_450.png.webp', 'https://cdn11.dienmaycholon.vn/filewebdmclnew/DMCL21/Picture//Apro/Apro_product_34009/google-tivi-his_main_325_450.png.webp', 'https://cdn11.dienmaycholon.vn/filewebdmclnew/DMCL21/Picture//Apro/Apro_product_34004/google-tivi-ule_main_241_450.png.webp', 'https://cdn11.dienmaycholon.vn/filewebdmclnew/DMCL21/Picture//Apro/Apro_product_32265/smart-tivi-sams_main_443_450.png.webp', 'https://cdn11.dienmaycholon.vn/filewebdmclnew/DMCL21/Picture//Apro/Apro_product_29955/smart-tivi-qled_main_464_450.png.webp', 'https://cdn11.dienmaycholon.vn/filewebdmclnew/DMCL21/Picture//Apro/Apro_product_29949/samsung-smart-t_main_1_450.png.webp', 'https://cdn11.dienmaycholon.vn/filewebdmclnew/DMCL21/Picture//Apro/Apro_product_29945/smart-tivi-sams_main_544_450.png.webp', 'https://cdn11.dienmaycholon.vn/filewebdmclnew/DMCL21/Picture//Apro/Apro_product_29963/smart-tivi-sams_main_208_450.png.webp', 'https://cdn11.dienmaycholon.vn/filewebdmclnew/DMCL21/Picture//Apro/Apro_product_34689/google-tivi-min_main_459_450.png.webp', 'https://cdn11.dienmaycholon.vn/filewebdmclnew/DMCL21/Picture//Apro/Apro_product_34688/google-tivi-min_main_958_450.png.webp', 'https://cdn11.dienmaycholon.vn/filewebdmclnew/DMCL21/Picture//Apro/Apro_product_34655/google-tivi-his_main_166_450.png.webp', 'https://cdn11.dienmaycholon.vn/filewebdmclnew/DMCL21/Picture//Apro/Apro_product_34488/smart-tivi-lg-4_main_777_450.png.webp', 'https://cdn11.dienmaycholon.vn/filewebdmclnew/DMCL21/Picture//Apro/Apro_product_34480/smart-tivi-qned_main_631_450.png.webp', 'https://cdn11.dienmaycholon.vn/filewebdmclnew/DMCL21/Picture//Apro/Apro_product_34479/smart-tivi-qned_main_368_450.png.webp', 'https://cdn11.dienmaycholon.vn/filewebdmclnew/DMCL21/Picture//Apro/Apro_product_34466/google-tivi-min_main_631_450.png.webp', 'https://cdn11.dienmaycholon.vn/filewebdmclnew/DMCL21/Picture//Apro/Apro_product_34442/smart-tivi-qned_main_489_450.png.webp', 'https://cdn11.dienmaycholon.vn/filewebdmclnew/DMCL21/Picture//Apro/Apro_product_34441/smart-tivi-qned_main_317_450.png.webp', 'https://cdn11.dienmaycholon.vn/filewebdmclnew/DMCL21/Picture//Apro/Apro_product_34258/smart-tivi-qled_main_846_450.png.webp', 'https://cdn11.dienmaycholon.vn/filewebdmclnew/DMCL21/Picture//Apro/Apro_product_34248/smart-tivi-sams_main_300_450.png.webp', 'https://cdn11.dienmaycholon.vn/filewebdmclnew/DMCL21/Picture//Apro/Apro_product_34247/smart-tivi-sams_main_174_450.png.webp', 'https://cdn11.dienmaycholon.vn/filewebdmclnew/DMCL21/Picture//Apro/Apro_product_34241/smart-tivi-sams_main_598_450.png.webp', 'https://cdn11.dienmaycholon.vn/filewebdmclnew/DMCL21/Picture//Apro/Apro_product_33104/smart-tivi-hise_main_257_450.png.webp', 'https://cdn11.dienmaycholon.vn/filewebdmclnew/DMCL21/Picture//Apro/Apro_product_32575/smart-tivi-lg-u_main_118_450.png.webp', 'https://cdn11.dienmaycholon.vn/filewebdmclnew/DMCL21/Picture//Apro/Apro_product_32568/smart-tivi-lg-q_main_929_450.png.webp', 'https://cdn11.dienmaycholon.vn/filewebdmclnew/DMCL21/Picture//Apro/Apro_product_32415/google-tivi-son_main_20_450.png.webp', 'https://cdn11.dienmaycholon.vn/filewebdmclnew/DMCL21/Picture//Apro/Apro_product_32279/smart-tivi-sams_main_356_450.png.webp', 'https://cdn11.dienmaycholon.vn/filewebdmclnew/DMCL21/Picture//Apro/Apro_product_32258/smart-tivi-sams_main_539_450.png.webp', 'https://cdn11.dienmaycholon.vn/filewebdmclnew/DMCL21/Picture//Apro/Apro_product_32255/smart-tivi-sams_main_667_450.png.webp', 'https://cdn11.dienmaycholon.vn/filewebdmclnew/DMCL21/Picture//Apro/Apro_product_31052/google-tivi-tcl_main_933_450.png.webp', 'https://cdn11.dienmaycholon.vn/filewebdmclnew/DMCL21/Picture//Apro/Apro_product_27425/smart-tivi-crys_main_113_450.png.webp', 'https://cdn11.dienmaycholon.vn/filewebdmclnew/DMCL21/Picture//Apro/Apro_product_33570/smart-tivi-qned_main_239_450.png.webp', 'https://cdn11.dienmaycholon.vn/filewebdmclnew/DMCL21/Picture//Apro/Apro_product_32567/smart-tivi-lg-q_main_967_450.png.webp', 'https://cdn11.dienmaycholon.vn/filewebdmclnew/DMCL21/Picture//Apro/Apro_product_32554/smart-tivi-lg-o_main_468_450.png.webp', 'https://cdn11.dienmaycholon.vn/filewebdmclnew/DMCL21/Picture//Apro/Apro_product_32319/smart-tivi-sams_main_684_450.png.webp', 'https://cdn11.dienmaycholon.vn/filewebdmclnew/DMCL21/Picture//Apro/Apro_product_32276/smart-tivi-sams_main_110_450.png.webp', 'https://cdn11.dienmaycholon.vn/filewebdmclnew/DMCL21/Picture//Apro/Apro_product_32269/smart-tivi-sams_main_379_450.png.webp', 'https://cdn11.dienmaycholon.vn/filewebdmclnew/DMCL21/Picture//Apro/Apro_product_31898/android-tivi-pa_main_909_450.png.webp', 'https://cdn11.dienmaycholon.vn/filewebdmclnew/DMCL21/Picture//Apro/Apro_product_30472/smart-nanocell-_main_665_450.png.webp', 'https://cdn11.dienmaycholon.vn/filewebdmclnew/DMCL21/Picture//Apro/Apro_product_35089/smart-tivi-tosh_main_118_450.png.webp', 'https://cdn11.dienmaycholon.vn/filewebdmclnew/DMCL21/Picture//Apro/Apro_product_35088/smart-tivi-tosh_main_929_450.png.webp', 'https://cdn11.dienmaycholon.vn/filewebdmclnew/DMCL21/Picture//Apro/Apro_product_35087/smart-tivi-tosh_main_601_450.png.webp', 'https://cdn11.dienmaycholon.vn/filewebdmclnew/DMCL21/Picture//Apro/Apro_product_35086/smart-tivi-tosh_main_1_450.png.webp', 'https://cdn11.dienmaycholon.vn/filewebdmclnew/DMCL21/Picture//Apro/Apro_product_35085/smart-tivi-tosh_main_665_450.png.webp', 'https://cdn11.dienmaycholon.vn/filewebdmclnew/DMCL21/Picture//Apro/Apro_product_35084/smart-tivi-tosh_main_456_450.png.webp', 'https://cdn11.dienmaycholon.vn/filewebdmclnew/DMCL21/Picture//Apro/Apro_product_35083/smart-tivi-tosh_main_656_450.png.webp', 'https://cdn11.dienmaycholon.vn/filewebdmclnew/DMCL21/Picture//Apro/Apro_product_35082/smart-tivi-tosh_main_490_450.png.webp', 'https://cdn11.dienmaycholon.vn/filewebdmclnew/DMCL21/Picture//Apro/Apro_product_35081/smart-tivi-tosh_main_132_450.png.webp', 'https://cdn11.dienmaycholon.vn/filewebdmclnew/DMCL21/Picture//Apro/Apro_product_35080/smart-tivi-tosh_main_764_450.png.webp', 'https://cdn11.dienmaycholon.vn/filewebdmclnew/DMCL21/Picture//Apro/Apro_product_35079/smart-tivi-tosh_main_249_450.png.webp', 'https://cdn11.dienmaycholon.vn/filewebdmclnew/DMCL21/Picture//Apro/Apro_product_34943/google-tivi-coo_main_338_450.png.webp', 'https://cdn11.dienmaycholon.vn/filewebdmclnew/DMCL21/Picture//Apro/Apro_product_34942/google-tivi-coo_main_139_450.png.webp', 'https://cdn11.dienmaycholon.vn/filewebdmclnew/DMCL21/Picture//Apro/Apro_product_34941/google-tivi-coo_main_656_450.png.webp', 'https://cdn11.dienmaycholon.vn/filewebdmclnew/DMCL21/Picture//Apro/Apro_product_34723/google-tivi-xac_main_770_450.png.webp', 'https://cdn11.dienmaycholon.vn/filewebdmclnew/DMCL21/Picture//Apro/Apro_product_34720/smart-tivi-lg-o_main_253_450.png.webp', 'https://cdn11.dienmaycholon.vn/filewebdmclnew/DMCL21/Picture//Apro/Apro_product_34619/google-tivi-tcl_main_604_450.png.webp', 'https://cdn11.dienmaycholon.vn/filewebdmclnew/DMCL21/Picture//Apro/Apro_product_34561/smart-tivi-oled_main_665_450.png.webp', 'https://cdn11.dienmaycholon.vn/filewebdmclnew/DMCL21/Picture//Apro/Apro_product_34560/smart-tivi-oled_main_560_450.png.webp', 'https://cdn11.dienmaycholon.vn/filewebdmclnew/DMCL21/Picture//Apro/Apro_product_34494/smart-tivi-lg-4_main_601_450.png.webp', 'https://cdn11.dienmaycholon.vn/filewebdmclnew/DMCL21/Picture//Apro/Apro_product_34493/smart-tivi-lg-4_main_345_450.png.webp', 'https://cdn11.dienmaycholon.vn/filewebdmclnew/DMCL21/Picture//Apro/Apro_product_34492/smart-tivi-lg-4_main_622_450.png.webp', 'https://cdn11.dienmaycholon.vn/filewebdmclnew/DMCL21/Picture//Apro/Apro_product_34489/smart-tivi-lg-4_main_184_450.png.webp', 'https://cdn11.dienmaycholon.vn/filewebdmclnew/DMCL21/Picture//Apro/Apro_product_34483/smart-tivi-nano_main_949_450.png.webp', 'https://cdn11.dienmaycholon.vn/filewebdmclnew/DMCL21/Picture//Apro/Apro_product_34465/google-tivi-min_main_798_450.png.webp', 'https://cdn11.dienmaycholon.vn/filewebdmclnew/DMCL21/Picture//Apro/Apro_product_34458/smart-tivi-lg-4_main_104_450.png.webp', 'https://cdn11.dienmaycholon.vn/filewebdmclnew/DMCL21/Picture//Apro/Apro_product_34432/smart-tivi-qned_main_466_450.png.webp', 'https://cdn11.dienmaycholon.vn/filewebdmclnew/DMCL21/Picture//Apro/Apro_product_34430/smart-tivi-lg-o_main_799_450.png.webp', 'https://cdn11.dienmaycholon.vn/filewebdmclnew/DMCL21/Picture//Apro/Apro_product_34341/google-tivi-tcl_main_885_450.png.webp', 'https://cdn11.dienmaycholon.vn/filewebdmclnew/DMCL21/Picture//Apro/Apro_product_34340/google-tivi-tcl_main_835_450.png.webp', 'https://cdn11.dienmaycholon.vn/filewebdmclnew/DMCL21/Picture//Apro/Apro_product_34285/smart-tivi-sams_main_110_450.png.webp', 'https://cdn11.dienmaycholon.vn/filewebdmclnew/DMCL21/Picture//Apro/Apro_product_34284/smart-tivi-sams_main_46_450.png.webp', 'https://cdn11.dienmaycholon.vn/filewebdmclnew/DMCL21/Picture//Apro/Apro_product_34283/smart-tivi-sams_main_599_450.png.webp', 'https://cdn11.dienmaycholon.vn/filewebdmclnew/DMCL21/Picture//Apro/Apro_product_34282/smart-tivi-sams_main_12_450.png.webp', 'https://cdn11.dienmaycholon.vn/filewebdmclnew/DMCL21/Picture//Apro/Apro_product_34281/smart-tivi-sams_main_237_450.png.webp', 'https://cdn11.dienmaycholon.vn/filewebdmclnew/DMCL21/Picture//Apro/Apro_product_34280/smart-tivi-sams_main_28_450.png.webp', 'https://cdn11.dienmaycholon.vn/filewebdmclnew/DMCL21/Picture//Apro/Apro_product_34279/smart-tivi-sams_main_364_450.png.webp', 'https://cdn11.dienmaycholon.vn/filewebdmclnew/DMCL21/Picture//Apro/Apro_product_34278/smart-tivi-sams_main_381_450.png.webp', 'https://cdn11.dienmaycholon.vn/filewebdmclnew/DMCL21/Picture//Apro/Apro_product_34274/smart-tivi-sams_main_310_450.png.webp', 'https://cdn11.dienmaycholon.vn/filewebdmclnew/DMCL21/Picture//Apro/Apro_product_34263/smart-tivi-qled_main_956_450.png.webp', 'https://cdn11.dienmaycholon.vn/filewebdmclnew/DMCL21/Picture//Apro/Apro_product_34255/smart-tivi-oled_main_296_450.png.webp', 'https://cdn11.dienmaycholon.vn/filewebdmclnew/DMCL21/Picture//Apro/Apro_product_34254/smart-tivi-oled_main_186_450.png.webp', 'https://cdn11.dienmaycholon.vn/filewebdmclnew/DMCL21/Picture//Apro/Apro_product_34003/google-tivi-ule_main_267_450.png.webp', 'https://cdn11.dienmaycholon.vn/filewebdmclnew/DMCL21/Picture//Apro/Apro_product_33889/google-tivi-coo_main_463_450.png.webp', 'https://cdn11.dienmaycholon.vn/filewebdmclnew/DMCL21/Picture//Apro/Apro_product_33592/google-tivi-ole_main_444_450.png.webp', 'https://cdn11.dienmaycholon.vn/filewebdmclnew/DMCL21/Picture//Apro/Apro_product_33468/smart-tivi-sams_main_444_450.png.webp', 'https://cdn11.dienmaycholon.vn/filewebdmclnew/DMCL21/Picture//Apro/Apro_product_32994/smart-tivi-cooc_main_539_450.png.webp', 'https://cdn11.dienmaycholon.vn/filewebdmclnew/DMCL21/Picture//Apro/Apro_product_32573/smart-tivi-lg-4_main_686_450.png.webp', 'https://cdn11.dienmaycholon.vn/filewebdmclnew/DMCL21/Picture//Apro/Apro_product_32411/google-tivi-min_main_679_450.png.webp']\n"
     ]
    }
   ],
   "source": [
    "list_img_name = []\n",
    "for product_img_link in product_img_links:\n",
    "    list_img_name.append(product_img_link.get_attribute('src'))\n",
    "print(len(list_img_name), list_img_name)"
   ]
  },
  {
   "cell_type": "code",
   "execution_count": 19,
   "metadata": {},
   "outputs": [
    {
     "name": "stdout",
     "output_type": "stream",
     "text": [
      "243 ['https://dienmaycholon.com/tivi/smart-tivi-samsung-4k-uhd-55-inch-ua55au7002\\n', 'https://dienmaycholon.com/tivi/smart-nanocell-tivi-lg-4k-55-inch-55nano76sqa\\n', 'https://dienmaycholon.com/tivi/sony-bravia-3-led-4k-55-inch-k55s30\\n', 'https://dienmaycholon.com/tivi/smart-tivi-lg-4k-55-inch-55ut8050psb\\n', 'https://dienmaycholon.com/tivi/android-tivi-qled-4k-casper-55-inch-55qg8000\\n', 'https://dienmaycholon.com/tivi/smart-tivi-qled-samsung-4k-55-inch-qa55q60d\\n', 'https://dienmaycholon.com/tivi/smart-tivi-samsung-4k-uhd-65-inch-ua65au7002\\n', 'https://dienmaycholon.com/tivi/smart-tivi-qled-samsung-4k-55-inch-qa55q70d\\n', 'https://dienmaycholon.com/tivi/smart-tivi-lg-4k-65-inch-65ut8050psb\\n', 'https://dienmaycholon.com/tivi/smart-tivi-samsung-qled-4k-43-inch-qa43q60b\\n', 'https://dienmaycholon.com/tivi/smart-tivi-tcl-hd-32-inch-32s5400a\\n', 'https://dienmaycholon.com/tivi/smart-nanocell-tivi-lg-4k-65-inch-65nano76sqa\\n', 'https://dienmaycholon.com/tivi/google-tivi-tcl-4k-55-inch-55p638\\n', 'https://dienmaycholon.com/tivi/smart-tivi-samsung-qled-4k-65-inch-qa65q60b\\n', 'https://dienmaycholon.com/tivi/smart-tivi-lg-4k-50-inch-50uq7050psa\\n', 'https://dienmaycholon.com/tivi/smart-tivi-qned-lg-4k-55-inch-55qned80tsa\\n', 'https://dienmaycholon.com/tivi/smart-tivi-qned-lg-4k-65-inch-65qned80tsa\\n', 'https://dienmaycholon.com/tivi/google-tivi-sony-4k-55-inch-xr55x90l\\n', 'https://dienmaycholon.com/tivi/google-tivi-sony-4k-65-inch-xr65x90l\\n', 'https://dienmaycholon.com/tivi/google-tivi-sony-4k-75-inch-xr75x90l\\n', 'https://dienmaycholon.com/tivi/smart-tivi-casper-32-inch-32hg5200\\n', 'https://dienmaycholon.com/tivi/smart-tv-hd-coocaa-32-inch-32s3u\\n', 'https://dienmaycholon.com/tivi/smart-tivi-tcl-full-hd-40-inch-40s5400a\\n', 'https://dienmaycholon.com/tivi/google-tivi-sony-4k-55-inch-kd55x75k\\n', 'https://dienmaycholon.com/tivi/smart-tv-full-hd-coocaa-43-inch-43s3u\\n', 'https://dienmaycholon.com/tivi/smart-tivi-lg-4k-43-inch-43uq7050psa\\n', 'https://dienmaycholon.com/tivi/smart-tivi-samsung-4k-65-inch-ua65du8000\\n', 'https://dienmaycholon.com/tivi/google-tivi-tcl-qled-4k-43-inch-43c655\\n', 'https://dienmaycholon.com/tivi/smart-tivi-qled-samsung-4k-65-inch-qa65q60d\\n', 'https://dienmaycholon.com/tivi/google-tivi-sony-4k-43-inch-kd43x75k\\n', 'https://dienmaycholon.com/tivi/google-tivi-tcl-4k-43-inch-43p755\\n', 'https://dienmaycholon.com/tivi/android-tivi-casper-4k-50-inch-50uga610\\n', 'https://dienmaycholon.com/tivi/google-tivi-tcl-qled-4k-55-inch-55c645\\n', 'https://dienmaycholon.com/tivi/sony-bravia-3-led-4k-50-inch-k50s30\\n', 'https://dienmaycholon.com/tivi/smart-tivi-lg-4k-55-inch-55uq7050psa\\n', 'https://dienmaycholon.com/tivi/sony-bravia-3-led-4k-43-inch-k43s30\\n', 'https://dienmaycholon.com/tivi/smart-tivi-samsung-4k-55-inch-ua55du8000\\n', 'https://dienmaycholon.com/tivi/google-tivi-tcl-qled-4k-55-inch-55c655\\n', 'https://dienmaycholon.com/tivi/android-tivi-sharp-32-inch-2tc32eg2x\\n', 'https://dienmaycholon.com/tivi/smart-tivi-lg-4k-uhd-55-inch-55uq7550psf\\n', 'https://dienmaycholon.com/tivi/google-tivi-tcl-4k-50-inch-50p755\\n', 'https://dienmaycholon.com/tivi/sony-bravia-3-led-4k-65-inch-k65s30\\n', 'https://dienmaycholon.com/tivi/smart-tivi-nanocell-lg-4k-43-inch-43nano81tsa\\n', 'https://dienmaycholon.com/tivi/smart-tivi-samsung-qled-4k-75-inch-qa75q60b\\n', 'https://dienmaycholon.com/tivi/smart-tivi-hisense-full-hd-40-inch-40a4n\\n', 'https://dienmaycholon.com/tivi/smart-tivi-hisense-hd-32-inch-32a4n\\n', 'https://dienmaycholon.com/tivi/smart-tivi-qled-samsung-4k-65-inch-qa65q70d\\n', 'https://dienmaycholon.com/tivi/google-tivi-tcl-4k-55-inch-55p755-pro\\n', 'https://dienmaycholon.com/tivi/android-tivi-panasonic-32-inch-th32ls600v\\n', 'https://dienmaycholon.com/tivi/google-tivi-tcl-qled-4k-50-inch-50c655\\n', 'https://dienmaycholon.com/tivi/google-tivi-hisense-4k-43-inch-43a6500k\\n', 'https://dienmaycholon.com/tivi/smart-tivi-lg-4k-43-inch-43uq7550psf\\n', 'https://dienmaycholon.com/tivi/google-tivi-tcl-4k-65-inch-65p755-pro\\n', 'https://dienmaycholon.com/tivi/google-tivi-xiaomi-a-hd-32-inch-l32m8p2sea\\n', 'https://dienmaycholon.com/tivi/android-tivi-panasonic-43-inch-th43ls600v\\n', 'https://dienmaycholon.com/tivi/google-tivi-tcl-4k-75-inch-75p755-pro\\n', 'https://dienmaycholon.com/tivi/smart-tivi-lg-4k-75-inch-75ur7550psc\\n', 'https://dienmaycholon.com/tivi/google-tivi-sony-4k-65-inch-kd65x75k\\n', 'https://dienmaycholon.com/tivi/smart-tivi-samsung-4k-uhd-43-inch-ua43au7002\\n', 'https://dienmaycholon.com/tivi/smart-tivi-qned-lg-4k-43-inch-43qned80tsa\\n', 'https://dienmaycholon.com/tivi/smart-tivi-qned-lg-4k-65-inch-65qned86tsa\\n', 'https://dienmaycholon.com/tivi/google-tivi-tcl-qdmini-led-4k-55-inch-55c755\\n', 'https://dienmaycholon.com/tivi/tivi-led-samsung-32-inch-ua32t4202a\\n', 'https://dienmaycholon.com/tivi/google-tivi-tcl-qled-4k-85-inch-85c645\\n', 'https://dienmaycholon.com/tivi/smart-tivi-qled-samsung-4k-55-inch-qa55q80d\\n', 'https://dienmaycholon.com/tivi/google-tivi-tcl-qled-4k-65-inch-65c655\\n', 'https://dienmaycholon.com/tivi/smart-tivi-samsung-oled-4k-65-inch-qa65s95b\\n', 'https://dienmaycholon.com/tivi/smart-tivi-nanocell-lg-4k-65-inch-65nano81tsa\\n', 'https://dienmaycholon.com/tivi/smart-tivi-lg-oled-4k-48-inch-oled48c3psa\\n', 'https://dienmaycholon.com/tivi/smart-tivi-nanocell-lg-4k-55-inch-55nano81tsa\\n', 'https://dienmaycholon.com/tivi/google-tivi-tcl-qled-4k-75-inch-75c655\\n', 'https://dienmaycholon.com/tivi/google-tivi-tcl-qdmini-led-4k-65-inch-65c755\\n', 'https://dienmaycholon.com/tivi/smart-tivi-lg-4k-75-inch-75ur8050psb\\n', 'https://dienmaycholon.com/tivi/smart-tivi-qled-samsung-4k-75-inch-qa75q60d\\n', 'https://dienmaycholon.com/tivi/google-tivi-panasonic-4k-43-inch-th43mx650v\\n', 'https://dienmaycholon.com/tivi/google-tivi-uled-hisense-4k-43-inch-43u6k\\n', 'https://dienmaycholon.com/tivi/google-tivi-sony-4k-55-inch-kd55x80l\\n', 'https://dienmaycholon.com/tivi/smart-tivi-qled-samsung-4k-43-inch-qa43q60d\\n', 'https://dienmaycholon.com/tivi/smart-tivi-samsung-4k-43-inch-ua43bu8000\\n', 'https://dienmaycholon.com/tivi/android-tivi-sharp-42-inch-2tc42eg2x\\n', 'https://dienmaycholon.com/tivi/google-tivi-xiaomi-a-4k-55-inch-l55maasea\\n', 'https://dienmaycholon.com/tivi/smart-tivi-samsung-neo-qled-4k-55-inch-qa55qn85d\\n', 'https://dienmaycholon.com/tivi/google-tivi-sony-4k-65-inch-kd65x85l\\n', 'https://dienmaycholon.com/tivi/google-tivi-xiaomi-a-pro-qled-4k-43-inch-l43massea\\n', 'https://dienmaycholon.com/tivi/smart-tivi-lg-oled-4k-48-inch-oled48b4psa\\n', 'https://dienmaycholon.com/tivi/smart-tivi-nanocell-lg-4k-75-inch-75nano81tsa\\n', 'https://dienmaycholon.com/tivi/sony-bravia-3-led-4k-75-inch-k75s30\\n', 'https://dienmaycholon.com/tivi/smart-tivi-qned-lg-4k-55-inch-55qned86tsa\\n', 'https://dienmaycholon.com/tivi/google-tivi-sony-4k-85-inch-xr85x90l\\n', 'https://dienmaycholon.com/tivi/smart-tivi-qled-samsung-4k-75-inch-qa75q70d\\n', 'https://dienmaycholon.com/tivi/google-tivi-xiaomi-a-pro-4k-55-inch-l55m8a2sea\\n', 'https://dienmaycholon.com/tivi/google-tivi-tcl-qled-4k-98-inch-98c655\\n', 'https://dienmaycholon.com/tivi/google-tivi-xiaomi-a-pro-qled-4k-55-inch-l55massea\\n', 'https://dienmaycholon.com/tivi/google-tivi-coocaa-4k-75-inch-75c9\\n', 'https://dienmaycholon.com/tivi/smart-tivi-samsung-4k-75-inch-ua75du8000\\n', 'https://dienmaycholon.com/tivi/google-tivi-panasonic-4k-55-inch-th55mx650v\\n', 'https://dienmaycholon.com/tivi/smart-tivi-qled-samsung-4k-65-inch-qa65q80d\\n', 'https://dienmaycholon.com/tivi/smart-tivi-lg-oled-4k-55-inch-oled55b4psa\\n', 'https://dienmaycholon.com/tivi/smart-tivi-lg-oled-evo-4k-65-inch-oled65c4psa\\n', 'https://dienmaycholon.com/tivi/google-tivi-tcl-qled-4k-75-inch-75c645\\n', 'https://dienmaycholon.com/tivi/smart-tivi-qled-samsung-4k-50-inch-qa50q60d\\n', 'https://dienmaycholon.com/tivi/google-tivi-tcl-qdmini-led-4k-75-inch-75c755\\n', 'https://dienmaycholon.com/tivi/smart-tivi-samsung-qled-4k-55-inch-qa55q70c\\n', 'https://dienmaycholon.com/tivi/smart-tivi-samsung-qled-4k-85-inch-qa85q70c\\n', 'https://dienmaycholon.com/tivi/smart-tivi-oled-samsung-4k-65-inch-qa65s90d\\n', 'https://dienmaycholon.com/tivi/smart-tivi-hd-coocaa-32-inch-32s3u\\n', 'https://dienmaycholon.com/tivi/google-tivi-xiaomi-a-full-hd-43-inch-l43maafsea\\n', 'https://dienmaycholon.com/tivi/sony-bravia-8-oled-4k-55-inch-k55xr80\\n', 'https://dienmaycholon.com/tivi/smart-tivi-qned-lg-4k-50-inch-50qned80tsa\\n', 'https://dienmaycholon.com/tivi/smart-tivi-oled-evo-pose-lg-4k-55-inch-55lx1qpsa\\n', 'https://dienmaycholon.com/tivi/sony-bravia-8-oled-4k-65-inch-k65xr80\\n', 'https://dienmaycholon.com/tivi/smart-tivi-oled-samsung-4k-55-inch-qa55s90d\\n', 'https://dienmaycholon.com/tivi/google-tivi-hisense-4k-55-inch-55a6500k\\n', 'https://dienmaycholon.com/tivi/google-tivi-sony-hd-32-inch-kd32w830k\\n', 'https://dienmaycholon.com/tivi/smart-tivi-samsung-qled-4k-85-inch-qa85q60b\\n', 'https://dienmaycholon.com/tivi/smart-tivi-lg-oled-evo-4k-55-inch-oled55c4psa\\n', 'https://dienmaycholon.com/tivi/smart-tivi-khung-tranh-the-frame-qled-samsung-4k-55-inch-qa55ls03d\\n', 'https://dienmaycholon.com/tivi/smart-tivi-samsung-neo-qled-4k-65-inch-qa65qn85d\\n', 'https://dienmaycholon.com/tivi/smart-tivi-samsung-neo-qled-4k-75-inch-qa75qn85d\\n', 'https://dienmaycholon.com/tivi/google-tivi-coocaa-4k-70-inch-70y72\\n', 'https://dienmaycholon.com/tivi/android-tivi-panasonic-43-inch-th43lx800v\\n', 'https://dienmaycholon.com/tivi/android-tivi-panasonic-43-inch-th43lx650v\\n', 'https://dienmaycholon.com/tivi/google-tivi-panasonic-4k-65-inch-th65mx650v\\n', 'https://dienmaycholon.com/tivi/smart-tivi-khung-tranh-the-frame-qled-samsung-4k-65-inch-qa65ls03d\\n', 'https://dienmaycholon.com/tivi/smart-tivi-coocaa-full-hd-43-inch-43s3u\\n', 'https://dienmaycholon.com/tivi/smart-tivi-lg-4k-uhd-43-inch-43uq8000psc\\n', 'https://dienmaycholon.com/tivi/sony-bravia-3-led-4k-85-inch-k85s30\\n', 'https://dienmaycholon.com/tivi/smart-tivi-lg-oled-4k-65-inch-oled65b4psa\\n', 'https://dienmaycholon.com/tivi/smart-tivi-uled-miniled-hisense-4k-55-inch-55u7k\\n', 'https://dienmaycholon.com/tivi/smart-tivi-hisense-full-hd-40-inch-40a4200g\\n', 'https://dienmaycholon.com/tivi/smart-tivi-lg-4k-65-inch-65ur7550psc\\n', 'https://dienmaycholon.com/tivi/smart-tivi-lg-oled-4k-55-inch-oled55a3psa\\n', 'https://dienmaycholon.com/tivi/smart-tivi-lg-oled-4k-55-inch-oled55g3psa\\n', 'https://dienmaycholon.com/tivi/smart-tivi-4k-98-inch-samsung-ua98du9000\\n', 'https://dienmaycholon.com/tivi/smart-tivi-uled-hisense-4k-75-inch-75u6k\\n', 'https://dienmaycholon.com/tivi/smart-tivi-lg-oled-4k-83-inch-oled83c3psa\\n', 'https://dienmaycholon.com/tivi/smart-tivi-lg-oled-evo-4k-77-inch-oled77c4psa\\n', 'https://dienmaycholon.com/tivi/smart-tivi-lg-oled-evo-4k-65-inch-oled65g4psa\\n', 'https://dienmaycholon.com/tivi/smart-tivi-samsung-neo-qled-4k-75-inch-qa75qn90d\\n', 'https://dienmaycholon.com/tivi/smart-tivi-uled-miniled-hisense-4k-65-inch-65u7k\\n', 'https://dienmaycholon.com/tivi/google-tivi-oled-sony-4k-65-inch-xr65a95l\\n', 'https://dienmaycholon.com/tivi/google-tivi-xiaomi-a-pro-4k-65-inch-l65m8a2sea\\n', 'https://dienmaycholon.com/tivi/smart-tivi-samsung-qled-4k-98-inch-qa98q80c\\n', 'https://dienmaycholon.com/tivi/smart-tivi-nanocell-lg-4k-86-inch-86nano81tsa\\n', 'https://dienmaycholon.com/tivi/smart-tivi-qned-lg-4k-86-inch-86qned91tsa\\n', 'https://dienmaycholon.com/tivi/smart-tivi-qned-lg-4k-75-inch-75qned91tsa\\n', 'https://dienmaycholon.com/tivi/smart-tivi-lg-oled-evo-4k-55-inch-oled55g4psa\\n', 'https://dienmaycholon.com/tivi/google-tivi-tcl-qled-4k-85-inch-85c655\\n', 'https://dienmaycholon.com/tivi/google-tivi-tcl-qdmini-led-4k-85-inch-85c755\\n', 'https://dienmaycholon.com/tivi/smart-tivi-khung-tranh-the-frame-qled-samsung-4k-75-inch-qa75ls03d\\n', 'https://dienmaycholon.com/tivi/smart-tivi-qled-samsung-4k-85-inch-qa85q60d\\n', 'https://dienmaycholon.com/tivi/smart-tivi-qled-samsung-4k-75-inch-qa75q80d\\n', 'https://dienmaycholon.com/tivi/smart-tivi-samsung-neo-qled-4k-85-inch-qa85qn85d\\n', 'https://dienmaycholon.com/tivi/smart-tivi-samsung-neo-qled-4k-85-inch-qa85qn90d\\n', 'https://dienmaycholon.com/tivi/smart-tivi-samsung-neo-qled-4k-98-inch-qa98qn90d\\n', 'https://dienmaycholon.com/tivi/smart-tivi-samsung-neo-qled-8k-65-inch-qa65qn800d\\n', 'https://dienmaycholon.com/tivi/google-tivi-tcl-qdmini-led-4k-98-inch-98c755\\n', 'https://dienmaycholon.com/tivi/google-tivi-hisense-4k-75-inch-75a6500k\\n', 'https://dienmaycholon.com/tivi/google-tivi-uled-hisense-4k-65-inch-65u6k\\n', 'https://dienmaycholon.com/tivi/smart-tivi-samsung-neo-qled-4k-50-inch-qa50qn90c\\n', 'https://dienmaycholon.com/tivi/smart-tivi-qled-4k-samsung-65-inch-qa65q80b\\n', 'https://dienmaycholon.com/tivi/samsung-smart-tivi-neo-qled-4k-65-inch-qa65qn85b\\n', 'https://dienmaycholon.com/tivi/smart-tivi-samsung-4k-85-inch-ua85bu8000\\n', 'https://dienmaycholon.com/tivi/smart-tivi-samsung-qled-4k-55-inch-qa55q60b\\n', 'https://dienmaycholon.com/tivi/sony-bravia-9-mini-led-qled-4k-75-inch-k75xr90\\n', 'https://dienmaycholon.com/tivi/sony-bravia-9-mini-led-qled-4k-85-inch-k85xr90\\n', 'https://dienmaycholon.com/tivi/google-tivi-hisense-4k-65-inch-65a6500k\\n', 'https://dienmaycholon.com/tivi/smart-tivi-lg-4k-43-inch-43ut8050psb\\n', 'https://dienmaycholon.com/tivi/smart-tivi-qned-lg-4k-86-inch-86qned80tsa\\n', 'https://dienmaycholon.com/tivi/smart-tivi-qned-lg-4k-75-inch-75qned80tsa\\n', 'https://dienmaycholon.com/tivi/sony-bravia-7-mini-led-qled-4k-65-inch-k65xr70\\n', 'https://dienmaycholon.com/tivi/smart-tivi-qned-lg-4k-86-inch-86qned86tsa\\n', 'https://dienmaycholon.com/tivi/smart-tivi-qned-lg-4k-75-inch-75qned86tsa\\n', 'https://dienmaycholon.com/tivi/smart-tivi-qled-samsung-4k-85-inch-qa85q80d\\n', 'https://dienmaycholon.com/tivi/smart-tivi-samsung-neo-qled-4k-55-inch-qa55qn90d\\n', 'https://dienmaycholon.com/tivi/smart-tivi-samsung-neo-qled-4k-65-inch-qa65qn90d\\n', 'https://dienmaycholon.com/tivi/smart-tivi-samsung-neo-qled-8k-85-inch-qa85qn900d\\n', 'https://dienmaycholon.com/tivi/smart-tivi-hisense-hd-32-inch-32a4200g\\n', 'https://dienmaycholon.com/tivi/smart-tivi-lg-4k-65-inch-65ur8050psb\\n', 'https://dienmaycholon.com/tivi/smart-tivi-lg-qned-4k-55-inch-55qned80sra\\n', 'https://dienmaycholon.com/tivi/google-tivi-sony-oled-4k-77-inch-xr77a80l\\n', 'https://dienmaycholon.com/tivi/smart-tivi-samsung-qled-4k-65-inch-qa65q70c\\n', 'https://dienmaycholon.com/tivi/smart-tivi-samsung-neo-qled-8k-75-inch-qa75qn800c\\n', 'https://dienmaycholon.com/tivi/smart-tivi-samsung-neo-qled-8k-85-inch-qa85qn900c\\n', 'https://dienmaycholon.com/tivi/google-tivi-tcl-4k-75-inch-75p638\\n', 'https://dienmaycholon.com/tivi/smart-tivi-crystal-uhd-4k-samsung-55-inch-ua55au7700\\n', 'https://dienmaycholon.com/tivi/smart-tivi-qned-lg-4k-43-inch-43qned75sra\\n', 'https://dienmaycholon.com/tivi/smart-tivi-lg-qned-4k-65-inch-65qned80sra\\n', 'https://dienmaycholon.com/tivi/smart-tivi-lg-oled-4k-48-inch-oled48a3psa\\n', 'https://dienmaycholon.com/tivi/smart-tivi-samsung-oled-4k-65-inch-qa65s90c\\n', 'https://dienmaycholon.com/tivi/smart-tivi-samsung-qled-4k-50-inch-qa50q80c\\n', 'https://dienmaycholon.com/tivi/smart-tivi-samsung-neo-qled-4k-55-inch-qa55qn85c\\n', 'https://dienmaycholon.com/tivi/android-tivi-panasonic-55-inch-th55lx650v\\n', 'https://dienmaycholon.com/tivi/smart-nanocell-tivi-lg-4k-43-inch-43nano76sqa\\n', 'https://dienmaycholon.com/tivi/smart-tivi-toshiba-4k-100-inch-100z670np\\n', 'https://dienmaycholon.com/tivi/smart-tivi-toshiba-4k-85-inch-85m450np\\n', 'https://dienmaycholon.com/tivi/smart-tivi-toshiba-4k-65-inch-65m450np\\n', 'https://dienmaycholon.com/tivi/smart-tivi-toshiba-4k-55-inch-55m450np\\n', 'https://dienmaycholon.com/tivi/smart-tivi-toshiba-4k-43-inch-43m450np\\n', 'https://dienmaycholon.com/tivi/smart-tivi-toshiba-4k-75-inch-75c350np\\n', 'https://dienmaycholon.com/tivi/smart-tivi-toshiba-4k-65-inch-65e330np\\n', 'https://dienmaycholon.com/tivi/smart-tivi-toshiba-4k-55-inch-55e330np\\n', 'https://dienmaycholon.com/tivi/smart-tivi-toshiba-4k-50-inch-50e330np\\n', 'https://dienmaycholon.com/tivi/smart-tivi-toshiba-4k-43-inch-43e330np\\n', 'https://dienmaycholon.com/tivi/smart-tivi-toshiba-full-hd-43-inch-43e31mp\\n', 'https://dienmaycholon.com/tivi/google-tivi-coocaa-full-hd-43-inch-43z73\\n', 'https://dienmaycholon.com/tivi/google-tivi-coocaa-full-hd-40-inch-40z73\\n', 'https://dienmaycholon.com/tivi/google-tivi-coocaa-hd-32-inch-32z73\\n', 'https://dienmaycholon.com/tivi/google-tivi-xach-tay-di-dong-full-hd-coocaa-24-inch-24lp6000g-tay-cam-da\\n', 'https://dienmaycholon.com/tivi/smart-tivi-lg-oled-evo-4k-48-inch-oled48c4psa\\n', 'https://dienmaycholon.com/tivi/google-tivi-tcl-qdmini-led-4k-115-inch-115x955-max\\n', 'https://dienmaycholon.com/tivi/smart-tivi-oled-lg-4k-65-inch-oled65m4psa\\n', 'https://dienmaycholon.com/tivi/smart-tivi-oled-lg-4k-83-inch-oled83m4psa\\n', 'https://dienmaycholon.com/tivi/smart-tivi-lg-4k-65-inch-65ut7350psb\\n', 'https://dienmaycholon.com/tivi/smart-tivi-lg-4k-86-inch-86ut8050psb\\n', 'https://dienmaycholon.com/tivi/smart-tivi-lg-4k-75-inch-75ut8050psb\\n', 'https://dienmaycholon.com/tivi/smart-tivi-lg-4k-50-inch-50ut8050psb\\n', 'https://dienmaycholon.com/tivi/smart-tivi-nanocell-lg-4k-50-inch-50nano81tsa\\n', 'https://dienmaycholon.com/tivi/sony-bravia-7-mini-led-qled-4k-75-inch-k75xr70\\n', 'https://dienmaycholon.com/tivi/smart-tivi-lg-4k-55-inch-55lx1tpsa\\n', 'https://dienmaycholon.com/tivi/smart-tivi-qned-lg-4k-98-inch-98qned89tsa\\n', 'https://dienmaycholon.com/tivi/smart-tivi-lg-oled-evo-4k-83-inch-oled83c4psa\\n', 'https://dienmaycholon.com/tivi/google-tivi-tcl-qdmini-led-4k-98-inch-98c855\\n', 'https://dienmaycholon.com/tivi/google-tivi-tcl-qdmini-led-4k-85-inch-85c855\\n', 'https://dienmaycholon.com/tivi/smart-tivi-samsung-4k-43-inch-ua43du7700\\n', 'https://dienmaycholon.com/tivi/smart-tivi-samsung-4k-50-inch-ua50du7700\\n', 'https://dienmaycholon.com/tivi/smart-tivi-samsung-4k-55-inch-ua55du7700\\n', 'https://dienmaycholon.com/tivi/smart-tivi-samsung-4k-65-inch-ua65du7700\\n', 'https://dienmaycholon.com/tivi/smart-tivi-samsung-4k-75-inch-ua75du7700\\n', 'https://dienmaycholon.com/tivi/smart-tivi-samsung-4k-85-inch-ua85du7700\\n', 'https://dienmaycholon.com/tivi/smart-tivi-samsung-4k-43-inch-ua43du8000\\n', 'https://dienmaycholon.com/tivi/smart-tivi-samsung-4k-50-inch-ua50du8000\\n', 'https://dienmaycholon.com/tivi/smart-tivi-samsung-4k-85-inch-ua85du8000\\n', 'https://dienmaycholon.com/tivi/smart-tivi-qled-samsung-4k-85-inch-qa85q70d\\n', 'https://dienmaycholon.com/tivi/smart-tivi-oled-samsung-4k-77-inch-qa77s95d\\n', 'https://dienmaycholon.com/tivi/smart-tivi-oled-samsung-4k-65-inch-qa65s95d\\n', 'https://dienmaycholon.com/tivi/google-tivi-uled-hisense-4k-55-inch-55u6k\\n', 'https://dienmaycholon.com/tivi/google-tivi-coocaa-qled-4k-100-inch-100a5d\\n', 'https://dienmaycholon.com/tivi/google-tivi-oled-sony-4k-77-inch-xr77a95l\\n', 'https://dienmaycholon.com/tivi/smart-tivi-samsung-neo-qled-8k-98-inch-qa98qn990ckxxv\\n', 'https://dienmaycholon.com/tivi/smart-tivi-coocaa-4k-55-inch-55s3u-pro\\n', 'https://dienmaycholon.com/tivi/smart-tivi-lg-4k-86-inch-86ur8050psb\\n', 'https://dienmaycholon.com/tivi/google-tivi-mini-qled-tcl-4k-75-inch-75c845\\n']\n"
     ]
    },
    {
     "data": {
      "text/plain": [
       "True"
      ]
     },
     "execution_count": 19,
     "metadata": {},
     "output_type": "execute_result"
    }
   ],
   "source": [
    "list_product_url = []\n",
    "for product_product_link in product_product_links:\n",
    "    list_product_url.append(product_product_link.get_attribute('href') + '\\n')\n",
    "print(len(list_product_url), list_product_url)\n",
    "write_txt('product_url.txt',list_product_url )"
   ]
  },
  {
   "cell_type": "code",
   "execution_count": 20,
   "metadata": {},
   "outputs": [],
   "source": [
    "dataframe = {\n",
    "    'Product Name': list_product_name,\n",
    "    'Sale Price': list_sale_price,\n",
    "    'Image Link': list_img_name,\n",
    "    'Product Link': list_product_url\n",
    "}\n",
    "df = pd.DataFrame(dataframe)\n",
    "df.to_csv('tivi.csv', index=False)\n",
    "driver.close()"
   ]
  },
  {
   "cell_type": "code",
   "execution_count": 28,
   "metadata": {},
   "outputs": [],
   "source": [
    "def get_star_from_url(url):\n",
    "    driver.get(url)\n",
    "    # time.sleep(1)\n",
    "    driver.implicitly_wait(10)\n",
    "    driver.find_element(by = By.TAG_NAME, value = 'body').send_keys(Keys.END)\n",
    "    stars = driver.find_elements(By.XPATH, '//div[@class=\"star_line\"]')\n",
    "    data = {}\n",
    "    for star in stars:\n",
    "        kind_star = star.find_element(by= By.CSS_SELECTOR, value = 'div.star_type>strong').text\n",
    "        num_star = star.find_element(by= By.CSS_SELECTOR, value = 'div.star_sum_eva>span').text\n",
    "        try:\n",
    "            data[kind_star] = int(num_star)\n",
    "        except:\n",
    "            data[kind_star] = 0\n",
    "    return data \n",
    "        "
   ]
  },
  {
   "cell_type": "code",
   "execution_count": 30,
   "metadata": {},
   "outputs": [
    {
     "data": {
      "text/html": [
       "<div>\n",
       "<style scoped>\n",
       "    .dataframe tbody tr th:only-of-type {\n",
       "        vertical-align: middle;\n",
       "    }\n",
       "\n",
       "    .dataframe tbody tr th {\n",
       "        vertical-align: top;\n",
       "    }\n",
       "\n",
       "    .dataframe thead th {\n",
       "        text-align: right;\n",
       "    }\n",
       "</style>\n",
       "<table border=\"1\" class=\"dataframe\">\n",
       "  <thead>\n",
       "    <tr style=\"text-align: right;\">\n",
       "      <th></th>\n",
       "      <th>Product Link</th>\n",
       "      <th>Stars</th>\n",
       "    </tr>\n",
       "  </thead>\n",
       "  <tbody>\n",
       "    <tr>\n",
       "      <th>0</th>\n",
       "      <td>https://dienmaycholon.com/tivi/smart-tivi-sams...</td>\n",
       "      <td>{'1': 0, '2': 0, '3': 0, '4': 0, '5': 0}</td>\n",
       "    </tr>\n",
       "    <tr>\n",
       "      <th>1</th>\n",
       "      <td>https://dienmaycholon.com/tivi/smart-nanocell-...</td>\n",
       "      <td>{'1': 0, '2': 0, '3': 0, '4': 0, '5': 0}</td>\n",
       "    </tr>\n",
       "    <tr>\n",
       "      <th>2</th>\n",
       "      <td>https://dienmaycholon.com/tivi/sony-bravia-3-l...</td>\n",
       "      <td>{'1': 0, '2': 0, '3': 0, '4': 0, '5': 0}</td>\n",
       "    </tr>\n",
       "    <tr>\n",
       "      <th>3</th>\n",
       "      <td>https://dienmaycholon.com/tivi/smart-tivi-lg-4...</td>\n",
       "      <td>{'1': 0, '2': 0, '3': 0, '4': 0, '5': 0}</td>\n",
       "    </tr>\n",
       "    <tr>\n",
       "      <th>4</th>\n",
       "      <td>https://dienmaycholon.com/tivi/android-tivi-ql...</td>\n",
       "      <td>{'1': 0, '2': 0, '3': 0, '4': 0, '5': 0}</td>\n",
       "    </tr>\n",
       "  </tbody>\n",
       "</table>\n",
       "</div>"
      ],
      "text/plain": [
       "                                        Product Link  \\\n",
       "0  https://dienmaycholon.com/tivi/smart-tivi-sams...   \n",
       "1  https://dienmaycholon.com/tivi/smart-nanocell-...   \n",
       "2  https://dienmaycholon.com/tivi/sony-bravia-3-l...   \n",
       "3  https://dienmaycholon.com/tivi/smart-tivi-lg-4...   \n",
       "4  https://dienmaycholon.com/tivi/android-tivi-ql...   \n",
       "\n",
       "                                      Stars  \n",
       "0  {'1': 0, '2': 0, '3': 0, '4': 0, '5': 0}  \n",
       "1  {'1': 0, '2': 0, '3': 0, '4': 0, '5': 0}  \n",
       "2  {'1': 0, '2': 0, '3': 0, '4': 0, '5': 0}  \n",
       "3  {'1': 0, '2': 0, '3': 0, '4': 0, '5': 0}  \n",
       "4  {'1': 0, '2': 0, '3': 0, '4': 0, '5': 0}  "
      ]
     },
     "execution_count": 30,
     "metadata": {},
     "output_type": "execute_result"
    }
   ],
   "source": [
    "\n",
    "links = df['Product Link']\n",
    "stars =[]\n",
    "driver = webdriver.Edge()\n",
    "for link in links:\n",
    "    stars.append(get_star_from_url(link))\n",
    "print(stars)\n",
    "data = {\n",
    "    'Product Link' : links,\n",
    "    'Stars': stars\n",
    "}\n",
    "df = pd.DataFrame(data)\n",
    "driver.close()\n",
    "df.head()\n",
    "    "
   ]
  },
  {
   "cell_type": "code",
   "execution_count": 43,
   "metadata": {},
   "outputs": [
    {
     "data": {
      "text/html": [
       "<div>\n",
       "<style scoped>\n",
       "    .dataframe tbody tr th:only-of-type {\n",
       "        vertical-align: middle;\n",
       "    }\n",
       "\n",
       "    .dataframe tbody tr th {\n",
       "        vertical-align: top;\n",
       "    }\n",
       "\n",
       "    .dataframe thead th {\n",
       "        text-align: right;\n",
       "    }\n",
       "</style>\n",
       "<table border=\"1\" class=\"dataframe\">\n",
       "  <thead>\n",
       "    <tr style=\"text-align: right;\">\n",
       "      <th></th>\n",
       "      <th>Product Name</th>\n",
       "      <th>Sale Price</th>\n",
       "      <th>star</th>\n",
       "      <th>5 stars</th>\n",
       "    </tr>\n",
       "  </thead>\n",
       "  <tbody>\n",
       "    <tr>\n",
       "      <th>58</th>\n",
       "      <td>Samsung Smart Tivi UA43AU7002</td>\n",
       "      <td>6490000</td>\n",
       "      <td>{'1': 0, '2': 0, '3': 0, '4': 4, '5': 31}</td>\n",
       "      <td>31</td>\n",
       "    </tr>\n",
       "    <tr>\n",
       "      <th>105</th>\n",
       "      <td>Coocaa Smart Tivi 32S3U</td>\n",
       "      <td>2490000</td>\n",
       "      <td>{'1': 0, '2': 0, '3': 1, '4': 1, '5': 10}</td>\n",
       "      <td>10</td>\n",
       "    </tr>\n",
       "    <tr>\n",
       "      <th>9</th>\n",
       "      <td>Samsung Smart Tivi QLED 4K 43 Inch QA43Q60B</td>\n",
       "      <td>9990000</td>\n",
       "      <td>{'1': 0, '2': 0, '3': 0, '4': 0, '5': 4}</td>\n",
       "      <td>4</td>\n",
       "    </tr>\n",
       "    <tr>\n",
       "      <th>78</th>\n",
       "      <td>Samsung Smart Tivi UA43BU8000</td>\n",
       "      <td>8490000</td>\n",
       "      <td>{'1': 0, '2': 0, '3': 0, '4': 0, '5': 4}</td>\n",
       "      <td>4</td>\n",
       "    </tr>\n",
       "    <tr>\n",
       "      <th>163</th>\n",
       "      <td>Samsung Smart Tivi QLED QA55Q60B</td>\n",
       "      <td>10990000</td>\n",
       "      <td>{'1': 0, '2': 0, '3': 0, '4': 0, '5': 2}</td>\n",
       "      <td>2</td>\n",
       "    </tr>\n",
       "    <tr>\n",
       "      <th>66</th>\n",
       "      <td>Samsung Smart Tivi OLED 4K 65 Inch QA65S95B</td>\n",
       "      <td>00000000</td>\n",
       "      <td>{'1': 0, '2': 0, '3': 0, '4': 0, '5': 1}</td>\n",
       "      <td>1</td>\n",
       "    </tr>\n",
       "  </tbody>\n",
       "</table>\n",
       "</div>"
      ],
      "text/plain": [
       "                                    Product Name Sale Price  \\\n",
       "58                 Samsung Smart Tivi UA43AU7002    6490000   \n",
       "105                      Coocaa Smart Tivi 32S3U    2490000   \n",
       "9    Samsung Smart Tivi QLED 4K 43 Inch QA43Q60B    9990000   \n",
       "78                 Samsung Smart Tivi UA43BU8000    8490000   \n",
       "163             Samsung Smart Tivi QLED QA55Q60B   10990000   \n",
       "66   Samsung Smart Tivi OLED 4K 65 Inch QA65S95B   00000000   \n",
       "\n",
       "                                          star  5 stars  \n",
       "58   {'1': 0, '2': 0, '3': 0, '4': 4, '5': 31}       31  \n",
       "105  {'1': 0, '2': 0, '3': 1, '4': 1, '5': 10}       10  \n",
       "9     {'1': 0, '2': 0, '3': 0, '4': 0, '5': 4}        4  \n",
       "78    {'1': 0, '2': 0, '3': 0, '4': 0, '5': 4}        4  \n",
       "163   {'1': 0, '2': 0, '3': 0, '4': 0, '5': 2}        2  \n",
       "66    {'1': 0, '2': 0, '3': 0, '4': 0, '5': 1}        1  "
      ]
     },
     "execution_count": 43,
     "metadata": {},
     "output_type": "execute_result"
    }
   ],
   "source": [
    "dataframe = {\n",
    "    'Product Name': list_product_name,\n",
    "    'Sale Price': list_sale_price,\n",
    "    'star' : stars,\n",
    "    \n",
    "}\n",
    "df_5 = pd.DataFrame(dataframe)\n",
    "five_stars = list(star['5'] for star in stars)\n",
    "five_stars = pd.DataFrame(five_stars, columns = ['5 stars'])\n",
    "df_5 = pd.concat([df_5, five_stars], axis = 1)\n",
    "df_5[df_5['5 stars'] > 0].sort_values(by = '5 stars', ascending = False).head(10)"
   ]
  }
 ],
 "metadata": {
  "kernelspec": {
   "display_name": "Python 3",
   "language": "python",
   "name": "python3"
  },
  "language_info": {
   "codemirror_mode": {
    "name": "ipython",
    "version": 3
   },
   "file_extension": ".py",
   "mimetype": "text/x-python",
   "name": "python",
   "nbconvert_exporter": "python",
   "pygments_lexer": "ipython3",
   "version": "3.11.9"
  }
 },
 "nbformat": 4,
 "nbformat_minor": 2
}
