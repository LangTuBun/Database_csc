{
 "cells": [
  {
   "cell_type": "code",
   "execution_count": 1,
   "metadata": {},
   "outputs": [],
   "source": [
    "from selenium import webdriver\n",
    "from selenium.webdriver.common.by import By\n",
    "from mylibs import *\n",
    "import pandas as pd\n",
    "import time\n"
   ]
  },
  {
   "cell_type": "code",
   "execution_count": 2,
   "metadata": {},
   "outputs": [],
   "source": [
    "# driver = webdriver.Edge()\n",
    "# driver.maximize_window()\n",
    "# list_link = []  \n",
    "\n",
    "# for page in range(1,8):\n",
    "#     url = f'https://dienmaythiennamhoa.vn/may-giat.html?page={page}&_is_desktop=1&_is_robot=0&sort='\n",
    "#     driver.get(url)\n",
    "    \n",
    "#     #vung chua san phan\n",
    "#     product_container = driver.find_element(by = By.CLASS_NAME, value ='block-card-cate')\n",
    "    \n",
    "#     #link san phan\n",
    "#     tag_link_products = product_container.find_elements(by = By.CLASS_NAME, value = 'product-image-link')\n",
    "#     for tag_link_product in tag_link_products:\n",
    "#         link = tag_link_product.get_attribute('href') + '\\n'\n",
    "#         print(link)\n",
    "#         list_link.append(link)\n",
    "# else :\n",
    "#     write_txt('list_link_may_giat.txt', list_link)\n",
    "#     print('DONE')\n",
    "#     driver.close()\n",
    "    "
   ]
  },
  {
   "cell_type": "code",
   "execution_count": 3,
   "metadata": {},
   "outputs": [
    {
     "name": "stdout",
     "output_type": "stream",
     "text": [
      "\"link no: \"20 https://dienmaythiennamhoa.vn/may-giat/may-giat-samsung-ai-ecobubble-inverter-12-kg-ww12cgp44dshsv-258805.html\n",
      "\"link no: \"21 https://dienmaythiennamhoa.vn/may-giat/may-giat-samsung-ai-ecobubble-inverter-12-kg-ww12cb944dgbsv-258804.html\n",
      "\"link no: \"22 https://dienmaythiennamhoa.vn/may-giat/may-giat-samsung-ai-ecobubble-inverter-11-kg-ww11cgp44dshsv-258803.html\n",
      "\"link no: \"23 https://dienmaythiennamhoa.vn/may-giat/may-giat-casper-8-kg-wt-8ng2-258802.html\n",
      "\"link no: \"24 https://dienmaythiennamhoa.vn/may-giat/may-giat-casper-85-kg-wt-85ng1-258801.html\n",
      "\"link no: \"25 https://dienmaythiennamhoa.vn/may-giat/may-giat-casper-75-kg-wt-75ng1-258800.html\n",
      "\"link no: \"26 https://dienmaythiennamhoa.vn/may-giat/may-giat-toshiba-10-kg-aw-m1100jvmk-258765.html\n",
      "\"link no: \"27 https://dienmaythiennamhoa.vn/may-giat/may-giat-aqua-inverter-11-kg-aqd-dw1100jbk-258760.html\n",
      "\"link no: \"28 https://dienmaythiennamhoa.vn/may-giat/may-giat-aqua-inverter-10-kg-aqd-dw1000jbk-258759.html\n",
      "\"link no: \"29 https://dienmaythiennamhoa.vn/may-giat/may-giat-toshiba-inverter-105-kg-tw-t21bu115uwvmg-258758.html\n",
      "\"link no: \"30 https://dienmaythiennamhoa.vn/may-giat/may-giat-toshiba-inverter-10-kg-tw-t21bu110uwvmg-258757.html\n",
      "\"link no: \"31 https://dienmaythiennamhoa.vn/may-giat/may-giat-toshiba-inverter-95-kg-tw-t21bu105uwvmg-258756.html\n",
      "\"link no: \"32 https://dienmaythiennamhoa.vn/may-giat/may-giat-say-mabe-15-kg-mcl1540eebbyo-258725.html\n",
      "\"link no: \"33 https://dienmaythiennamhoa.vn/may-giat/may-giat-lg-inverter-10-kg-fv1410s4w1-258709.html\n",
      "\"link no: \"34 https://dienmaythiennamhoa.vn/may-giat/may-giat-aqua-inverter-8-kg-aqd-a802gw-258678.html\n",
      "\"link no: \"35 https://dienmaythiennamhoa.vn/may-giat/may-giat-samsung-inverter-105-kg-wa10cg5745bdsv-258635.html\n",
      "\"link no: \"36 https://dienmaythiennamhoa.vn/may-giat/may-giat-panasonic-inverter-115-kg-na-fd115w3bv-258634.html\n",
      "\"link no: \"37 https://dienmaythiennamhoa.vn/may-giat/may-giat-panasonic-inverter-105-kg-na-fd105w3bv-258633.html\n",
      "\"link no: \"38 https://dienmaythiennamhoa.vn/may-giat/may-giat-panasonic-82-kg-na-f82y01drv-258632.html\n",
      "\"link no: \"39 https://dienmaythiennamhoa.vn/may-giat/may-giat-lg-inverter-20-kg-tv2520dv7j-258631.html\n",
      "DONE\n"
     ]
    }
   ],
   "source": [
    "driver = webdriver.Edge()\n",
    "\n",
    "list_links = read_txt('list_link_may_giat.txt')\n",
    "for i in range(20,40):\n",
    "    link = list_links[i].strip('\\n')\n",
    "    print(f'\"link no: \"{i} {link}')\n",
    "    driver.get(link)\n",
    "    # print(len(list_links))\n",
    "    time.sleep(1)\n",
    "    \n",
    "    # ten san pham\n",
    "    product_name = driver.find_element(by = By.TAG_NAME, value ='h1').text\n",
    "    product_og_price = driver.find_element(by = By.CSS_SELECTOR, value = 'span.price-sale').text\n",
    "    product_sale_price = driver.find_element(by = By.CSS_SELECTOR, value = 'div.online-sale-price span.price-real').text\n",
    "    img_list = []    \n",
    "    img_name = driver.find_element(by = By.CSS_SELECTOR, value = 'img.bzoom_thumb_image')  \n",
    "    img_name = img_name.get_attribute('src').split('/')[-1]\n",
    "    dict_product = {\n",
    "        'product_name': product_name,\n",
    "        'product_og_price': product_og_price,\n",
    "        'product_sale_price': product_sale_price,\n",
    "        'img_name': img_name\n",
    "    }\n",
    "    write_json(f'json_maygiat_2/maygiat_{i}.json', dict_product)\n",
    "\n",
    "    # print(product_name, product_og_price, product_sale_price, img_name)\n",
    "    \n",
    "else:\n",
    "    print('DONE')\n",
    "    driver.close()\n",
    "    \n",
    "    "
   ]
  },
  {
   "cell_type": "code",
   "execution_count": null,
   "metadata": {},
   "outputs": [],
   "source": []
  }
 ],
 "metadata": {
  "kernelspec": {
   "display_name": "Python 3",
   "language": "python",
   "name": "python3"
  },
  "language_info": {
   "codemirror_mode": {
    "name": "ipython",
    "version": 3
   },
   "file_extension": ".py",
   "mimetype": "text/x-python",
   "name": "python",
   "nbconvert_exporter": "python",
   "pygments_lexer": "ipython3",
   "version": "3.11.9"
  }
 },
 "nbformat": 4,
 "nbformat_minor": 2
}
