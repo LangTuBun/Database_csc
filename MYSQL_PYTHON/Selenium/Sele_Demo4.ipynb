{
 "cells": [
  {
   "cell_type": "code",
   "execution_count": 47,
   "metadata": {},
   "outputs": [],
   "source": [
    "from selenium import webdriver\n",
    "from selenium.webdriver.common.by import By\n",
    "from mylibs import *\n",
    "import pandas as pd\n",
    "import time\n",
    "\n"
   ]
  },
  {
   "cell_type": "code",
   "execution_count": 48,
   "metadata": {},
   "outputs": [],
   "source": [
    "driver =    webdriver.Edge()\n",
    "driver.minimize_window()\n",
    "url = 'https://www.tnc.com.vn/man-hinh-asus.html'\n",
    "driver.get(url)\n",
    "\n"
   ]
  },
  {
   "cell_type": "code",
   "execution_count": 49,
   "metadata": {},
   "outputs": [],
   "source": [
    "product_container = driver.find_element(By.XPATH, '//*[@id=\"list-product\"]')\n"
   ]
  },
  {
   "cell_type": "code",
   "execution_count": 50,
   "metadata": {},
   "outputs": [],
   "source": [
    "#xác định nút loadmore và click vào\n",
    "while True:\n",
    "    try:\n",
    "        tag_button_load_more = product_container.find_element(By.XPATH, '//div[@class=\"load-more\"]//button')\n",
    "    except Exception:\n",
    "        break\n",
    "    else:\n",
    "        tag_button_load_more.click()\n",
    "        time.sleep(3)\n",
    "    "
   ]
  },
  {
   "cell_type": "code",
   "execution_count": 52,
   "metadata": {},
   "outputs": [
    {
     "data": {
      "text/plain": [
       "['Màn hình LCD Asus ProArt PA278CGV (27 inch/ ...',\n",
       " 'Màn hình LCD Asus Eye Care VA24EHF (23.8 ...',\n",
       " 'Màn hình LCD Asus Eye Care VA24EHFR (23.8 ...',\n",
       " 'Màn hình LCD Asus Eye Care VA27ECE (27 inch/ ...',\n",
       " 'Màn hình LCD Asus Eye Care VY279HE-W (27 ...']"
      ]
     },
     "execution_count": 52,
     "metadata": {},
     "output_type": "execute_result"
    }
   ],
   "source": [
    "list_products = []\n",
    "tag_product_names = product_container.find_elements(By.XPATH, value = '//div[@class=\"text\"]//h2')\n",
    "for tag_product_name in tag_product_names:\n",
    "    product_name = tag_product_name.text\n",
    "    list_products.append(product_name)\n",
    "    list_products[0:5]\n",
    "    "
   ]
  }
 ],
 "metadata": {
  "kernelspec": {
   "display_name": "Python 3",
   "language": "python",
   "name": "python3"
  },
  "language_info": {
   "codemirror_mode": {
    "name": "ipython",
    "version": 3
   },
   "file_extension": ".py",
   "mimetype": "text/x-python",
   "name": "python",
   "nbconvert_exporter": "python",
   "pygments_lexer": "ipython3",
   "version": "3.11.9"
  }
 },
 "nbformat": 4,
 "nbformat_minor": 2
}
