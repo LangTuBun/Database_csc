{
 "cells": [
  {
   "cell_type": "code",
   "execution_count": 83,
   "metadata": {},
   "outputs": [],
   "source": [
    "from selenium import webdriver\n",
    "from selenium.webdriver.common.by import By\n",
    "from mylibs import download_image"
   ]
  },
  {
   "cell_type": "code",
   "execution_count": 49,
   "metadata": {},
   "outputs": [],
   "source": [
    "driver = webdriver.Edge()\n",
    "# driver.start_tab_mirroring()\n",
    "url = \"https://dienmaythiennamhoa.vn/may-giat.html\"\n",
    "driver.get(url)"
   ]
  },
  {
   "cell_type": "code",
   "execution_count": 50,
   "metadata": {},
   "outputs": [
    {
     "data": {
      "text/plain": [
       "<selenium.webdriver.remote.webelement.WebElement (session=\"b0e9e5b328da388ad793df198ee0595a\", element=\"f.E38F6FC4A4369B8922FA93F53CD2D6A2.d.844D1810299F76E9A926DBA3F7AF0F8C.e.133\")>"
      ]
     },
     "execution_count": 50,
     "metadata": {},
     "output_type": "execute_result"
    }
   ],
   "source": [
    "# class=\"block-card-cate container-card-cate d-flex justify-content-flex-start flex-wrap w-10\"\n",
    "product_container = driver.find_element(by = By.CLASS_NAME, value = 'block-card-cate')\n",
    "product_container"
   ]
  },
  {
   "cell_type": "code",
   "execution_count": 51,
   "metadata": {},
   "outputs": [
    {
     "data": {
      "text/plain": [
       "<selenium.webdriver.remote.webelement.WebElement (session=\"b0e9e5b328da388ad793df198ee0595a\", element=\"f.E38F6FC4A4369B8922FA93F53CD2D6A2.d.844D1810299F76E9A926DBA3F7AF0F8C.e.133\")>"
      ]
     },
     "execution_count": 51,
     "metadata": {},
     "output_type": "execute_result"
    }
   ],
   "source": [
    "# class=\"block-card-cate container-card-cate d-flex justify-content-flex-start flex-wrap w-10\"\n",
    "# ký hiệu cho id là #\n",
    "# ký hiệu cho class là .\n",
    "# driver.find_element(by= By.ID, value =)\n",
    "product_container = driver.find_element(by = By.CSS_SELECTOR, value = 'div.block-card-cate.container-card-cate.d-flex.justify-content-flex-start.flex-wrap.w-10')\n",
    "product_container\n"
   ]
  },
  {
   "cell_type": "code",
   "execution_count": 55,
   "metadata": {},
   "outputs": [
    {
     "data": {
      "text/plain": [
       "<selenium.webdriver.remote.webelement.WebElement (session=\"b0e9e5b328da388ad793df198ee0595a\", element=\"f.E38F6FC4A4369B8922FA93F53CD2D6A2.d.DAFA259A6C41E392AEB453427F993F78.e.490\")>"
      ]
     },
     "execution_count": 55,
     "metadata": {},
     "output_type": "execute_result"
    }
   ],
   "source": [
    "product_container = driver.find_element(by = By.XPATH, value = '//div[@class=\"block-card-cate container-card-cate d-flex justify-content-flex-start flex-wrap w-10\"]')\n",
    "product_container"
   ]
  },
  {
   "cell_type": "markdown",
   "metadata": {},
   "source": [
    "XÁC ĐỊNH DANH SÁCH SẢN PHẨM"
   ]
  },
  {
   "cell_type": "code",
   "execution_count": 64,
   "metadata": {},
   "outputs": [
    {
     "name": "stdout",
     "output_type": "stream",
     "text": [
      "[<selenium.webdriver.remote.webelement.WebElement (session=\"b0e9e5b328da388ad793df198ee0595a\", element=\"f.E38F6FC4A4369B8922FA93F53CD2D6A2.d.DAFA259A6C41E392AEB453427F993F78.e.3606\")>, <selenium.webdriver.remote.webelement.WebElement (session=\"b0e9e5b328da388ad793df198ee0595a\", element=\"f.E38F6FC4A4369B8922FA93F53CD2D6A2.d.DAFA259A6C41E392AEB453427F993F78.e.3653\")>, <selenium.webdriver.remote.webelement.WebElement (session=\"b0e9e5b328da388ad793df198ee0595a\", element=\"f.E38F6FC4A4369B8922FA93F53CD2D6A2.d.DAFA259A6C41E392AEB453427F993F78.e.3700\")>, <selenium.webdriver.remote.webelement.WebElement (session=\"b0e9e5b328da388ad793df198ee0595a\", element=\"f.E38F6FC4A4369B8922FA93F53CD2D6A2.d.DAFA259A6C41E392AEB453427F993F78.e.3747\")>, <selenium.webdriver.remote.webelement.WebElement (session=\"b0e9e5b328da388ad793df198ee0595a\", element=\"f.E38F6FC4A4369B8922FA93F53CD2D6A2.d.DAFA259A6C41E392AEB453427F993F78.e.3794\")>, <selenium.webdriver.remote.webelement.WebElement (session=\"b0e9e5b328da388ad793df198ee0595a\", element=\"f.E38F6FC4A4369B8922FA93F53CD2D6A2.d.DAFA259A6C41E392AEB453427F993F78.e.3841\")>, <selenium.webdriver.remote.webelement.WebElement (session=\"b0e9e5b328da388ad793df198ee0595a\", element=\"f.E38F6FC4A4369B8922FA93F53CD2D6A2.d.DAFA259A6C41E392AEB453427F993F78.e.3888\")>, <selenium.webdriver.remote.webelement.WebElement (session=\"b0e9e5b328da388ad793df198ee0595a\", element=\"f.E38F6FC4A4369B8922FA93F53CD2D6A2.d.DAFA259A6C41E392AEB453427F993F78.e.3935\")>, <selenium.webdriver.remote.webelement.WebElement (session=\"b0e9e5b328da388ad793df198ee0595a\", element=\"f.E38F6FC4A4369B8922FA93F53CD2D6A2.d.DAFA259A6C41E392AEB453427F993F78.e.3985\")>, <selenium.webdriver.remote.webelement.WebElement (session=\"b0e9e5b328da388ad793df198ee0595a\", element=\"f.E38F6FC4A4369B8922FA93F53CD2D6A2.d.DAFA259A6C41E392AEB453427F993F78.e.4034\")>, <selenium.webdriver.remote.webelement.WebElement (session=\"b0e9e5b328da388ad793df198ee0595a\", element=\"f.E38F6FC4A4369B8922FA93F53CD2D6A2.d.DAFA259A6C41E392AEB453427F993F78.e.4084\")>, <selenium.webdriver.remote.webelement.WebElement (session=\"b0e9e5b328da388ad793df198ee0595a\", element=\"f.E38F6FC4A4369B8922FA93F53CD2D6A2.d.DAFA259A6C41E392AEB453427F993F78.e.4134\")>, <selenium.webdriver.remote.webelement.WebElement (session=\"b0e9e5b328da388ad793df198ee0595a\", element=\"f.E38F6FC4A4369B8922FA93F53CD2D6A2.d.DAFA259A6C41E392AEB453427F993F78.e.4182\")>, <selenium.webdriver.remote.webelement.WebElement (session=\"b0e9e5b328da388ad793df198ee0595a\", element=\"f.E38F6FC4A4369B8922FA93F53CD2D6A2.d.DAFA259A6C41E392AEB453427F993F78.e.4213\")>, <selenium.webdriver.remote.webelement.WebElement (session=\"b0e9e5b328da388ad793df198ee0595a\", element=\"f.E38F6FC4A4369B8922FA93F53CD2D6A2.d.DAFA259A6C41E392AEB453427F993F78.e.631\")>, <selenium.webdriver.remote.webelement.WebElement (session=\"b0e9e5b328da388ad793df198ee0595a\", element=\"f.E38F6FC4A4369B8922FA93F53CD2D6A2.d.DAFA259A6C41E392AEB453427F993F78.e.655\")>, <selenium.webdriver.remote.webelement.WebElement (session=\"b0e9e5b328da388ad793df198ee0595a\", element=\"f.E38F6FC4A4369B8922FA93F53CD2D6A2.d.DAFA259A6C41E392AEB453427F993F78.e.680\")>, <selenium.webdriver.remote.webelement.WebElement (session=\"b0e9e5b328da388ad793df198ee0595a\", element=\"f.E38F6FC4A4369B8922FA93F53CD2D6A2.d.DAFA259A6C41E392AEB453427F993F78.e.705\")>, <selenium.webdriver.remote.webelement.WebElement (session=\"b0e9e5b328da388ad793df198ee0595a\", element=\"f.E38F6FC4A4369B8922FA93F53CD2D6A2.d.DAFA259A6C41E392AEB453427F993F78.e.4344\")>, <selenium.webdriver.remote.webelement.WebElement (session=\"b0e9e5b328da388ad793df198ee0595a\", element=\"f.E38F6FC4A4369B8922FA93F53CD2D6A2.d.DAFA259A6C41E392AEB453427F993F78.e.4390\")>, <selenium.webdriver.remote.webelement.WebElement (session=\"b0e9e5b328da388ad793df198ee0595a\", element=\"f.E38F6FC4A4369B8922FA93F53CD2D6A2.d.DAFA259A6C41E392AEB453427F993F78.e.4439\")>, <selenium.webdriver.remote.webelement.WebElement (session=\"b0e9e5b328da388ad793df198ee0595a\", element=\"f.E38F6FC4A4369B8922FA93F53CD2D6A2.d.DAFA259A6C41E392AEB453427F993F78.e.4487\")>, <selenium.webdriver.remote.webelement.WebElement (session=\"b0e9e5b328da388ad793df198ee0595a\", element=\"f.E38F6FC4A4369B8922FA93F53CD2D6A2.d.DAFA259A6C41E392AEB453427F993F78.e.4535\")>, <selenium.webdriver.remote.webelement.WebElement (session=\"b0e9e5b328da388ad793df198ee0595a\", element=\"f.E38F6FC4A4369B8922FA93F53CD2D6A2.d.DAFA259A6C41E392AEB453427F993F78.e.4582\")>, <selenium.webdriver.remote.webelement.WebElement (session=\"b0e9e5b328da388ad793df198ee0595a\", element=\"f.E38F6FC4A4369B8922FA93F53CD2D6A2.d.DAFA259A6C41E392AEB453427F993F78.e.4627\")>, <selenium.webdriver.remote.webelement.WebElement (session=\"b0e9e5b328da388ad793df198ee0595a\", element=\"f.E38F6FC4A4369B8922FA93F53CD2D6A2.d.DAFA259A6C41E392AEB453427F993F78.e.4672\")>, <selenium.webdriver.remote.webelement.WebElement (session=\"b0e9e5b328da388ad793df198ee0595a\", element=\"f.E38F6FC4A4369B8922FA93F53CD2D6A2.d.DAFA259A6C41E392AEB453427F993F78.e.4716\")>, <selenium.webdriver.remote.webelement.WebElement (session=\"b0e9e5b328da388ad793df198ee0595a\", element=\"f.E38F6FC4A4369B8922FA93F53CD2D6A2.d.DAFA259A6C41E392AEB453427F993F78.e.4761\")>, <selenium.webdriver.remote.webelement.WebElement (session=\"b0e9e5b328da388ad793df198ee0595a\", element=\"f.E38F6FC4A4369B8922FA93F53CD2D6A2.d.DAFA259A6C41E392AEB453427F993F78.e.4807\")>, <selenium.webdriver.remote.webelement.WebElement (session=\"b0e9e5b328da388ad793df198ee0595a\", element=\"f.E38F6FC4A4369B8922FA93F53CD2D6A2.d.DAFA259A6C41E392AEB453427F993F78.e.4852\")>, <selenium.webdriver.remote.webelement.WebElement (session=\"b0e9e5b328da388ad793df198ee0595a\", element=\"f.E38F6FC4A4369B8922FA93F53CD2D6A2.d.DAFA259A6C41E392AEB453427F993F78.e.4895\")>, <selenium.webdriver.remote.webelement.WebElement (session=\"b0e9e5b328da388ad793df198ee0595a\", element=\"f.E38F6FC4A4369B8922FA93F53CD2D6A2.d.DAFA259A6C41E392AEB453427F993F78.e.4940\")>]\n",
      "32 ['Máy giặt Aqua 8.2 kg AQW-S82JT.BK', 'Máy giặt Aqua inverter 13 kg AW13-BP4959K(S8)', 'Máy giặt Aqua inverter 12 kg AW12-BP4959U1K(W)', 'Máy giặt Aqua inverter 12 kg AW12-BP4959U1K(B)', 'Máy giặt Aqua inverter 12 kg AW12-B4959U1K(W)', 'Máy giặt Aqua inverter 12 kg AW12-B4959U1K(B)', 'Máy giặt Aqua inverter 10 kg AW10-B4959U1K(B)', 'Máy giặt Casper inverter 9 kg WF-9VG1', 'Máy giặt Hisense 8 kg WTZQ8012UT', 'Máy giặt Hisense 10.5 kg WTJA1015UT', 'Máy giặt Hisense inverter 13 kg WT5J1313DT', 'Máy giặt Hisense inverter 10.5 kg WT5J1013DT', 'Máy giặt Aqua inverter 10.5 kg AQD-A1051G.S', 'Máy giặt Aqua inverter 9.5 kg AQD-A951G.S', 'Máy giặt Toshiba inverter 10 kg AW-DM1100JV(MK)', 'Máy giặt Samsung Inverter 14 kg WA14CG5886BVSV', 'Máy Giặt Samsung Inverter 14 kg WA14CG5745BVSV', 'Máy giặt Samsung Inverter 12 kg WA12CG5886BVSV', 'Máy giặt Toshiba inverter 13 kg AW-DUM1400LV(MK)', 'Máy giặt Samsung AI Ecobubble inverter 11 kg WW11CB944DGBSV', 'Máy giặt Samsung AI Ecobubble inverter 12 kg WW12CGP44DSHSV', 'Máy giặt Samsung AI Ecobubble inverter 12 kg WW12CB944DGBSV', 'Máy giặt Samsung AI Ecobubble inverter 11 kg WW11CGP44DSHSV', 'Máy giặt Casper 8 kg WT-8NG2', 'Máy giặt Casper 8.5 kg WT-85NG1', 'Máy giặt Casper 7.5 kg WT-75NG1', 'Máy giặt Toshiba 10 kg AW-M1100JV(MK)', 'Máy giặt Aqua inverter 11 kg AQD-DW1100J(BK)', 'Máy giặt Aqua inverter 10 kg AQD-DW1000J(BK)', 'Máy giặt Toshiba inverter 10.5 kg TW-T21BU115UWV(MG)', 'Máy giặt Toshiba inverter 10 kg TW-T21BU110UWV(MG)', 'Máy giặt Toshiba inverter 9.5 kg TW-T21BU105UWV(MG)']\n"
     ]
    }
   ],
   "source": [
    "#tên sản pẩm\n",
    "list_product_names = []\n",
    "# tag_product_names = product_container.find_elements(by = By.TAG_NAME, value = 'h3')\n",
    "tag_product_names = product_container.find_elements(by = By.XPATH, value = '//div[@class=\"title-card\"]')\n",
    "print(tag_product_names)\n",
    "for tag_product_name in tag_product_names:\n",
    "    list_product_names.append(tag_product_name.text)\n",
    "else:\n",
    "    print(len(list_product_names), list_product_names)"
   ]
  },
  {
   "cell_type": "code",
   "execution_count": 74,
   "metadata": {},
   "outputs": [
    {
     "name": "stdout",
     "output_type": "stream",
     "text": [
      "32 ['5,290,000đ', '13,690,000đ', '11,990,000đ', '11,990,000đ', '13,690,000đ', '13,690,000đ', '11,990,000đ', '7,490,000đ', '4,690,000đ', '6,990,000đ', '8,990,000đ', '7,690,000đ', '10,490,000đ', '8,290,000đ', '8,490,000đ', '14,390,000đ', '12,990,000đ', '12,890,000đ', '9,990,000đ', '18,290,000đ', '18,690,000đ', '19,990,000đ', '16,790,000đ', '5,790,000đ', '5,490,000đ', '4,490,000đ', '7,490,000đ', '15,690,000đ', '13,990,000đ', '10,990,000đ', '10,690,000đ', '9,690,000đ']\n"
     ]
    }
   ],
   "source": [
    "original_price_list = []    \n",
    "original_prices = product_container.find_elements(by = By.CSS_SELECTOR, value = 'div.price-card.secondary-price span')\n",
    "for original_price in original_prices:\n",
    "    original_price_list.append(original_price.text)\n",
    "    \n",
    "print(len(original_price_list), original_price_list)    "
   ]
  },
  {
   "cell_type": "code",
   "execution_count": 75,
   "metadata": {},
   "outputs": [
    {
     "name": "stdout",
     "output_type": "stream",
     "text": [
      "32 ['4,690,000đ', '10,390,000đ', '8,990,000đ', '9,490,000đ', '10,290,000đ', '10,990,000đ', '8,990,000đ', '5,990,000đ', '3,490,000đ', '5,190,000đ', '7,550,000đ', '6,230,000đ', '7,890,000đ', '6,990,000đ', '6,990,000đ', '12,390,000đ', '10,890,000đ', '9,890,000đ', '8,990,000đ', '13,290,000đ', '15,990,000đ', '19,390,000đ', '15,290,000đ', '5,390,000đ', '3,790,000đ', '3,990,000đ', '6,490,000đ', '14,990,000đ', '13,490,000đ', '8,990,000đ', '9,990,000đ', '8,990,000đ']\n"
     ]
    }
   ],
   "source": [
    "Sale_price_list = []    \n",
    "Sale_prices = product_container.find_elements(by = By.CSS_SELECTOR, value = 'div.price-card.primary-price')\n",
    "for Sale_price in Sale_prices:\n",
    "    Sale_price_list.append(Sale_price.text)\n",
    "    \n",
    "print(len(Sale_price_list), Sale_price_list)    "
   ]
  },
  {
   "cell_type": "code",
   "execution_count": 87,
   "metadata": {},
   "outputs": [
    {
     "name": "stdout",
     "output_type": "stream",
     "text": [
      "['https://dienmaythiennamhoa.vn/static/images/thumbs/Images/4.%20hinh%20sp/3.%20Hinh%20SP%202/may-giat-aqua-8-2-kg-aqw-s82jt-bk-1.jpg', 'https://dienmaythiennamhoa.vn/static/images/thumbs/Images/4.%20hinh%20sp/3.%20Hinh%20SP%202/may-giat-aqua-inverter-13-kg-aw13-bp4959k-s8-1.jpg', 'https://dienmaythiennamhoa.vn/static/images/thumbs/Images/4.%20hinh%20sp/3.%20Hinh%20SP%202/may-giat-aqua-inverter-12-kg-aw12-bp4959u1k-w-1.jpg', 'https://dienmaythiennamhoa.vn/static/images/thumbs/Images/4.%20hinh%20sp/3.%20Hinh%20SP%202/may-giat-aqua-inverter-12-kg-aw12-bp4959u1k-b-1.jpg', 'https://dienmaythiennamhoa.vn/static/images/thumbs/Images/4.%20hinh%20sp/3.%20Hinh%20SP%202/may-giat-aqua-inverter-12-kg-aw12-b4959u1k-w-1.jpg', 'https://dienmaythiennamhoa.vn/static/images/thumbs/Images/4.%20hinh%20sp/3.%20Hinh%20SP%202/may-giat-aqua-inverter-12-kg-aw12-b4959u1k-b-1.jpg', 'https://dienmaythiennamhoa.vn/static/images/thumbs/Images/4.%20hinh%20sp/3.%20Hinh%20SP%202/may-giat-aqua-inverter-10-kg-aw10-b4959u1k-b-1.jpg', 'https://dienmaythiennamhoa.vn/static/images/thumbs/Images/4.%20hinh%20sp/3.%20Hinh%20SP%202/m%C3%A1y-gi%E1%BA%B7t-casper-inverter-9-kg-wf-9vg1-1.jpg', 'https://dienmaythiennamhoa.vn/static/images/thumbs/Images/4.%20hinh%20sp/3.%20Hinh%20SP%202/may-giat-hisense-8-kg-wtzq8012ut-1.jpg', 'https://dienmaythiennamhoa.vn/static/images/thumbs/Images/4.%20hinh%20sp/3.%20Hinh%20SP%202/may-giat-hisense-10-5-kg-wtja1015ut-1.jpg', 'https://dienmaythiennamhoa.vn/static/images/thumbs/Images/4.%20hinh%20sp/3.%20Hinh%20SP%202/may-giat-hisense-inverter-13-kg-wt5j1313dt-1.jpg', 'https://dienmaythiennamhoa.vn/static/images/thumbs/Images/4.%20hinh%20sp/3.%20Hinh%20SP%202/may-giat-hisense-inverter-10-5-kg-wt5j1013dt-1.jpg', 'https://dienmaythiennamhoa.vn/static/images/thumbs/Images/4.%20hinh%20sp/3.%20Hinh%20SP%202/may-giat-aqua-inverter-10-5-kg-aqd-a1051g-s-1.jpg', 'https://dienmaythiennamhoa.vn/static/images/thumbs/Images/4.%20hinh%20sp/3.%20Hinh%20SP%202/may-giat-aqua-inverter-9-5-kg-aqd-a951g-s-1.jpg', 'https://dienmaythiennamhoa.vn/static/images/thumbs/Images/4.%20hinh%20sp/3.%20Hinh%20SP%202/may-giat-toshiba-inverter-10-kg-aw-dm1100jv-mk-1.jpg', 'https://dienmaythiennamhoa.vn/static/images/thumbs/Images/m%C3%A1y%20gi%E1%BA%B7t/M%C3%A1y%20gi%E1%BA%B7t%20Samsung%20Inverter%2014%20kg%20WA14CG5886BVSV%201.jpg', 'https://dienmaythiennamhoa.vn/static/images/thumbs/Images/m%C3%A1y%20gi%E1%BA%B7t/MAY%20GIAT%20SAMSUNG%20WA14CG5745BVSV%201.jpg', 'https://dienmaythiennamhoa.vn/static/images/thumbs/Images/m%C3%A1y%20gi%E1%BA%B7t/M%C3%A1y%20gi%E1%BA%B7t%20Samsung%20Inverter%2012%20kg%20WA12CG5886BVSV%201.jpg', 'https://dienmaythiennamhoa.vn/static/images/thumbs/Images/4.%20hinh%20sp/3.%20Hinh%20SP%202/may-giat-toshiba-inverter-13-kg-aw-dum1400lv-mk-1.jpg', 'https://dienmaythiennamhoa.vn/static/images/thumbs/Images/4.%20hinh%20sp/3.%20Hinh%20SP%202/may-giat-samsung-ai-ecobubble-inverter-11-kg-ww11cb944dgbsv-1.jpg', 'https://dienmaythiennamhoa.vn/static/images/thumbs/Images/4.%20hinh%20sp/3.%20Hinh%20SP%202/may-giat-samsung-ai-ecobubble-inverter-12-kg-ww12cgp44dshsv-1.jpg', 'https://dienmaythiennamhoa.vn/static/images/thumbs/Images/4.%20hinh%20sp/3.%20Hinh%20SP%202/may-giat-samsung-ai-ecobubble-inverter-12-kg-ww12cb944dgbsv-1.jpg', 'https://dienmaythiennamhoa.vn/static/images/thumbs/Images/4.%20hinh%20sp/3.%20Hinh%20SP%202/may-giat-samsung-ai-ecobubble-inverter-11-kg-ww11cgp44dshsv-1.jpg', 'https://dienmaythiennamhoa.vn/static/images/thumbs/Images/4.%20hinh%20sp/3.%20Hinh%20SP%202/may-giat-casper-8-kg-wt-85ng2-1.jpg', 'https://dienmaythiennamhoa.vn/static/images/thumbs/Images/4.%20hinh%20sp/3.%20Hinh%20SP%202/may-giat-casper-8-5-kg-wt-85ng1-1.jpg', 'https://dienmaythiennamhoa.vn/static/images/thumbs/Images/4.%20hinh%20sp/3.%20Hinh%20SP%202/may-giat-casper-7-5-kg-wt-75ng1-1.jpg', 'https://dienmaythiennamhoa.vn/static/images/thumbs/Images/4.%20hinh%20sp/3.%20Hinh%20SP%202/may-giat-toshiba-10-kg-aw-m1100jv-mk-1.jpg', 'https://dienmaythiennamhoa.vn/static/images/thumbs/Images/4.%20hinh%20sp/3.%20Hinh%20SP%202/may-giat-aqua-inverter-11-kg-aqd-dw1100j-bk-1.jpg', 'https://dienmaythiennamhoa.vn/static/images/thumbs/Images/4.%20hinh%20sp/3.%20Hinh%20SP%202/may-giat-aqua-inverter-10-kg-aqd-dw1000j-bk-1-1.jpg', 'https://dienmaythiennamhoa.vn/static/images/thumbs/Images/4.%20hinh%20sp/3.%20Hinh%20SP%202/may-giat-toshiba-inverter-10-5-kg-tw-t21bu115uwv-mg-1.jpg', 'https://dienmaythiennamhoa.vn/static/images/thumbs/Images/4.%20hinh%20sp/3.%20Hinh%20SP%202/may-giat-toshiba-inverter-10-kg-tw-t21bu110uwv-mg-1.jpg', 'https://dienmaythiennamhoa.vn/static/images/thumbs/Images/4.%20hinh%20sp/3.%20Hinh%20SP%202/may-giat-toshiba-inverter-9-5-kg-tw-t21bu105uwv-mg-1.jpg']\n"
     ]
    }
   ],
   "source": [
    "img_list = []    \n",
    "image_listt = product_container.find_elements(by = By.CSS_SELECTOR, value = 'div.image-card-cate img')\n",
    "for img in image_listt:\n",
    "    img_list.append(img.get_attribute('data-src'))\n",
    "    \n",
    "print(img_list)    "
   ]
  },
  {
   "cell_type": "code",
   "execution_count": 92,
   "metadata": {},
   "outputs": [
    {
     "name": "stdout",
     "output_type": "stream",
     "text": [
      "https://dienmaythiennamhoa.vn/static/images/thumbs/Images/4.%20hinh%20sp/3.%20Hinh%20SP%202/may-giat-aqua-8-2-kg-aqw-s82jt-bk-1.jpg\n",
      "Downloaded image at: may giat hinh/may-giat-aqua-8-2-kg-aqw-s82jt-bk-1.jpg\n",
      "https://dienmaythiennamhoa.vn/static/images/thumbs/Images/4.%20hinh%20sp/3.%20Hinh%20SP%202/may-giat-aqua-inverter-13-kg-aw13-bp4959k-s8-1.jpg\n",
      "Downloaded image at: may giat hinh/may-giat-aqua-inverter-13-kg-aw13-bp4959k-s8-1.jpg\n",
      "https://dienmaythiennamhoa.vn/static/images/thumbs/Images/4.%20hinh%20sp/3.%20Hinh%20SP%202/may-giat-aqua-inverter-12-kg-aw12-bp4959u1k-w-1.jpg\n",
      "Downloaded image at: may giat hinh/may-giat-aqua-inverter-12-kg-aw12-bp4959u1k-w-1.jpg\n",
      "https://dienmaythiennamhoa.vn/static/images/thumbs/Images/4.%20hinh%20sp/3.%20Hinh%20SP%202/may-giat-aqua-inverter-12-kg-aw12-bp4959u1k-b-1.jpg\n",
      "Downloaded image at: may giat hinh/may-giat-aqua-inverter-12-kg-aw12-bp4959u1k-b-1.jpg\n",
      "https://dienmaythiennamhoa.vn/static/images/thumbs/Images/4.%20hinh%20sp/3.%20Hinh%20SP%202/may-giat-aqua-inverter-12-kg-aw12-b4959u1k-w-1.jpg\n",
      "Downloaded image at: may giat hinh/may-giat-aqua-inverter-12-kg-aw12-b4959u1k-w-1.jpg\n",
      "https://dienmaythiennamhoa.vn/static/images/thumbs/Images/4.%20hinh%20sp/3.%20Hinh%20SP%202/may-giat-aqua-inverter-12-kg-aw12-b4959u1k-b-1.jpg\n",
      "Downloaded image at: may giat hinh/may-giat-aqua-inverter-12-kg-aw12-b4959u1k-b-1.jpg\n",
      "https://dienmaythiennamhoa.vn/static/images/thumbs/Images/4.%20hinh%20sp/3.%20Hinh%20SP%202/may-giat-aqua-inverter-10-kg-aw10-b4959u1k-b-1.jpg\n",
      "Downloaded image at: may giat hinh/may-giat-aqua-inverter-10-kg-aw10-b4959u1k-b-1.jpg\n",
      "https://dienmaythiennamhoa.vn/static/images/thumbs/Images/4.%20hinh%20sp/3.%20Hinh%20SP%202/m%C3%A1y-gi%E1%BA%B7t-casper-inverter-9-kg-wf-9vg1-1.jpg\n",
      "Downloaded image at: may giat hinh/m%C3%A1y-gi%E1%BA%B7t-casper-inverter-9-kg-wf-9vg1-1.jpg\n",
      "https://dienmaythiennamhoa.vn/static/images/thumbs/Images/4.%20hinh%20sp/3.%20Hinh%20SP%202/may-giat-hisense-8-kg-wtzq8012ut-1.jpg\n",
      "Downloaded image at: may giat hinh/may-giat-hisense-8-kg-wtzq8012ut-1.jpg\n",
      "https://dienmaythiennamhoa.vn/static/images/thumbs/Images/4.%20hinh%20sp/3.%20Hinh%20SP%202/may-giat-hisense-10-5-kg-wtja1015ut-1.jpg\n",
      "Downloaded image at: may giat hinh/may-giat-hisense-10-5-kg-wtja1015ut-1.jpg\n",
      "https://dienmaythiennamhoa.vn/static/images/thumbs/Images/4.%20hinh%20sp/3.%20Hinh%20SP%202/may-giat-hisense-inverter-13-kg-wt5j1313dt-1.jpg\n",
      "Downloaded image at: may giat hinh/may-giat-hisense-inverter-13-kg-wt5j1313dt-1.jpg\n",
      "https://dienmaythiennamhoa.vn/static/images/thumbs/Images/4.%20hinh%20sp/3.%20Hinh%20SP%202/may-giat-hisense-inverter-10-5-kg-wt5j1013dt-1.jpg\n",
      "Downloaded image at: may giat hinh/may-giat-hisense-inverter-10-5-kg-wt5j1013dt-1.jpg\n",
      "https://dienmaythiennamhoa.vn/static/images/thumbs/Images/4.%20hinh%20sp/3.%20Hinh%20SP%202/may-giat-aqua-inverter-10-5-kg-aqd-a1051g-s-1.jpg\n",
      "Downloaded image at: may giat hinh/may-giat-aqua-inverter-10-5-kg-aqd-a1051g-s-1.jpg\n",
      "https://dienmaythiennamhoa.vn/static/images/thumbs/Images/4.%20hinh%20sp/3.%20Hinh%20SP%202/may-giat-aqua-inverter-9-5-kg-aqd-a951g-s-1.jpg\n",
      "Downloaded image at: may giat hinh/may-giat-aqua-inverter-9-5-kg-aqd-a951g-s-1.jpg\n",
      "https://dienmaythiennamhoa.vn/static/images/thumbs/Images/4.%20hinh%20sp/3.%20Hinh%20SP%202/may-giat-toshiba-inverter-10-kg-aw-dm1100jv-mk-1.jpg\n",
      "Downloaded image at: may giat hinh/may-giat-toshiba-inverter-10-kg-aw-dm1100jv-mk-1.jpg\n",
      "https://dienmaythiennamhoa.vn/static/images/thumbs/Images/m%C3%A1y%20gi%E1%BA%B7t/M%C3%A1y%20gi%E1%BA%B7t%20Samsung%20Inverter%2014%20kg%20WA14CG5886BVSV%201.jpg\n",
      "Downloaded image at: may giat hinh/M%C3%A1y%20gi%E1%BA%B7t%20Samsung%20Inverter%2014%20kg%20WA14CG5886BVSV%201.jpg\n",
      "https://dienmaythiennamhoa.vn/static/images/thumbs/Images/m%C3%A1y%20gi%E1%BA%B7t/MAY%20GIAT%20SAMSUNG%20WA14CG5745BVSV%201.jpg\n",
      "Downloaded image at: may giat hinh/MAY%20GIAT%20SAMSUNG%20WA14CG5745BVSV%201.jpg\n",
      "https://dienmaythiennamhoa.vn/static/images/thumbs/Images/m%C3%A1y%20gi%E1%BA%B7t/M%C3%A1y%20gi%E1%BA%B7t%20Samsung%20Inverter%2012%20kg%20WA12CG5886BVSV%201.jpg\n",
      "Downloaded image at: may giat hinh/M%C3%A1y%20gi%E1%BA%B7t%20Samsung%20Inverter%2012%20kg%20WA12CG5886BVSV%201.jpg\n",
      "https://dienmaythiennamhoa.vn/static/images/thumbs/Images/4.%20hinh%20sp/3.%20Hinh%20SP%202/may-giat-toshiba-inverter-13-kg-aw-dum1400lv-mk-1.jpg\n",
      "Downloaded image at: may giat hinh/may-giat-toshiba-inverter-13-kg-aw-dum1400lv-mk-1.jpg\n",
      "https://dienmaythiennamhoa.vn/static/images/thumbs/Images/4.%20hinh%20sp/3.%20Hinh%20SP%202/may-giat-samsung-ai-ecobubble-inverter-11-kg-ww11cb944dgbsv-1.jpg\n",
      "Downloaded image at: may giat hinh/may-giat-samsung-ai-ecobubble-inverter-11-kg-ww11cb944dgbsv-1.jpg\n",
      "https://dienmaythiennamhoa.vn/static/images/thumbs/Images/4.%20hinh%20sp/3.%20Hinh%20SP%202/may-giat-samsung-ai-ecobubble-inverter-12-kg-ww12cgp44dshsv-1.jpg\n",
      "Downloaded image at: may giat hinh/may-giat-samsung-ai-ecobubble-inverter-12-kg-ww12cgp44dshsv-1.jpg\n",
      "https://dienmaythiennamhoa.vn/static/images/thumbs/Images/4.%20hinh%20sp/3.%20Hinh%20SP%202/may-giat-samsung-ai-ecobubble-inverter-12-kg-ww12cb944dgbsv-1.jpg\n",
      "Downloaded image at: may giat hinh/may-giat-samsung-ai-ecobubble-inverter-12-kg-ww12cb944dgbsv-1.jpg\n",
      "https://dienmaythiennamhoa.vn/static/images/thumbs/Images/4.%20hinh%20sp/3.%20Hinh%20SP%202/may-giat-samsung-ai-ecobubble-inverter-11-kg-ww11cgp44dshsv-1.jpg\n",
      "Downloaded image at: may giat hinh/may-giat-samsung-ai-ecobubble-inverter-11-kg-ww11cgp44dshsv-1.jpg\n",
      "https://dienmaythiennamhoa.vn/static/images/thumbs/Images/4.%20hinh%20sp/3.%20Hinh%20SP%202/may-giat-casper-8-kg-wt-85ng2-1.jpg\n",
      "Downloaded image at: may giat hinh/may-giat-casper-8-kg-wt-85ng2-1.jpg\n",
      "https://dienmaythiennamhoa.vn/static/images/thumbs/Images/4.%20hinh%20sp/3.%20Hinh%20SP%202/may-giat-casper-8-5-kg-wt-85ng1-1.jpg\n",
      "Downloaded image at: may giat hinh/may-giat-casper-8-5-kg-wt-85ng1-1.jpg\n",
      "https://dienmaythiennamhoa.vn/static/images/thumbs/Images/4.%20hinh%20sp/3.%20Hinh%20SP%202/may-giat-casper-7-5-kg-wt-75ng1-1.jpg\n",
      "Downloaded image at: may giat hinh/may-giat-casper-7-5-kg-wt-75ng1-1.jpg\n",
      "https://dienmaythiennamhoa.vn/static/images/thumbs/Images/4.%20hinh%20sp/3.%20Hinh%20SP%202/may-giat-toshiba-10-kg-aw-m1100jv-mk-1.jpg\n",
      "Downloaded image at: may giat hinh/may-giat-toshiba-10-kg-aw-m1100jv-mk-1.jpg\n",
      "https://dienmaythiennamhoa.vn/static/images/thumbs/Images/4.%20hinh%20sp/3.%20Hinh%20SP%202/may-giat-aqua-inverter-11-kg-aqd-dw1100j-bk-1.jpg\n",
      "Downloaded image at: may giat hinh/may-giat-aqua-inverter-11-kg-aqd-dw1100j-bk-1.jpg\n",
      "https://dienmaythiennamhoa.vn/static/images/thumbs/Images/4.%20hinh%20sp/3.%20Hinh%20SP%202/may-giat-aqua-inverter-10-kg-aqd-dw1000j-bk-1-1.jpg\n",
      "Downloaded image at: may giat hinh/may-giat-aqua-inverter-10-kg-aqd-dw1000j-bk-1-1.jpg\n",
      "https://dienmaythiennamhoa.vn/static/images/thumbs/Images/4.%20hinh%20sp/3.%20Hinh%20SP%202/may-giat-toshiba-inverter-10-5-kg-tw-t21bu115uwv-mg-1.jpg\n",
      "Downloaded image at: may giat hinh/may-giat-toshiba-inverter-10-5-kg-tw-t21bu115uwv-mg-1.jpg\n",
      "https://dienmaythiennamhoa.vn/static/images/thumbs/Images/4.%20hinh%20sp/3.%20Hinh%20SP%202/may-giat-toshiba-inverter-10-kg-tw-t21bu110uwv-mg-1.jpg\n",
      "Downloaded image at: may giat hinh/may-giat-toshiba-inverter-10-kg-tw-t21bu110uwv-mg-1.jpg\n",
      "https://dienmaythiennamhoa.vn/static/images/thumbs/Images/4.%20hinh%20sp/3.%20Hinh%20SP%202/may-giat-toshiba-inverter-9-5-kg-tw-t21bu105uwv-mg-1.jpg\n",
      "Downloaded image at: may giat hinh/may-giat-toshiba-inverter-9-5-kg-tw-t21bu105uwv-mg-1.jpg\n"
     ]
    }
   ],
   "source": [
    "for img in img_list:\n",
    "    img_name = img.split('/')[-1]\n",
    "    print(img)\n",
    "    download_image(img, f'may giat hinh/{img_name}')"
   ]
  }
 ],
 "metadata": {
  "kernelspec": {
   "display_name": "Python 3",
   "language": "python",
   "name": "python3"
  },
  "language_info": {
   "codemirror_mode": {
    "name": "ipython",
    "version": 3
   },
   "file_extension": ".py",
   "mimetype": "text/x-python",
   "name": "python",
   "nbconvert_exporter": "python",
   "pygments_lexer": "ipython3",
   "version": "3.11.9"
  }
 },
 "nbformat": 4,
 "nbformat_minor": 2
}
