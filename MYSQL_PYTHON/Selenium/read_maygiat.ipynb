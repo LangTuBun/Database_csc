{
 "cells": [
  {
   "cell_type": "code",
   "execution_count": 2,
   "metadata": {},
   "outputs": [],
   "source": [
    "from mylibs import *\n",
    "import pandas as pd\n",
    "import numpy as np"
   ]
  },
  {
   "cell_type": "code",
   "execution_count": 3,
   "metadata": {},
   "outputs": [
    {
     "data": {
      "text/html": [
       "<div>\n",
       "<style scoped>\n",
       "    .dataframe tbody tr th:only-of-type {\n",
       "        vertical-align: middle;\n",
       "    }\n",
       "\n",
       "    .dataframe tbody tr th {\n",
       "        vertical-align: top;\n",
       "    }\n",
       "\n",
       "    .dataframe thead th {\n",
       "        text-align: right;\n",
       "    }\n",
       "</style>\n",
       "<table border=\"1\" class=\"dataframe\">\n",
       "  <thead>\n",
       "    <tr style=\"text-align: right;\">\n",
       "      <th></th>\n",
       "      <th>Tên</th>\n",
       "      <th>Giá Gốc</th>\n",
       "      <th>Giá sale</th>\n",
       "    </tr>\n",
       "  </thead>\n",
       "  <tbody>\n",
       "    <tr>\n",
       "      <th>0</th>\n",
       "      <td>Máy giặt Aqua 8.2 kg AQW-S82JT.BK</td>\n",
       "      <td>5290000</td>\n",
       "      <td>5290000</td>\n",
       "    </tr>\n",
       "    <tr>\n",
       "      <th>1</th>\n",
       "      <td>Máy giặt Aqua inverter 13 kg AW13-BP4959K(S8)</td>\n",
       "      <td>13690000</td>\n",
       "      <td>13690000</td>\n",
       "    </tr>\n",
       "    <tr>\n",
       "      <th>2</th>\n",
       "      <td>Máy giặt Aqua inverter 12 kg AW12-BP4959U1K(W)</td>\n",
       "      <td>11990000</td>\n",
       "      <td>11990000</td>\n",
       "    </tr>\n",
       "    <tr>\n",
       "      <th>3</th>\n",
       "      <td>Máy giặt Aqua inverter 12 kg AW12-BP4959U1K(B)</td>\n",
       "      <td>11990000</td>\n",
       "      <td>11990000</td>\n",
       "    </tr>\n",
       "    <tr>\n",
       "      <th>4</th>\n",
       "      <td>Máy giặt Aqua inverter 12 kg AW12-B4959U1K(W)</td>\n",
       "      <td>13690000</td>\n",
       "      <td>13690000</td>\n",
       "    </tr>\n",
       "  </tbody>\n",
       "</table>\n",
       "</div>"
      ],
      "text/plain": [
       "                                              Tên   Giá Gốc  Giá sale\n",
       "0               Máy giặt Aqua 8.2 kg AQW-S82JT.BK   5290000   5290000\n",
       "1   Máy giặt Aqua inverter 13 kg AW13-BP4959K(S8)  13690000  13690000\n",
       "2  Máy giặt Aqua inverter 12 kg AW12-BP4959U1K(W)  11990000  11990000\n",
       "3  Máy giặt Aqua inverter 12 kg AW12-BP4959U1K(B)  11990000  11990000\n",
       "4   Máy giặt Aqua inverter 12 kg AW12-B4959U1K(W)  13690000  13690000"
      ]
     },
     "execution_count": 3,
     "metadata": {},
     "output_type": "execute_result"
    }
   ],
   "source": [
    "read_json('json_maygiat/maygiat_1.json')\n",
    "list_product_name = []\n",
    "list_product_og_price = []\n",
    "list_product_sale_price = []\n",
    "for i in range(0,223):\n",
    "    list_product_name.append(read_json(f'json_maygiat/maygiat_{i}.json')['product_name'])\n",
    "    list_product_og_price.append(int((read_json(f'json_maygiat/maygiat_{i}.json')['product_og_price']).replace('đ','').replace(',','')))\n",
    "    list_product_sale_price.append(int((read_json(f'json_maygiat/maygiat_{i}.json')['product_og_price']).replace('đ','').replace(',','')))\n",
    "dict_product = {\n",
    "    'Tên': list_product_name,\n",
    "    'Giá Gốc': list_product_og_price,\n",
    "    'Giá sale': list_product_sale_price\n",
    "}\n",
    "df = pd.DataFrame(dict_product)\n",
    "df.head()\n"
   ]
  },
  {
   "cell_type": "code",
   "execution_count": 4,
   "metadata": {},
   "outputs": [],
   "source": [
    "def format_currency(df : pd.DataFrame, columns : list) -> pd.DataFrame:\n",
    "    for column in columns:\n",
    "        df[column] = df[column].map('{:,}đ'.format)\n",
    "    return df"
   ]
  },
  {
   "cell_type": "code",
   "execution_count": 5,
   "metadata": {},
   "outputs": [
    {
     "name": "stderr",
     "output_type": "stream",
     "text": [
      "C:\\Users\\RAZER\\AppData\\Local\\Temp\\ipykernel_13776\\4280681111.py:3: SettingWithCopyWarning: \n",
      "A value is trying to be set on a copy of a slice from a DataFrame.\n",
      "Try using .loc[row_indexer,col_indexer] = value instead\n",
      "\n",
      "See the caveats in the documentation: https://pandas.pydata.org/pandas-docs/stable/user_guide/indexing.html#returning-a-view-versus-a-copy\n",
      "  df[column] = df[column].map('{:,}đ'.format)\n"
     ]
    },
    {
     "data": {
      "text/html": [
       "<div>\n",
       "<style scoped>\n",
       "    .dataframe tbody tr th:only-of-type {\n",
       "        vertical-align: middle;\n",
       "    }\n",
       "\n",
       "    .dataframe tbody tr th {\n",
       "        vertical-align: top;\n",
       "    }\n",
       "\n",
       "    .dataframe thead th {\n",
       "        text-align: right;\n",
       "    }\n",
       "</style>\n",
       "<table border=\"1\" class=\"dataframe\">\n",
       "  <thead>\n",
       "    <tr style=\"text-align: right;\">\n",
       "      <th></th>\n",
       "      <th>Tên</th>\n",
       "      <th>Giá Gốc</th>\n",
       "      <th>Giá sale</th>\n",
       "    </tr>\n",
       "  </thead>\n",
       "  <tbody>\n",
       "    <tr>\n",
       "      <th>33</th>\n",
       "      <td>Máy giặt LG inverter 10 kg FV1410S4W1</td>\n",
       "      <td>12,490,000đ</td>\n",
       "      <td>12,490,000đ</td>\n",
       "    </tr>\n",
       "    <tr>\n",
       "      <th>88</th>\n",
       "      <td>Máy giặt LG Inverter 10.5 kg T2350VSAB</td>\n",
       "      <td>7,390,000đ</td>\n",
       "      <td>7,390,000đ</td>\n",
       "    </tr>\n",
       "    <tr>\n",
       "      <th>126</th>\n",
       "      <td>Máy giặt LG Inverter 10kg FV1410S5W Z11</td>\n",
       "      <td>14,990,000đ</td>\n",
       "      <td>14,990,000đ</td>\n",
       "    </tr>\n",
       "    <tr>\n",
       "      <th>203</th>\n",
       "      <td>Máy Giặt LG Inverter 10.5 Kg T2350VSAW</td>\n",
       "      <td>7,990,000đ</td>\n",
       "      <td>7,990,000đ</td>\n",
       "    </tr>\n",
       "    <tr>\n",
       "      <th>205</th>\n",
       "      <td>Máy Giặt LG Inverter 10 kg T2310DSAM</td>\n",
       "      <td>8,900,000đ</td>\n",
       "      <td>8,900,000đ</td>\n",
       "    </tr>\n",
       "  </tbody>\n",
       "</table>\n",
       "</div>"
      ],
      "text/plain": [
       "                                         Tên      Giá Gốc     Giá sale\n",
       "33     Máy giặt LG inverter 10 kg FV1410S4W1  12,490,000đ  12,490,000đ\n",
       "88    Máy giặt LG Inverter 10.5 kg T2350VSAB   7,390,000đ   7,390,000đ\n",
       "126  Máy giặt LG Inverter 10kg FV1410S5W Z11  14,990,000đ  14,990,000đ\n",
       "203   Máy Giặt LG Inverter 10.5 Kg T2350VSAW   7,990,000đ   7,990,000đ\n",
       "205     Máy Giặt LG Inverter 10 kg T2310DSAM   8,900,000đ   8,900,000đ"
      ]
     },
     "execution_count": 5,
     "metadata": {},
     "output_type": "execute_result"
    }
   ],
   "source": [
    "df1 = df[(df['Tên'].str.contains('10', case=False)) & (df['Tên'].str.contains('lg',case = False)) & (df['Giá sale'] < 15000000)]\n",
    "df1 = format_currency(df1, ['Giá Gốc', 'Giá sale'])\n",
    "df1.head(100)"
   ]
  },
  {
   "cell_type": "code",
   "execution_count": 7,
   "metadata": {},
   "outputs": [
    {
     "ename": "AttributeError",
     "evalue": "'int' object has no attribute 'map'",
     "output_type": "error",
     "traceback": [
      "\u001b[1;31m---------------------------------------------------------------------------\u001b[0m",
      "\u001b[1;31mAttributeError\u001b[0m                            Traceback (most recent call last)",
      "Cell \u001b[1;32mIn[7], line 2\u001b[0m\n\u001b[0;32m      1\u001b[0m string \u001b[38;5;241m=\u001b[39m \u001b[38;5;124m\"\u001b[39m\u001b[38;5;124m10000\u001b[39m\u001b[38;5;124m\"\u001b[39m\n\u001b[1;32m----> 2\u001b[0m test \u001b[38;5;241m=\u001b[39m \u001b[38;5;28;43mint\u001b[39;49m\u001b[43m(\u001b[49m\u001b[43mstring\u001b[49m\u001b[43m)\u001b[49m\u001b[38;5;241;43m.\u001b[39;49m\u001b[43mmap\u001b[49m(\u001b[38;5;124m'\u001b[39m\u001b[38;5;132;01m{:,}\u001b[39;00m\u001b[38;5;124m'\u001b[39m\u001b[38;5;241m.\u001b[39mformat)\n",
      "\u001b[1;31mAttributeError\u001b[0m: 'int' object has no attribute 'map'"
     ]
    }
   ],
   "source": [
    "string = \"10000\"\n",
    "test = int(string).{:,}'.format"
   ]
  }
 ],
 "metadata": {
  "kernelspec": {
   "display_name": "Python 3",
   "language": "python",
   "name": "python3"
  },
  "language_info": {
   "codemirror_mode": {
    "name": "ipython",
    "version": 3
   },
   "file_extension": ".py",
   "mimetype": "text/x-python",
   "name": "python",
   "nbconvert_exporter": "python",
   "pygments_lexer": "ipython3",
   "version": "3.11.9"
  }
 },
 "nbformat": 4,
 "nbformat_minor": 2
}
