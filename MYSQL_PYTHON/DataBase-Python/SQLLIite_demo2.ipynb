{
 "cells": [
  {
   "cell_type": "code",
   "execution_count": 1,
   "metadata": {},
   "outputs": [],
   "source": [
    "%load_ext sql\n"
   ]
  },
  {
   "cell_type": "code",
   "execution_count": 2,
   "metadata": {},
   "outputs": [],
   "source": [
    "conn = 'sqlite:///ql_ban_hang.db'\n",
    "%sql $conn"
   ]
  },
  {
   "cell_type": "code",
   "execution_count": 3,
   "metadata": {},
   "outputs": [
    {
     "name": "stdout",
     "output_type": "stream",
     "text": [
      " * sqlite:///ql_ban_hang.db\n",
      "Done.\n"
     ]
    },
    {
     "data": {
      "text/html": [
       "<div>\n",
       "<style scoped>\n",
       "    .dataframe tbody tr th:only-of-type {\n",
       "        vertical-align: middle;\n",
       "    }\n",
       "\n",
       "    .dataframe tbody tr th {\n",
       "        vertical-align: top;\n",
       "    }\n",
       "\n",
       "    .dataframe thead th {\n",
       "        text-align: right;\n",
       "    }\n",
       "</style>\n",
       "<table border=\"1\" class=\"dataframe\">\n",
       "  <thead>\n",
       "    <tr style=\"text-align: right;\">\n",
       "      <th></th>\n",
       "      <th>Ma_so</th>\n",
       "      <th>Ten</th>\n",
       "      <th>Don_gia</th>\n",
       "      <th>Mo_ta</th>\n",
       "      <th>Hinh_anh</th>\n",
       "      <th>Ma_danh_muc</th>\n",
       "    </tr>\n",
       "  </thead>\n",
       "  <tbody>\n",
       "    <tr>\n",
       "      <th>0</th>\n",
       "      <td>1</td>\n",
       "      <td>Bạc Xỉu Đá</td>\n",
       "      <td>29000</td>\n",
       "      <td>Nếu Phin Sữa Đá dành cho các bạn đam mê vị đậm...</td>\n",
       "      <td>bac-xiu-da.png</td>\n",
       "      <td>2</td>\n",
       "    </tr>\n",
       "    <tr>\n",
       "      <th>1</th>\n",
       "      <td>2</td>\n",
       "      <td>Phin Sữa Đá</td>\n",
       "      <td>29000</td>\n",
       "      <td>Hương vị cà phê Việt Nam đích thực! Từng hạt c...</td>\n",
       "      <td>phin-sua-da.png</td>\n",
       "      <td>2</td>\n",
       "    </tr>\n",
       "    <tr>\n",
       "      <th>2</th>\n",
       "      <td>3</td>\n",
       "      <td>Phin Đen Đá</td>\n",
       "      <td>29000</td>\n",
       "      <td>Dành cho những tín đồ cà phê đích thực! Hương ...</td>\n",
       "      <td>phin-den-da.png</td>\n",
       "      <td>2</td>\n",
       "    </tr>\n",
       "    <tr>\n",
       "      <th>3</th>\n",
       "      <td>4</td>\n",
       "      <td>Phin Đen Nóng</td>\n",
       "      <td>29000</td>\n",
       "      <td>Dành cho những tín đồ cà phê đích thực! Hương ...</td>\n",
       "      <td>phin-den-nong.png</td>\n",
       "      <td>2</td>\n",
       "    </tr>\n",
       "    <tr>\n",
       "      <th>4</th>\n",
       "      <td>5</td>\n",
       "      <td>Phin Sữa Nóng</td>\n",
       "      <td>29000</td>\n",
       "      <td>Hương vị cà phê Việt Nam đích thực! Từng hạt c...</td>\n",
       "      <td>phin-sua-nong.png</td>\n",
       "      <td>2</td>\n",
       "    </tr>\n",
       "  </tbody>\n",
       "</table>\n",
       "</div>"
      ],
      "text/plain": [
       "   Ma_so            Ten  Don_gia  \\\n",
       "0      1     Bạc Xỉu Đá    29000   \n",
       "1      2    Phin Sữa Đá    29000   \n",
       "2      3    Phin Đen Đá    29000   \n",
       "3      4  Phin Đen Nóng    29000   \n",
       "4      5  Phin Sữa Nóng    29000   \n",
       "\n",
       "                                               Mo_ta           Hinh_anh  \\\n",
       "0  Nếu Phin Sữa Đá dành cho các bạn đam mê vị đậm...     bac-xiu-da.png   \n",
       "1  Hương vị cà phê Việt Nam đích thực! Từng hạt c...    phin-sua-da.png   \n",
       "2  Dành cho những tín đồ cà phê đích thực! Hương ...    phin-den-da.png   \n",
       "3  Dành cho những tín đồ cà phê đích thực! Hương ...  phin-den-nong.png   \n",
       "4  Hương vị cà phê Việt Nam đích thực! Từng hạt c...  phin-sua-nong.png   \n",
       "\n",
       "   Ma_danh_muc  \n",
       "0            2  \n",
       "1            2  \n",
       "2            2  \n",
       "3            2  \n",
       "4            2  "
      ]
     },
     "execution_count": 3,
     "metadata": {},
     "output_type": "execute_result"
    }
   ],
   "source": [
    "result1 = %sql select * from SanPham limit 5\n",
    "df = result1.DataFrame()\n",
    "df.head()"
   ]
  }
 ],
 "metadata": {
  "kernelspec": {
   "display_name": "Python 3",
   "language": "python",
   "name": "python3"
  },
  "language_info": {
   "codemirror_mode": {
    "name": "ipython",
    "version": 3
   },
   "file_extension": ".py",
   "mimetype": "text/x-python",
   "name": "python",
   "nbconvert_exporter": "python",
   "pygments_lexer": "ipython3",
   "version": "3.11.9"
  }
 },
 "nbformat": 4,
 "nbformat_minor": 2
}
